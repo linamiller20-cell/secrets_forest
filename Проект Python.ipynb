{
 "cells": [
  {
   "cell_type": "markdown",
   "id": "e06910dd",
   "metadata": {
    "id": "e06910dd"
   },
   "source": [
    "# Проект спринта \"Секреты Темнолесья\"\n",
    "\n",
    "- Автор: Виктория Саватнеева\n",
    "- Дата: 02.08.2025"
   ]
  },
  {
   "cell_type": "markdown",
   "id": "4149134c",
   "metadata": {
    "id": "4149134c"
   },
   "source": [
    "### Цели и задачи проекта\n",
    "\n",
    "<font color='#777778'>Целью проекта является знакомство с данными, их предобработка и дальнейшая обработка. В задачи входит анализ на наличие пропусков, выявление явных/неявных дубликатов, приведение значений к нужному типу данных, а также задачами является категоризация обработанных данных и выделение топа платформ по количеству игр. </font>"
   ]
  },
  {
   "cell_type": "markdown",
   "id": "728986ea",
   "metadata": {
    "id": "728986ea"
   },
   "source": [
    "### Описание данных\n",
    "<font color='#777778'>\n",
    "    \n",
    "- Name — название игры.\n",
    "- Platform — название платформы.\n",
    "- Year of Release — год выпуска игры.\n",
    "- Genre — жанр игры.\n",
    "- NA sales — продажи в Северной Америке (в миллионах проданных копий).\n",
    "- EU sales — продажи в Европе (в миллионах проданных копий).\n",
    "- JP sales — продажи в Японии (в миллионах проданных копий).\n",
    "- Other sales — продажи в других странах (в миллионах проданных копий).\n",
    "- Critic Score — оценка критиков (от 0 до 100).\n",
    "- User Score — оценка пользователей (от 0 до 10).\n",
    "- Rating — рейтинг организации ESRB (англ. Entertainment Software Rating Board). Эта ассоциация определяет рейтинг компьютерных игр и присваивает им подходящую возрастную категорию. </font>"
   ]
  },
  {
   "cell_type": "markdown",
   "id": "4fecaf95",
   "metadata": {
    "id": "4fecaf95"
   },
   "source": [
    "### Содержимое проекта\n",
    "\n",
    "<font color='#777778'>\n",
    "\n",
    "1. Загрузка данных и знакомство с ними\n",
    "2. Проверка ошибок в данных и их предобработка\n",
    "3. Фильтрация данных\n",
    "4. Категоризация данных\n",
    "5. Итоговый вывод\n",
    "    \n",
    "    </font>"
   ]
  },
  {
   "cell_type": "markdown",
   "id": "6f7d21d6",
   "metadata": {
    "id": "6f7d21d6"
   },
   "source": [
    "## 1. Загрузка данных и знакомство с ними\n",
    "\n",
    "- Загрузите необходимые библиотеки Python и данные датасета `/datasets/new_games.csv`.\n"
   ]
  },
  {
   "cell_type": "markdown",
   "id": "e0a8705f",
   "metadata": {
    "id": "e0a8705f"
   },
   "source": [
    "- Познакомьтесь с данными: выведите первые строки и результат метода `info()`.\n"
   ]
  },
  {
   "cell_type": "code",
   "execution_count": 1,
   "id": "3937acf7",
   "metadata": {
    "id": "3937acf7"
   },
   "outputs": [],
   "source": [
    "import pandas as pd"
   ]
  },
  {
   "cell_type": "code",
   "execution_count": 2,
   "id": "d7c8eb4b",
   "metadata": {
    "id": "d7c8eb4b"
   },
   "outputs": [],
   "source": [
    "df = pd.read_csv('https://code.s3.yandex.net/datasets/new_games.csv')"
   ]
  },
  {
   "cell_type": "markdown",
   "id": "26267bc0",
   "metadata": {
    "id": "26267bc0"
   },
   "source": [
    "- Сделайте вывод о полученных данных: данные какого объёма вам предоставили, соответствуют ли они описанию, встречаются ли в них пропуски, используются ли верные типы данных.\n",
    "- Отметьте другие особенности данных, которые вы обнаружили и на которые стоит обратить внимание при предобработке. Например, вы можете проверить названия столбцов: все ли названия отражают содержимое данных и прописаны в удобном для работы виде."
   ]
  },
  {
   "cell_type": "markdown",
   "id": "05f55eb6",
   "metadata": {
    "id": "05f55eb6"
   },
   "source": [
    "<font color='#777778'>Используйте ячейки типа Markdown для промежуточных выводов и расширенных комментариев к действиям с данными. </font>"
   ]
  },
  {
   "cell_type": "markdown",
   "id": "0262246a",
   "metadata": {
    "id": "81651b8d"
   },
   "source": [
    "Данные представлены 11 столбцами и всего 16955 строками, нумерация начинается с 0. Данные соответствуют описанию, но в данных встречаются пропуски, причем в некоторых столбцах значительные (например, 8 столбец оценка критиков содержит наибольшее количество пропусков в данных). Не везде используются верные типы данных: например, в столбцах, где ожидается числовое значение, тип object."
   ]
  },
  {
   "cell_type": "markdown",
   "id": "4a95899c",
   "metadata": {
    "id": "191981db"
   },
   "source": [
    "Столбцы расположены в хаотичном порядке, продажи по странам я бы перенесла в число последних столбцов, а рейтинг, оценку пользователей и критиков поместила бы в начало."
   ]
  },
  {
   "cell_type": "markdown",
   "id": "0148b937",
   "metadata": {},
   "source": [
    "Названия столбцов также следует переименовать на более корректные названия, удобные для анализа и отражающие суть содержимых данных. Для корректности названия лучше использовать единый стиль написания (na_sales, eu_sales, jp_sales)"
   ]
  },
  {
   "cell_type": "markdown",
   "id": "774bf76e",
   "metadata": {
    "id": "774bf76e"
   },
   "source": [
    "---\n",
    "\n",
    "## 2.  Проверка ошибок в данных и их предобработка\n",
    "\n",
    "\n",
    "### 2.1. Названия, или метки, столбцов датафрейма\n",
    "\n",
    "- Выведите на экран названия всех столбцов датафрейма и проверьте их стиль написания.\n",
    "- Приведите все столбцы к стилю snake case. Названия должны быть в нижнем регистре, а вместо пробелов — подчёркивания."
   ]
  },
  {
   "cell_type": "code",
   "execution_count": 3,
   "id": "b9276a2b",
   "metadata": {
    "id": "b9276a2b"
   },
   "outputs": [
    {
     "name": "stdout",
     "output_type": "stream",
     "text": [
      "Index(['Name', 'Platform', 'Year of Release', 'Genre', 'NA sales', 'EU sales',\n",
      "       'JP sales', 'Other sales', 'Critic Score', 'User Score', 'Rating'],\n",
      "      dtype='object')\n"
     ]
    }
   ],
   "source": [
    "print(df.columns)"
   ]
  },
  {
   "cell_type": "code",
   "execution_count": 4,
   "id": "9ccca326",
   "metadata": {
    "scrolled": true
   },
   "outputs": [],
   "source": [
    "df.columns = df.columns.str.lower().str.replace(' ', '_')"
   ]
  },
  {
   "cell_type": "markdown",
   "id": "41bc6bf8",
   "metadata": {
    "id": "41bc6bf8"
   },
   "source": [
    "### 2.2. Типы данных\n",
    "\n",
    "- Если встречаются некорректные типы данных, предположите их причины.\n",
    "- При необходимости проведите преобразование типов данных. Помните, что столбцы с числовыми данными и пропусками нельзя преобразовать к типу `int64`. Сначала вам понадобится обработать пропуски, а затем преобразовать типы данных."
   ]
  },
  {
   "cell_type": "code",
   "execution_count": 5,
   "id": "8adaac81",
   "metadata": {
    "id": "8adaac81"
   },
   "outputs": [
    {
     "name": "stdout",
     "output_type": "stream",
     "text": [
      "                                name platform  year_of_release         genre  \\\n",
      "0                         Wii Sports      Wii           2006.0        Sports   \n",
      "1                  Super Mario Bros.      NES           1985.0      Platform   \n",
      "2                     Mario Kart Wii      Wii           2008.0        Racing   \n",
      "3                  Wii Sports Resort      Wii           2009.0        Sports   \n",
      "4           Pokemon Red/Pokemon Blue       GB           1996.0  Role-Playing   \n",
      "...                              ...      ...              ...           ...   \n",
      "16951  Samurai Warriors: Sanada Maru      PS3           2016.0        Action   \n",
      "16952               LMA Manager 2007     X360           2006.0        Sports   \n",
      "16953        Haitaka no Psychedelica      PSV           2016.0     Adventure   \n",
      "16954               Spirits & Spells      GBA           2003.0      Platform   \n",
      "16955            Winning Post 8 2016      PSV           2016.0    Simulation   \n",
      "\n",
      "       na_sales eu_sales jp_sales  other_sales  critic_score user_score rating  \n",
      "0         41.36    28.96     3.77         8.45          76.0          8      E  \n",
      "1         29.08     3.58     6.81         0.77           NaN        NaN    NaN  \n",
      "2         15.68    12.76     3.79         3.29          82.0        8.3      E  \n",
      "3         15.61    10.93     3.28         2.95          80.0          8      E  \n",
      "4         11.27     8.89    10.22         1.00           NaN        NaN    NaN  \n",
      "...         ...      ...      ...          ...           ...        ...    ...  \n",
      "16951      0.00      0.0     0.01         0.00           NaN        NaN    NaN  \n",
      "16952      0.00     0.01      0.0         0.00           NaN        NaN    NaN  \n",
      "16953      0.00      0.0     0.01         0.00           NaN        NaN    NaN  \n",
      "16954      0.01      0.0      0.0         0.00           NaN        NaN    NaN  \n",
      "16955      0.00      0.0     0.01         0.00           NaN        NaN    NaN  \n",
      "\n",
      "[16956 rows x 11 columns]\n"
     ]
    }
   ],
   "source": [
    "print(df)"
   ]
  },
  {
   "cell_type": "markdown",
   "id": "cc9caed6",
   "metadata": {
    "id": "e8412c01"
   },
   "source": [
    "Видим, что некорректно указан тип данных в столбце year_of_release, скорее всего данные вносились с целочисленным форматом ячейки, из-за чего могла возникнуть такая ошибка.\n",
    "\n",
    "Заменим тип данных только в столбцах с некорректным типом, но корректной записью данных, в которых не встречаются пропуски"
   ]
  },
  {
   "cell_type": "markdown",
   "id": "63378edf",
   "metadata": {
    "id": "63378edf"
   },
   "source": [
    "- В числовых столбцах могут встретиться строковые значения, например `unknown` или другие. Приводите такие столбцы к числовому типу данных, заменив строковые значения на пропуски."
   ]
  },
  {
   "cell_type": "code",
   "execution_count": 6,
   "id": "5033ee32",
   "metadata": {
    "id": "5033ee32"
   },
   "outputs": [],
   "source": [
    "import numpy as np"
   ]
  },
  {
   "cell_type": "code",
   "execution_count": 7,
   "id": "3a26fb26",
   "metadata": {
    "id": "3a26fb26"
   },
   "outputs": [],
   "source": [
    "df[['eu_sales', 'jp_sales']] = df[['eu_sales', 'jp_sales']].replace('unknown', np.nan).astype('float64')"
   ]
  },
  {
   "cell_type": "code",
   "execution_count": 8,
   "id": "11003d69",
   "metadata": {
    "id": "11003d69"
   },
   "outputs": [
    {
     "name": "stdout",
     "output_type": "stream",
     "text": [
      "<class 'pandas.core.frame.DataFrame'>\n",
      "RangeIndex: 16956 entries, 0 to 16955\n",
      "Data columns (total 11 columns):\n",
      " #   Column           Non-Null Count  Dtype  \n",
      "---  ------           --------------  -----  \n",
      " 0   name             16954 non-null  object \n",
      " 1   platform         16956 non-null  object \n",
      " 2   year_of_release  16681 non-null  float64\n",
      " 3   genre            16954 non-null  object \n",
      " 4   na_sales         16956 non-null  float64\n",
      " 5   eu_sales         16950 non-null  float64\n",
      " 6   jp_sales         16952 non-null  float64\n",
      " 7   other_sales      16956 non-null  float64\n",
      " 8   critic_score     8242 non-null   float64\n",
      " 9   user_score       10152 non-null  object \n",
      " 10  rating           10085 non-null  object \n",
      "dtypes: float64(6), object(5)\n",
      "memory usage: 1.4+ MB\n",
      "None\n"
     ]
    }
   ],
   "source": [
    "print(df.info())"
   ]
  },
  {
   "cell_type": "markdown",
   "id": "b39893cb",
   "metadata": {
    "id": "b39893cb"
   },
   "source": [
    "### 2.3. Наличие пропусков в данных\n",
    "\n",
    "- Посчитайте количество пропусков в каждом столбце в абсолютных и относительных значениях.\n"
   ]
  },
  {
   "cell_type": "code",
   "execution_count": 9,
   "id": "86cd1cc1",
   "metadata": {
    "id": "86cd1cc1"
   },
   "outputs": [
    {
     "name": "stdout",
     "output_type": "stream",
     "text": [
      "name                  2\n",
      "platform              0\n",
      "year_of_release     275\n",
      "genre                 2\n",
      "na_sales              0\n",
      "eu_sales              6\n",
      "jp_sales              4\n",
      "other_sales           0\n",
      "critic_score       8714\n",
      "user_score         6804\n",
      "rating             6871\n",
      "dtype: int64 name                0.011795\n",
      "platform            0.000000\n",
      "year_of_release     1.621845\n",
      "genre               0.011795\n",
      "na_sales            0.000000\n",
      "eu_sales            0.035386\n",
      "jp_sales            0.023590\n",
      "other_sales         0.000000\n",
      "critic_score       51.391838\n",
      "user_score         40.127389\n",
      "rating             40.522529\n",
      "dtype: float64\n"
     ]
    }
   ],
   "source": [
    "na_per_column = df.isna().sum()\n",
    "total_rows = len(df)\n",
    "relative_na = (df.isna().sum() / total_rows) * 100\n",
    "print(na_per_column, relative_na)"
   ]
  },
  {
   "cell_type": "markdown",
   "id": "3c038d94",
   "metadata": {},
   "source": []
  },
  {
   "cell_type": "markdown",
   "id": "cf796f51",
   "metadata": {
    "id": "cf796f51"
   },
   "source": [
    "- Изучите данные с пропущенными значениями. Напишите промежуточный вывод: для каких столбцов характерны пропуски и сколько их. Предположите, почему пропуски могли возникнуть. Укажите, какие действия с этими данными можно сделать и почему.\n"
   ]
  },
  {
   "cell_type": "markdown",
   "id": "c6804c32",
   "metadata": {
    "id": "bd69e642"
   },
   "source": [
    "Основное количество пропусков приходится на такие столбцы как: critic_score, user_score, rating. Предположим, что пропуски могли возникнуть из-за отсутствия анализа и вследствие заполнения игроками или критиками соответствующих оценок. Здесь количество пропусков исчисляется тысячами: 8714, 6804 и 6871 соответственно. \n",
    "Меньшее количество пропусков приходится на год выпуска игры - 275, могли возникнуть из-за человеческого фактора или отсутствия определенной официальной даты выхода игры.\n",
    "Пропуски в других столбцах меньше 10 и, скорее всего, возникли из-за человеческого фактора или отсутствия данных."
   ]
  },
  {
   "cell_type": "markdown",
   "id": "789c65c4",
   "metadata": {
    "id": "b6965b19"
   },
   "source": [
    "В столбцах, где пропуски исчисляются тысячами, можно оставить, либо заменить на усредненные значения по аналогичным жанрам игр"
   ]
  },
  {
   "cell_type": "markdown",
   "id": "f20df0e5",
   "metadata": {
    "id": "cc2d1374"
   },
   "source": [
    "В столбце года выпуска игры и других, где пропусков меньше 10, пропуски можно удалить, так как на анализ это не должно повлиять"
   ]
  },
  {
   "cell_type": "markdown",
   "id": "bbbe3bda",
   "metadata": {
    "id": "bbbe3bda"
   },
   "source": [
    "- Обработайте пропущенные значения. Для каждого случая вы можете выбрать оптимальный, на ваш взгляд, вариант: заменить на определённое значение, оставить как есть или удалить.\n",
    "- Если вы решите заменить пропуски на значение-индикатор, то убедитесь, что предложенное значение не может быть использовано в данных.\n",
    "- Если вы нашли пропуски в данных с количеством проданных копий игры в том или ином регионе, их можно заменить на среднее значение в зависимости от названия платформы и года выхода игры."
   ]
  },
  {
   "cell_type": "markdown",
   "id": "0c71158b",
   "metadata": {},
   "source": [
    "В столбце rating удалим пропуски, так как значения, представленные в строках, не числовые. В столбце year_of_release, genre удалим пропуски из-за отсутствия возможности их заменить, а в столбцах о продажах удалим пропуски за ненадобностью:"
   ]
  },
  {
   "cell_type": "code",
   "execution_count": 10,
   "id": "d7320fc8",
   "metadata": {},
   "outputs": [],
   "source": [
    "df = df.dropna(subset = ['rating', 'year_of_release', 'genre', 'eu_sales', 'jp_sales'])"
   ]
  },
  {
   "cell_type": "markdown",
   "id": "2235cc88",
   "metadata": {},
   "source": [
    "Столбец user_score приведем к числовому и заменим пропуски на значение-индикатор:"
   ]
  },
  {
   "cell_type": "code",
   "execution_count": 11,
   "id": "0f480b9a",
   "metadata": {
    "scrolled": true
   },
   "outputs": [
    {
     "data": {
      "text/plain": [
       "array(['8', '8.3', '8.5', '6.6', '8.4', '8.6', '7.7', '6.3', '7.4', '8.2',\n",
       "       '9', '7.9', '8.1', '8.7', '7.1', '3.4', '5.3', '4.8', '3.2', '8.9',\n",
       "       '6.4', '7.8', '7.5', '2.6', '7.2', '9.2', '7', '7.3', '4.3', '7.6',\n",
       "       '5.7', '5', '9.1', '6.5', 'tbd', '8.8', '6.9', '9.4', '6.8', '6.1',\n",
       "       '6.7', '5.4', nan, '4', '4.9', '4.5', '9.3', '6.2', '4.2', '6',\n",
       "       '3.7', '4.1', '5.8', '5.6', '5.5', '4.4', '4.6', '5.9', '3.9',\n",
       "       '3.1', '2.9', '5.2', '3.3', '4.7', '5.1', '3.5', '2.5', '1.9', '3',\n",
       "       '2.7', '2.2', '2', '9.5', '2.1', '3.6', '2.8', '1.8', '3.8', '0',\n",
       "       '1.6', '9.6', '2.4', '1.7', '1.1', '0.3', '1.5', '0.7', '1.2',\n",
       "       '2.3', '0.5', '1.3', '0.2', '0.6', '1.4', '0.9', '1', '9.7'],\n",
       "      dtype=object)"
      ]
     },
     "execution_count": 11,
     "metadata": {},
     "output_type": "execute_result"
    }
   ],
   "source": [
    "df['user_score'].unique()"
   ]
  },
  {
   "cell_type": "markdown",
   "id": "7f7bfdf5",
   "metadata": {},
   "source": [
    "Значение \"tbd\" заменим на NaN и приведем столбец к типу float64, затем вычислим среднее значение по жанру и заменим пропуски"
   ]
  },
  {
   "cell_type": "code",
   "execution_count": 12,
   "id": "188a3657",
   "metadata": {},
   "outputs": [],
   "source": [
    "df.loc[:, 'user_score'] = df['user_score'].replace('tbd', np.nan)"
   ]
  },
  {
   "cell_type": "code",
   "execution_count": 13,
   "id": "d9e004c7",
   "metadata": {
    "scrolled": true
   },
   "outputs": [],
   "source": [
    "df.loc[:, 'user_score'] = df['user_score'].astype('float64')"
   ]
  },
  {
   "cell_type": "code",
   "execution_count": 14,
   "id": "0f8da9ef",
   "metadata": {},
   "outputs": [
    {
     "name": "stdout",
     "output_type": "stream",
     "text": [
      "genre\n",
      "ACTION          6.571429\n",
      "Action          7.054204\n",
      "Adventure       7.125442\n",
      "FIGHTING        6.500000\n",
      "Fighting        7.293671\n",
      "MISC                 NaN\n",
      "Misc            6.811778\n",
      "PLATFORM        6.500000\n",
      "PUZZLE          4.200000\n",
      "Platform        7.306840\n",
      "Puzzle          7.140476\n",
      "RACING          5.166667\n",
      "ROLE-PLAYING    8.533333\n",
      "Racing          7.028776\n",
      "Role-Playing    7.618996\n",
      "SHOOTER         6.840000\n",
      "SIMULATION      3.300000\n",
      "SPORTS          6.050000\n",
      "STRATEGY             NaN\n",
      "Shooter         7.051592\n",
      "Simulation      7.147181\n",
      "Sports          6.967560\n",
      "Strategy        7.322074\n",
      "Name: user_score, dtype: float64\n"
     ]
    }
   ],
   "source": [
    "print(df.groupby('genre')['user_score'].mean())"
   ]
  },
  {
   "cell_type": "markdown",
   "id": "7fea07b5",
   "metadata": {},
   "source": [
    "Видим, что пропуски актуальны только для двух строк из-за возникших дубликатов, их обработаем в следующем разделе, а здесь пропуски оставим"
   ]
  },
  {
   "cell_type": "markdown",
   "id": "ba0ea295",
   "metadata": {
    "id": "3f42817b"
   },
   "source": [
    "В столбце crititc_score заменим пропуски на значение-индикатор:"
   ]
  },
  {
   "cell_type": "markdown",
   "id": "b9b47303",
   "metadata": {},
   "source": [
    "Вычислим среднее значение для каждого жанра:"
   ]
  },
  {
   "cell_type": "code",
   "execution_count": 15,
   "id": "2784c760",
   "metadata": {
    "id": "2784c760",
    "scrolled": true
   },
   "outputs": [
    {
     "name": "stdout",
     "output_type": "stream",
     "text": [
      "genre\n",
      "ACTION          64.857143\n",
      "Action          66.632808\n",
      "Adventure       65.013072\n",
      "FIGHTING        67.000000\n",
      "Fighting        69.125926\n",
      "MISC            49.000000\n",
      "Misc            66.657588\n",
      "PLATFORM        59.500000\n",
      "PUZZLE          73.000000\n",
      "Platform        67.985772\n",
      "Puzzle          67.191781\n",
      "RACING          66.750000\n",
      "ROLE-PLAYING    71.333333\n",
      "Racing          67.924451\n",
      "Role-Playing    72.615595\n",
      "SHOOTER         72.250000\n",
      "SIMULATION      33.000000\n",
      "SPORTS          62.000000\n",
      "STRATEGY              NaN\n",
      "Shooter         70.177229\n",
      "Simulation      68.706052\n",
      "Sports          72.004299\n",
      "Strategy        72.359862\n",
      "Name: critic_score, dtype: float64\n"
     ]
    }
   ],
   "source": [
    "print(df.groupby('genre')['critic_score'].mean())"
   ]
  },
  {
   "cell_type": "markdown",
   "id": "20860846",
   "metadata": {},
   "source": [
    "Видим, что пропуски актуальны только для одной строки из-за возникших дубликатов, их обработаем в следующем разделе, а здесь пропуски оставим"
   ]
  },
  {
   "cell_type": "markdown",
   "id": "a63363fd",
   "metadata": {
    "id": "a63363fd"
   },
   "source": [
    "### 2.4. Явные и неявные дубликаты в данных\n",
    "\n",
    "- Изучите уникальные значения в категориальных данных, например с названиями жанра игры, платформы, рейтинга и года выпуска. Проверьте, встречаются ли среди данных неявные дубликаты, связанные с опечатками или разным способом написания.\n",
    "- При необходимости проведите нормализацию данных с текстовыми значениями. Названия или жанры игр можно привести к нижнему регистру, а названия рейтинга — к верхнему."
   ]
  },
  {
   "cell_type": "markdown",
   "id": "9b67d693",
   "metadata": {
    "id": "491c9c39"
   },
   "source": [
    "Из предыдушего раздела видим, что в столбце genre присутствуют дубликаты из-за разного написания, приведем все значения строк к нижнему регистру:"
   ]
  },
  {
   "cell_type": "code",
   "execution_count": 16,
   "id": "f1627198",
   "metadata": {
    "id": "f1627198"
   },
   "outputs": [],
   "source": [
    "df['genre'] = df['genre'].str.lower()"
   ]
  },
  {
   "cell_type": "code",
   "execution_count": 17,
   "id": "a0cac80c",
   "metadata": {
    "id": "a0cac80c"
   },
   "outputs": [
    {
     "name": "stdout",
     "output_type": "stream",
     "text": [
      "['sports' 'racing' 'platform' 'misc' 'action' 'puzzle' 'shooter'\n",
      " 'fighting' 'simulation' 'role-playing' 'adventure' 'strategy']\n"
     ]
    }
   ],
   "source": [
    "print(df['genre'].unique())"
   ]
  },
  {
   "cell_type": "markdown",
   "id": "99cd54f0",
   "metadata": {},
   "source": [
    "Проверим столбец name на дубликаты:"
   ]
  },
  {
   "cell_type": "code",
   "execution_count": 18,
   "id": "2416fb08",
   "metadata": {
    "scrolled": true
   },
   "outputs": [
    {
     "name": "stdout",
     "output_type": "stream",
     "text": [
      "['Wii Sports' 'Mario Kart Wii' 'Wii Sports Resort' ... 'Mega Brain Boost'\n",
      " 'STORM: Frontline Nation' 'Plushees']\n"
     ]
    }
   ],
   "source": [
    "print(df['name'].unique())"
   ]
  },
  {
   "cell_type": "markdown",
   "id": "9e7633ad",
   "metadata": {},
   "source": [
    "Проверим столбец Platform на дубликаты:"
   ]
  },
  {
   "cell_type": "code",
   "execution_count": 19,
   "id": "74f4a77f",
   "metadata": {
    "scrolled": true
   },
   "outputs": [
    {
     "name": "stdout",
     "output_type": "stream",
     "text": [
      "['Wii' 'DS' 'X360' 'PS3' 'PS2' '3DS' 'PS4' 'PS' 'XB' 'PC' 'PSP' 'WiiU'\n",
      " 'GC' 'GBA' 'XOne' 'PSV' 'DC']\n"
     ]
    }
   ],
   "source": [
    "print(df['platform'].unique())"
   ]
  },
  {
   "cell_type": "markdown",
   "id": "8d68982b",
   "metadata": {},
   "source": [
    "Проверим столбец year_of_release на дубликаты:"
   ]
  },
  {
   "cell_type": "code",
   "execution_count": 20,
   "id": "a3ec3436",
   "metadata": {
    "scrolled": false
   },
   "outputs": [
    {
     "name": "stdout",
     "output_type": "stream",
     "text": [
      "[2006. 2008. 2009. 2005. 2007. 2010. 2013. 2004. 2002. 2001. 2011. 2012.\n",
      " 2014. 1997. 1999. 2015. 2016. 2003. 1998. 1996. 2000. 1994. 1992. 1985.\n",
      " 1988.]\n"
     ]
    }
   ],
   "source": [
    "print(df['year_of_release'].unique())"
   ]
  },
  {
   "cell_type": "markdown",
   "id": "3aef1462",
   "metadata": {},
   "source": [
    "Проверим столбец rating на дубликаты:"
   ]
  },
  {
   "cell_type": "code",
   "execution_count": 21,
   "id": "580ba3ce",
   "metadata": {
    "scrolled": true
   },
   "outputs": [
    {
     "name": "stdout",
     "output_type": "stream",
     "text": [
      "['E' 'M' 'T' 'E10+' 'K-A' 'AO' 'EC' 'RP']\n"
     ]
    }
   ],
   "source": [
    "print(df['rating'].unique())"
   ]
  },
  {
   "cell_type": "markdown",
   "id": "e16fd7a2",
   "metadata": {},
   "source": [
    "Проверим наличие \"неявных\" дубликатов во всех столбцах:"
   ]
  },
  {
   "cell_type": "code",
   "execution_count": 22,
   "id": "564419c7",
   "metadata": {},
   "outputs": [
    {
     "data": {
      "text/plain": [
       "268"
      ]
     },
     "execution_count": 22,
     "metadata": {},
     "output_type": "execute_result"
    }
   ],
   "source": [
    "df.duplicated(subset=['genre', 'name', 'platform', 'year_of_release', 'rating'], keep = False).sum()"
   ]
  },
  {
   "cell_type": "markdown",
   "id": "421f5e00",
   "metadata": {},
   "source": [
    "При подсчете неявных дубликатов в ключевых столбцах видим, что их содержится 268 в общей сумме\n"
   ]
  },
  {
   "cell_type": "code",
   "execution_count": 23,
   "id": "7612005f",
   "metadata": {
    "scrolled": true
   },
   "outputs": [
    {
     "data": {
      "text/html": [
       "<div>\n",
       "<style scoped>\n",
       "    .dataframe tbody tr th:only-of-type {\n",
       "        vertical-align: middle;\n",
       "    }\n",
       "\n",
       "    .dataframe tbody tr th {\n",
       "        vertical-align: top;\n",
       "    }\n",
       "\n",
       "    .dataframe thead th {\n",
       "        text-align: right;\n",
       "    }\n",
       "</style>\n",
       "<table border=\"1\" class=\"dataframe\">\n",
       "  <thead>\n",
       "    <tr style=\"text-align: right;\">\n",
       "      <th></th>\n",
       "      <th>name</th>\n",
       "      <th>platform</th>\n",
       "      <th>year_of_release</th>\n",
       "      <th>genre</th>\n",
       "      <th>na_sales</th>\n",
       "      <th>eu_sales</th>\n",
       "      <th>jp_sales</th>\n",
       "      <th>other_sales</th>\n",
       "      <th>critic_score</th>\n",
       "      <th>user_score</th>\n",
       "      <th>rating</th>\n",
       "    </tr>\n",
       "  </thead>\n",
       "  <tbody>\n",
       "    <tr>\n",
       "      <th>0</th>\n",
       "      <td>Wii Sports</td>\n",
       "      <td>Wii</td>\n",
       "      <td>2006.0</td>\n",
       "      <td>sports</td>\n",
       "      <td>41.36</td>\n",
       "      <td>28.96</td>\n",
       "      <td>3.77</td>\n",
       "      <td>8.45</td>\n",
       "      <td>76.0</td>\n",
       "      <td>8.0</td>\n",
       "      <td>E</td>\n",
       "    </tr>\n",
       "    <tr>\n",
       "      <th>2</th>\n",
       "      <td>Mario Kart Wii</td>\n",
       "      <td>Wii</td>\n",
       "      <td>2008.0</td>\n",
       "      <td>racing</td>\n",
       "      <td>15.68</td>\n",
       "      <td>12.76</td>\n",
       "      <td>3.79</td>\n",
       "      <td>3.29</td>\n",
       "      <td>82.0</td>\n",
       "      <td>8.3</td>\n",
       "      <td>E</td>\n",
       "    </tr>\n",
       "    <tr>\n",
       "      <th>3</th>\n",
       "      <td>Wii Sports Resort</td>\n",
       "      <td>Wii</td>\n",
       "      <td>2009.0</td>\n",
       "      <td>sports</td>\n",
       "      <td>15.61</td>\n",
       "      <td>10.93</td>\n",
       "      <td>3.28</td>\n",
       "      <td>2.95</td>\n",
       "      <td>80.0</td>\n",
       "      <td>8.0</td>\n",
       "      <td>E</td>\n",
       "    </tr>\n",
       "    <tr>\n",
       "      <th>6</th>\n",
       "      <td>New Super Mario Bros.</td>\n",
       "      <td>DS</td>\n",
       "      <td>2006.0</td>\n",
       "      <td>platform</td>\n",
       "      <td>11.28</td>\n",
       "      <td>9.14</td>\n",
       "      <td>6.50</td>\n",
       "      <td>2.88</td>\n",
       "      <td>89.0</td>\n",
       "      <td>8.5</td>\n",
       "      <td>E</td>\n",
       "    </tr>\n",
       "    <tr>\n",
       "      <th>7</th>\n",
       "      <td>Wii Play</td>\n",
       "      <td>Wii</td>\n",
       "      <td>2006.0</td>\n",
       "      <td>misc</td>\n",
       "      <td>13.96</td>\n",
       "      <td>9.18</td>\n",
       "      <td>2.93</td>\n",
       "      <td>2.84</td>\n",
       "      <td>58.0</td>\n",
       "      <td>6.6</td>\n",
       "      <td>E</td>\n",
       "    </tr>\n",
       "    <tr>\n",
       "      <th>...</th>\n",
       "      <td>...</td>\n",
       "      <td>...</td>\n",
       "      <td>...</td>\n",
       "      <td>...</td>\n",
       "      <td>...</td>\n",
       "      <td>...</td>\n",
       "      <td>...</td>\n",
       "      <td>...</td>\n",
       "      <td>...</td>\n",
       "      <td>...</td>\n",
       "      <td>...</td>\n",
       "    </tr>\n",
       "    <tr>\n",
       "      <th>16937</th>\n",
       "      <td>Bust-A-Move 3000</td>\n",
       "      <td>GC</td>\n",
       "      <td>2003.0</td>\n",
       "      <td>puzzle</td>\n",
       "      <td>0.01</td>\n",
       "      <td>0.00</td>\n",
       "      <td>0.00</td>\n",
       "      <td>0.00</td>\n",
       "      <td>53.0</td>\n",
       "      <td>NaN</td>\n",
       "      <td>E</td>\n",
       "    </tr>\n",
       "    <tr>\n",
       "      <th>16938</th>\n",
       "      <td>Mega Brain Boost</td>\n",
       "      <td>DS</td>\n",
       "      <td>2008.0</td>\n",
       "      <td>puzzle</td>\n",
       "      <td>0.01</td>\n",
       "      <td>0.00</td>\n",
       "      <td>0.00</td>\n",
       "      <td>0.00</td>\n",
       "      <td>48.0</td>\n",
       "      <td>NaN</td>\n",
       "      <td>E</td>\n",
       "    </tr>\n",
       "    <tr>\n",
       "      <th>16943</th>\n",
       "      <td>STORM: Frontline Nation</td>\n",
       "      <td>PC</td>\n",
       "      <td>2011.0</td>\n",
       "      <td>strategy</td>\n",
       "      <td>0.00</td>\n",
       "      <td>0.01</td>\n",
       "      <td>0.00</td>\n",
       "      <td>0.00</td>\n",
       "      <td>60.0</td>\n",
       "      <td>7.2</td>\n",
       "      <td>E10+</td>\n",
       "    </tr>\n",
       "    <tr>\n",
       "      <th>16945</th>\n",
       "      <td>Plushees</td>\n",
       "      <td>DS</td>\n",
       "      <td>2008.0</td>\n",
       "      <td>simulation</td>\n",
       "      <td>0.01</td>\n",
       "      <td>0.00</td>\n",
       "      <td>0.00</td>\n",
       "      <td>0.00</td>\n",
       "      <td>NaN</td>\n",
       "      <td>NaN</td>\n",
       "      <td>E</td>\n",
       "    </tr>\n",
       "    <tr>\n",
       "      <th>16947</th>\n",
       "      <td>Men in Black II: Alien Escape</td>\n",
       "      <td>GC</td>\n",
       "      <td>2003.0</td>\n",
       "      <td>shooter</td>\n",
       "      <td>0.01</td>\n",
       "      <td>0.00</td>\n",
       "      <td>0.00</td>\n",
       "      <td>0.00</td>\n",
       "      <td>NaN</td>\n",
       "      <td>NaN</td>\n",
       "      <td>T</td>\n",
       "    </tr>\n",
       "  </tbody>\n",
       "</table>\n",
       "<p>9624 rows × 11 columns</p>\n",
       "</div>"
      ],
      "text/plain": [
       "                                name platform  year_of_release       genre  \\\n",
       "0                         Wii Sports      Wii           2006.0      sports   \n",
       "2                     Mario Kart Wii      Wii           2008.0      racing   \n",
       "3                  Wii Sports Resort      Wii           2009.0      sports   \n",
       "6              New Super Mario Bros.       DS           2006.0    platform   \n",
       "7                           Wii Play      Wii           2006.0        misc   \n",
       "...                              ...      ...              ...         ...   \n",
       "16937               Bust-A-Move 3000       GC           2003.0      puzzle   \n",
       "16938               Mega Brain Boost       DS           2008.0      puzzle   \n",
       "16943        STORM: Frontline Nation       PC           2011.0    strategy   \n",
       "16945                       Plushees       DS           2008.0  simulation   \n",
       "16947  Men in Black II: Alien Escape       GC           2003.0     shooter   \n",
       "\n",
       "       na_sales  eu_sales  jp_sales  other_sales  critic_score  user_score  \\\n",
       "0         41.36     28.96      3.77         8.45          76.0         8.0   \n",
       "2         15.68     12.76      3.79         3.29          82.0         8.3   \n",
       "3         15.61     10.93      3.28         2.95          80.0         8.0   \n",
       "6         11.28      9.14      6.50         2.88          89.0         8.5   \n",
       "7         13.96      9.18      2.93         2.84          58.0         6.6   \n",
       "...         ...       ...       ...          ...           ...         ...   \n",
       "16937      0.01      0.00      0.00         0.00          53.0         NaN   \n",
       "16938      0.01      0.00      0.00         0.00          48.0         NaN   \n",
       "16943      0.00      0.01      0.00         0.00          60.0         7.2   \n",
       "16945      0.01      0.00      0.00         0.00           NaN         NaN   \n",
       "16947      0.01      0.00      0.00         0.00           NaN         NaN   \n",
       "\n",
       "      rating  \n",
       "0          E  \n",
       "2          E  \n",
       "3          E  \n",
       "6          E  \n",
       "7          E  \n",
       "...      ...  \n",
       "16937      E  \n",
       "16938      E  \n",
       "16943   E10+  \n",
       "16945      E  \n",
       "16947      T  \n",
       "\n",
       "[9624 rows x 11 columns]"
      ]
     },
     "execution_count": 23,
     "metadata": {},
     "output_type": "execute_result"
    }
   ],
   "source": [
    "df.drop_duplicates(subset=['genre', 'name', 'platform', 'year_of_release', 'rating'], keep = False)"
   ]
  },
  {
   "cell_type": "markdown",
   "id": "fc3d3db4",
   "metadata": {
    "id": "fc3d3db4"
   },
   "source": [
    "- После того как нормализуете данные и устраните неявные дубликаты, проверьте наличие явных дубликатов в данных."
   ]
  },
  {
   "cell_type": "code",
   "execution_count": 24,
   "id": "fc5c91b5",
   "metadata": {
    "id": "fc5c91b5"
   },
   "outputs": [
    {
     "data": {
      "text/plain": [
       "0        False\n",
       "2        False\n",
       "3        False\n",
       "6        False\n",
       "7        False\n",
       "         ...  \n",
       "16937    False\n",
       "16938    False\n",
       "16943    False\n",
       "16945    False\n",
       "16947    False\n",
       "Length: 9892, dtype: bool"
      ]
     },
     "execution_count": 24,
     "metadata": {},
     "output_type": "execute_result"
    }
   ],
   "source": [
    "df.duplicated(subset=None)"
   ]
  },
  {
   "cell_type": "markdown",
   "id": "e17fd6c9",
   "metadata": {
    "id": "2f61e076"
   },
   "source": [
    "Исходя из результата False делаем вывод, что явных дубликатов в строках не обнаружено"
   ]
  },
  {
   "cell_type": "markdown",
   "id": "54616bae",
   "metadata": {
    "id": "54616bae"
   },
   "source": [
    "- Напишите промежуточный вывод: укажите количество найденных дубликатов и действия по их обработке."
   ]
  },
  {
   "cell_type": "markdown",
   "id": "dfb4b1df",
   "metadata": {
    "id": "8548f894"
   },
   "source": [
    "Количество явных дубликатов было небольшим и содержалось в основном в столбце с жанром из-за разного написания регистра. Все значения были приведены к нижнему регистру"
   ]
  },
  {
   "cell_type": "markdown",
   "id": "72645ae9",
   "metadata": {
    "id": "72645ae9"
   },
   "source": [
    "- В процессе подготовки данных вы могли что-либо удалять, например строки с пропусками или ошибками, дубликаты и прочее. В этом случае посчитайте количество удалённых строк в абсолютном и относительном значениях."
   ]
  },
  {
   "cell_type": "code",
   "execution_count": 25,
   "id": "f9d8ee19",
   "metadata": {
    "id": "f9d8ee19"
   },
   "outputs": [
    {
     "name": "stdout",
     "output_type": "stream",
     "text": [
      "name                  0\n",
      "platform              0\n",
      "year_of_release       0\n",
      "genre                 0\n",
      "na_sales              0\n",
      "eu_sales              0\n",
      "jp_sales              0\n",
      "other_sales           0\n",
      "critic_score       1896\n",
      "user_score         2425\n",
      "rating                0\n",
      "dtype: int64 name                0.000000\n",
      "platform            0.000000\n",
      "year_of_release     0.000000\n",
      "genre               0.000000\n",
      "na_sales            0.000000\n",
      "eu_sales            0.000000\n",
      "jp_sales            0.000000\n",
      "other_sales         0.000000\n",
      "critic_score       19.167004\n",
      "user_score         24.514759\n",
      "rating              0.000000\n",
      "dtype: float64\n"
     ]
    }
   ],
   "source": [
    "na_per_column = df.isna().sum()\n",
    "total_rows = len(df)\n",
    "relative_na = (df.isna().sum() / total_rows) * 100\n",
    "print(na_per_column, relative_na)"
   ]
  },
  {
   "cell_type": "markdown",
   "id": "4bf7ae15",
   "metadata": {
    "id": "3d7a9d8e"
   },
   "source": [
    "Так как пропуски все равно остались в двух столбцах, то удалим их за невозможностью заменить на усредненные значения:"
   ]
  },
  {
   "cell_type": "code",
   "execution_count": 26,
   "id": "1e48a7ce",
   "metadata": {
    "id": "1e48a7ce"
   },
   "outputs": [],
   "source": [
    "df = df.dropna(subset = ['critic_score', 'user_score'])"
   ]
  },
  {
   "cell_type": "code",
   "execution_count": 27,
   "id": "5a38f51e",
   "metadata": {},
   "outputs": [
    {
     "name": "stdout",
     "output_type": "stream",
     "text": [
      "name               0\n",
      "platform           0\n",
      "year_of_release    0\n",
      "genre              0\n",
      "na_sales           0\n",
      "eu_sales           0\n",
      "jp_sales           0\n",
      "other_sales        0\n",
      "critic_score       0\n",
      "user_score         0\n",
      "rating             0\n",
      "dtype: int64 name               0.0\n",
      "platform           0.0\n",
      "year_of_release    0.0\n",
      "genre              0.0\n",
      "na_sales           0.0\n",
      "eu_sales           0.0\n",
      "jp_sales           0.0\n",
      "other_sales        0.0\n",
      "critic_score       0.0\n",
      "user_score         0.0\n",
      "rating             0.0\n",
      "dtype: float64\n"
     ]
    }
   ],
   "source": [
    "na_per_column = df.isna().sum()\n",
    "total_rows = len(df)\n",
    "relative_na = (df.isna().sum() / total_rows) * 100\n",
    "print(na_per_column, relative_na)"
   ]
  },
  {
   "cell_type": "markdown",
   "id": "47613d75",
   "metadata": {
    "id": "47613d75"
   },
   "source": [
    "- После проведения предобработки данных напишите общий промежуточный вывод."
   ]
  },
  {
   "cell_type": "markdown",
   "id": "e369278c",
   "metadata": {
    "id": "5166fdf8"
   },
   "source": [
    "После проведения предобработки данных были удалены как строки с многочисленными пропусками по причине невозможности их замены на усредненные значения, так как разброс довольно большой, что приведет к искажению данных, так и строки с небольшим количеством пропусков, так как их количество было мало и на дальнейший анализ это не повлияет.\n",
    "\n",
    "Также проверили наличие явных и неявных дубликатов: явные дубликаты не были обнаружены, а неявные были обработаны и приведены к общему виду написания"
   ]
  },
  {
   "cell_type": "markdown",
   "id": "613f0eb0",
   "metadata": {
    "id": "613f0eb0"
   },
   "source": [
    "---\n",
    "\n",
    "## 3. Фильтрация данных\n",
    "\n",
    "Коллеги хотят изучить историю продаж игр в начале XXI века, и их интересует период с 2000 по 2013 год включительно. Отберите данные по этому показателю. Сохраните новый срез данных в отдельном датафрейме, например `df_actual`."
   ]
  },
  {
   "cell_type": "code",
   "execution_count": 28,
   "id": "2344916d",
   "metadata": {
    "id": "2344916d"
   },
   "outputs": [],
   "source": [
    "df_actual = df.loc[(df['year_of_release'] >= 2000) & (df['year_of_release'] <= 2013)]"
   ]
  },
  {
   "cell_type": "code",
   "execution_count": 29,
   "id": "44d7529f",
   "metadata": {
    "id": "44d7529f"
   },
   "outputs": [
    {
     "name": "stdout",
     "output_type": "stream",
     "text": [
      "<class 'pandas.core.frame.DataFrame'>\n",
      "Int64Index: 6145 entries, 0 to 16943\n",
      "Data columns (total 11 columns):\n",
      " #   Column           Non-Null Count  Dtype  \n",
      "---  ------           --------------  -----  \n",
      " 0   name             6145 non-null   object \n",
      " 1   platform         6145 non-null   object \n",
      " 2   year_of_release  6145 non-null   float64\n",
      " 3   genre            6145 non-null   object \n",
      " 4   na_sales         6145 non-null   float64\n",
      " 5   eu_sales         6145 non-null   float64\n",
      " 6   jp_sales         6145 non-null   float64\n",
      " 7   other_sales      6145 non-null   float64\n",
      " 8   critic_score     6145 non-null   float64\n",
      " 9   user_score       6145 non-null   float64\n",
      " 10  rating           6145 non-null   object \n",
      "dtypes: float64(7), object(4)\n",
      "memory usage: 576.1+ KB\n",
      "None\n"
     ]
    }
   ],
   "source": [
    "print(df_actual.info())"
   ]
  },
  {
   "cell_type": "markdown",
   "id": "a6f10b01",
   "metadata": {
    "id": "a6f10b01"
   },
   "source": [
    "---\n",
    "\n",
    "## 4. Категоризация данных\n",
    "    \n",
    "Проведите категоризацию данных:\n",
    "- Разделите все игры по оценкам пользователей и выделите такие категории: высокая оценка (от 8 до 10 включительно), средняя оценка (от 3 до 8, не включая правую границу интервала) и низкая оценка (от 0 до 3, не включая правую границу интервала)."
   ]
  },
  {
   "cell_type": "code",
   "execution_count": 30,
   "id": "3db87229",
   "metadata": {
    "id": "3db87229"
   },
   "outputs": [],
   "source": [
    "df.loc[:, 'category'] = pd.cut(df['user_score'], bins=[0, 3, 8, 10], labels=['Низкая оценка', 'Средняя оценка', 'Высокая оценка'], right = False)"
   ]
  },
  {
   "cell_type": "code",
   "execution_count": 31,
   "id": "efad9b52",
   "metadata": {},
   "outputs": [
    {
     "name": "stdout",
     "output_type": "stream",
     "text": [
      "0        Высокая оценка\n",
      "2        Высокая оценка\n",
      "3        Высокая оценка\n",
      "6        Высокая оценка\n",
      "7        Средняя оценка\n",
      "              ...      \n",
      "16902     Низкая оценка\n",
      "16913    Высокая оценка\n",
      "16932    Средняя оценка\n",
      "16936    Средняя оценка\n",
      "16943    Средняя оценка\n",
      "Name: category, Length: 6903, dtype: category\n",
      "Categories (3, object): ['Низкая оценка' < 'Средняя оценка' < 'Высокая оценка']\n"
     ]
    }
   ],
   "source": [
    "print(df['category'])"
   ]
  },
  {
   "cell_type": "markdown",
   "id": "f8f34b40",
   "metadata": {
    "id": "f8f34b40"
   },
   "source": [
    "- Разделите все игры по оценкам критиков и выделите такие категории: высокая оценка (от 80 до 100 включительно), средняя оценка (от 30 до 80, не включая правую границу интервала) и низкая оценка (от 0 до 30, не включая правую границу интервала)."
   ]
  },
  {
   "cell_type": "code",
   "execution_count": 32,
   "id": "e3f7acb0",
   "metadata": {
    "id": "e3f7acb0"
   },
   "outputs": [],
   "source": [
    "df.loc[:, 'category_critic']  = pd.cut(df['critic_score'], bins=[0, 30, 80, 100], labels=['Низкая оценка', 'Средняя оценка', 'Высокая оценка'], right = False)"
   ]
  },
  {
   "cell_type": "code",
   "execution_count": 33,
   "id": "548fde17",
   "metadata": {
    "id": "548fde17"
   },
   "outputs": [
    {
     "name": "stdout",
     "output_type": "stream",
     "text": [
      "0        Средняя оценка\n",
      "2        Высокая оценка\n",
      "3        Высокая оценка\n",
      "6        Высокая оценка\n",
      "7        Средняя оценка\n",
      "              ...      \n",
      "16902    Средняя оценка\n",
      "16913    Высокая оценка\n",
      "16932    Высокая оценка\n",
      "16936    Средняя оценка\n",
      "16943    Средняя оценка\n",
      "Name: category_critic, Length: 6903, dtype: category\n",
      "Categories (3, object): ['Низкая оценка' < 'Средняя оценка' < 'Высокая оценка']\n"
     ]
    }
   ],
   "source": [
    "print(df['category_critic'])"
   ]
  },
  {
   "cell_type": "markdown",
   "id": "olkTlTlAUDR9",
   "metadata": {
    "id": "olkTlTlAUDR9"
   },
   "source": [
    "- После категоризации данных проверьте результат: сгруппируйте данные по выделенным категориям и посчитайте количество игр в каждой категории."
   ]
  },
  {
   "cell_type": "code",
   "execution_count": 34,
   "id": "HW0Nsp-4UMSL",
   "metadata": {
    "id": "HW0Nsp-4UMSL"
   },
   "outputs": [],
   "source": [
    "category_group = df.groupby('category')['user_score'].count()"
   ]
  },
  {
   "cell_type": "code",
   "execution_count": 35,
   "id": "x2ne0HIpUMMD",
   "metadata": {
    "id": "x2ne0HIpUMMD"
   },
   "outputs": [
    {
     "name": "stdout",
     "output_type": "stream",
     "text": [
      "category\n",
      "Низкая оценка      107\n",
      "Средняя оценка    4396\n",
      "Высокая оценка    2400\n",
      "Name: user_score, dtype: int64\n"
     ]
    }
   ],
   "source": [
    "print(category_group)"
   ]
  },
  {
   "cell_type": "code",
   "execution_count": 36,
   "id": "U6kiXU3JUMCc",
   "metadata": {
    "id": "U6kiXU3JUMCc"
   },
   "outputs": [],
   "source": [
    "category_group_critic = df.groupby('category_critic')['critic_score'].count()"
   ]
  },
  {
   "cell_type": "code",
   "execution_count": 37,
   "id": "5c53da9b",
   "metadata": {},
   "outputs": [
    {
     "name": "stdout",
     "output_type": "stream",
     "text": [
      "category_critic\n",
      "Низкая оценка       52\n",
      "Средняя оценка    4913\n",
      "Высокая оценка    1938\n",
      "Name: critic_score, dtype: int64\n"
     ]
    }
   ],
   "source": [
    "print(category_group_critic)"
   ]
  },
  {
   "cell_type": "markdown",
   "id": "6a98444c",
   "metadata": {
    "id": "6a98444c"
   },
   "source": [
    "- Выделите топ-7 платформ по количеству игр, выпущенных за весь актуальный период."
   ]
  },
  {
   "cell_type": "code",
   "execution_count": 38,
   "id": "003caa2c",
   "metadata": {
    "id": "003caa2c"
   },
   "outputs": [],
   "source": [
    "top_platforms = df.groupby('platform')['name'].count().sort_values(ascending=False).head(7)"
   ]
  },
  {
   "cell_type": "code",
   "execution_count": 39,
   "id": "e8d8a1d0",
   "metadata": {
    "id": "e8d8a1d0"
   },
   "outputs": [
    {
     "name": "stdout",
     "output_type": "stream",
     "text": [
      "platform\n",
      "PS2     1153\n",
      "X360     866\n",
      "PS3      779\n",
      "PC       662\n",
      "XB       575\n",
      "Wii      484\n",
      "DS       468\n",
      "Name: name, dtype: int64\n"
     ]
    }
   ],
   "source": [
    "print(top_platforms)"
   ]
  },
  {
   "cell_type": "markdown",
   "id": "c0158881",
   "metadata": {
    "id": "c0158881"
   },
   "source": [
    "---\n",
    "\n",
    "## 5. Итоговый вывод\n",
    "\n",
    "В конце напишите основной вывод и отразите, какую работу проделали. Не забудьте указать описание среза данных и новых полей, которые добавили в исходный датасет."
   ]
  },
  {
   "cell_type": "markdown",
   "id": "b4136973",
   "metadata": {
    "id": "20175f5b"
   },
   "source": [
    "В завершение работы хочется подчеркнуть, что изначальные данные были предобработаны и было удалено более 5000 строк с пропусками за невозможностью их заменя на усредненное значение, также были выявлены неявные дубликаты, которые были устранены посредством приведения строк столбца к нижнему регистру. Также был создан новый датафрейм только с определенным диапазоном времени (2000-2013 гг) с количеством строк более 6000.\n",
    "\n",
    "Отдельно были категоризированы данные по оценке пользователей и по оценке критиков, в связи с чем были разделены на 3 группы (низкая, средняя и высокая оценка соответственно). В следствие этого в изначальный датафрейм были добавлены новые столбцы с категоризацией 'category' и 'category_critic'.\n",
    "\n",
    "Также были выделены топ-7 платформ по количеству игр: видим, что лидирующие позиции занимают такие плотформы как PS2, X360, PS3. Скорее всего эти платформы наиболее востребованы в пользовании у игроков и на них стоит сосредоточить свое внимание"
   ]
  },
  {
   "cell_type": "markdown",
   "id": "dce1fd11",
   "metadata": {},
   "source": [
    "Для выявления \"неявных\" дубликатов были выделены ключевые для анализа столбцы для проверки: genre, name, platform, year_of_release, rating. С помощью метода duplicated были проверены все ключевые столбцы на все повторы, в результате анализа сумма дупликатов по всем ключевым столбцам составила 268."
   ]
  }
 ],
 "metadata": {
  "ExecuteTimeLog": [
   {
    "duration": 48,
    "start_time": "2025-07-31T18:42:53.696Z"
   },
   {
    "duration": 6,
    "start_time": "2025-07-31T18:42:57.846Z"
   },
   {
    "duration": 407,
    "start_time": "2025-07-31T18:43:39.575Z"
   },
   {
    "duration": 135,
    "start_time": "2025-07-31T18:43:42.462Z"
   },
   {
    "duration": 18,
    "start_time": "2025-07-31T18:43:43.839Z"
   },
   {
    "duration": 4,
    "start_time": "2025-07-31T18:52:00.766Z"
   },
   {
    "duration": 3,
    "start_time": "2025-07-31T18:58:40.121Z"
   },
   {
    "duration": 3,
    "start_time": "2025-07-31T18:58:41.457Z"
   },
   {
    "duration": 14,
    "start_time": "2025-07-31T19:10:16.652Z"
   },
   {
    "duration": 37,
    "start_time": "2025-07-31T19:18:07.856Z"
   },
   {
    "duration": 2,
    "start_time": "2025-07-31T19:21:50.800Z"
   },
   {
    "duration": 11,
    "start_time": "2025-07-31T19:21:51.441Z"
   },
   {
    "duration": 17,
    "start_time": "2025-07-31T19:22:02.467Z"
   },
   {
    "duration": 3,
    "start_time": "2025-07-31T19:22:23.025Z"
   },
   {
    "duration": 12,
    "start_time": "2025-07-31T19:22:37.163Z"
   },
   {
    "duration": 17,
    "start_time": "2025-07-31T19:22:51.496Z"
   },
   {
    "duration": 9,
    "start_time": "2025-07-31T19:26:00.081Z"
   },
   {
    "duration": 4,
    "start_time": "2025-07-31T19:26:00.702Z"
   },
   {
    "duration": 10,
    "start_time": "2025-07-31T19:26:49.945Z"
   },
   {
    "duration": 4,
    "start_time": "2025-07-31T19:27:47.053Z"
   },
   {
    "duration": 59,
    "start_time": "2025-08-02T11:29:34.392Z"
   },
   {
    "duration": 446,
    "start_time": "2025-08-02T11:29:51.477Z"
   },
   {
    "duration": 134,
    "start_time": "2025-08-02T11:29:52.021Z"
   },
   {
    "duration": 22,
    "start_time": "2025-08-02T11:29:52.688Z"
   },
   {
    "duration": 4,
    "start_time": "2025-08-02T11:29:58.721Z"
   },
   {
    "duration": 3,
    "start_time": "2025-08-02T11:29:59.504Z"
   },
   {
    "duration": 4,
    "start_time": "2025-08-02T11:30:00.018Z"
   },
   {
    "duration": 14,
    "start_time": "2025-08-02T11:30:04.797Z"
   },
   {
    "duration": 42,
    "start_time": "2025-08-02T11:30:09.599Z"
   },
   {
    "duration": 3,
    "start_time": "2025-08-02T11:30:39.932Z"
   },
   {
    "duration": 12,
    "start_time": "2025-08-02T11:30:40.448Z"
   },
   {
    "duration": 6,
    "start_time": "2025-08-02T11:31:05.621Z"
   },
   {
    "duration": 18,
    "start_time": "2025-08-02T11:31:40.471Z"
   },
   {
    "duration": 7,
    "start_time": "2025-08-02T11:31:51.257Z"
   },
   {
    "duration": 4,
    "start_time": "2025-08-02T11:32:28.021Z"
   },
   {
    "duration": 14,
    "start_time": "2025-08-02T11:32:29.390Z"
   },
   {
    "duration": 13,
    "start_time": "2025-08-02T11:32:46.287Z"
   },
   {
    "duration": 15,
    "start_time": "2025-08-02T11:32:47.454Z"
   },
   {
    "duration": 5,
    "start_time": "2025-08-02T11:33:18.667Z"
   },
   {
    "duration": 3,
    "start_time": "2025-08-02T11:33:26.685Z"
   },
   {
    "duration": 5,
    "start_time": "2025-08-02T11:33:27.125Z"
   },
   {
    "duration": 14,
    "start_time": "2025-08-02T11:33:27.729Z"
   },
   {
    "duration": 8,
    "start_time": "2025-08-02T11:33:32.988Z"
   },
   {
    "duration": 9,
    "start_time": "2025-08-02T11:33:33.492Z"
   },
   {
    "duration": 5,
    "start_time": "2025-08-02T11:33:34.205Z"
   },
   {
    "duration": 11,
    "start_time": "2025-08-02T11:46:22.952Z"
   },
   {
    "duration": 10,
    "start_time": "2025-08-02T11:46:41.467Z"
   },
   {
    "duration": 92,
    "start_time": "2025-08-02T11:48:04.265Z"
   },
   {
    "duration": 15,
    "start_time": "2025-08-02T11:48:13.039Z"
   },
   {
    "duration": 6,
    "start_time": "2025-08-02T11:48:29.207Z"
   },
   {
    "duration": 12,
    "start_time": "2025-08-02T11:49:03.364Z"
   },
   {
    "duration": 16,
    "start_time": "2025-08-02T11:49:11.710Z"
   },
   {
    "duration": 8,
    "start_time": "2025-08-02T11:50:08.771Z"
   },
   {
    "duration": 10,
    "start_time": "2025-08-02T11:50:09.187Z"
   },
   {
    "duration": 4,
    "start_time": "2025-08-02T11:50:09.748Z"
   },
   {
    "duration": 1354,
    "start_time": "2025-08-02T11:50:57.281Z"
   },
   {
    "duration": 12,
    "start_time": "2025-08-02T11:50:59.761Z"
   },
   {
    "duration": 9,
    "start_time": "2025-08-02T11:52:05.921Z"
   },
   {
    "duration": 14,
    "start_time": "2025-08-02T11:52:13.681Z"
   },
   {
    "duration": 13,
    "start_time": "2025-08-02T11:52:27.765Z"
   },
   {
    "duration": 13,
    "start_time": "2025-08-02T11:52:30.696Z"
   },
   {
    "duration": 13,
    "start_time": "2025-08-02T11:53:04.723Z"
   },
   {
    "duration": 13,
    "start_time": "2025-08-02T11:53:19.015Z"
   },
   {
    "duration": 10,
    "start_time": "2025-08-02T11:54:06.118Z"
   },
   {
    "duration": 5,
    "start_time": "2025-08-02T11:54:19.581Z"
   },
   {
    "duration": 8,
    "start_time": "2025-08-02T12:02:37.324Z"
   },
   {
    "duration": 7,
    "start_time": "2025-08-02T12:03:16.481Z"
   },
   {
    "duration": 6,
    "start_time": "2025-08-02T12:04:35.123Z"
   },
   {
    "duration": 1358,
    "start_time": "2025-08-02T12:07:58.102Z"
   },
   {
    "duration": 5,
    "start_time": "2025-08-02T12:08:06.192Z"
   },
   {
    "duration": 4,
    "start_time": "2025-08-02T12:08:18.612Z"
   },
   {
    "duration": 105,
    "start_time": "2025-08-02T12:09:20.419Z"
   },
   {
    "duration": 13,
    "start_time": "2025-08-02T12:10:01.105Z"
   },
   {
    "duration": 5,
    "start_time": "2025-08-02T12:11:15.922Z"
   },
   {
    "duration": 5,
    "start_time": "2025-08-02T12:11:45.540Z"
   },
   {
    "duration": 12,
    "start_time": "2025-08-02T12:13:22.399Z"
   },
   {
    "duration": 5,
    "start_time": "2025-08-02T12:14:38.102Z"
   },
   {
    "duration": 8,
    "start_time": "2025-08-02T12:15:15.764Z"
   },
   {
    "duration": 5,
    "start_time": "2025-08-02T12:15:17.299Z"
   },
   {
    "duration": 11,
    "start_time": "2025-08-02T12:15:22.357Z"
   },
   {
    "duration": 5,
    "start_time": "2025-08-02T12:15:24.353Z"
   },
   {
    "duration": 9,
    "start_time": "2025-08-02T12:15:26.481Z"
   },
   {
    "duration": 6,
    "start_time": "2025-08-02T12:16:05.705Z"
   },
   {
    "duration": 5,
    "start_time": "2025-08-02T12:16:10.567Z"
   },
   {
    "duration": 8,
    "start_time": "2025-08-02T12:16:50.676Z"
   },
   {
    "duration": 9,
    "start_time": "2025-08-02T12:17:33.277Z"
   },
   {
    "duration": 10,
    "start_time": "2025-08-02T12:19:07.859Z"
   },
   {
    "duration": 5,
    "start_time": "2025-08-02T12:19:13.048Z"
   },
   {
    "duration": 8,
    "start_time": "2025-08-02T12:19:14.737Z"
   },
   {
    "duration": 11,
    "start_time": "2025-08-02T12:19:20.065Z"
   },
   {
    "duration": 6,
    "start_time": "2025-08-02T12:19:21.494Z"
   },
   {
    "duration": 13,
    "start_time": "2025-08-02T12:19:27.673Z"
   },
   {
    "duration": 6,
    "start_time": "2025-08-02T12:19:33.145Z"
   },
   {
    "duration": 9,
    "start_time": "2025-08-02T12:21:45.914Z"
   },
   {
    "duration": 5,
    "start_time": "2025-08-02T12:21:47.178Z"
   },
   {
    "duration": 6,
    "start_time": "2025-08-02T12:21:49.235Z"
   },
   {
    "duration": 6,
    "start_time": "2025-08-02T12:21:49.543Z"
   },
   {
    "duration": 6,
    "start_time": "2025-08-02T12:21:50.350Z"
   },
   {
    "duration": 7,
    "start_time": "2025-08-02T12:21:54.854Z"
   },
   {
    "duration": 10,
    "start_time": "2025-08-02T12:27:27.585Z"
   },
   {
    "duration": 5,
    "start_time": "2025-08-02T12:27:54.268Z"
   },
   {
    "duration": 5,
    "start_time": "2025-08-02T12:28:56.306Z"
   },
   {
    "duration": 1380,
    "start_time": "2025-08-02T12:30:18.727Z"
   },
   {
    "duration": 4,
    "start_time": "2025-08-02T12:30:28.830Z"
   },
   {
    "duration": 1394,
    "start_time": "2025-08-02T12:30:31.950Z"
   },
   {
    "duration": 5,
    "start_time": "2025-08-02T12:30:37.644Z"
   },
   {
    "duration": 5,
    "start_time": "2025-08-02T12:31:51.328Z"
   },
   {
    "duration": 1481,
    "start_time": "2025-08-02T12:32:20.973Z"
   },
   {
    "duration": 5,
    "start_time": "2025-08-02T12:32:26.173Z"
   },
   {
    "duration": 13,
    "start_time": "2025-08-02T12:33:53.690Z"
   },
   {
    "duration": 12,
    "start_time": "2025-08-02T12:34:40.842Z"
   },
   {
    "duration": 13,
    "start_time": "2025-08-02T12:34:48.013Z"
   },
   {
    "duration": 12,
    "start_time": "2025-08-02T12:34:53.205Z"
   },
   {
    "duration": 11,
    "start_time": "2025-08-02T12:37:21.100Z"
   },
   {
    "duration": 13,
    "start_time": "2025-08-02T12:37:46.036Z"
   },
   {
    "duration": 5,
    "start_time": "2025-08-02T12:38:18.449Z"
   },
   {
    "duration": 5,
    "start_time": "2025-08-02T12:38:48.390Z"
   },
   {
    "duration": 6,
    "start_time": "2025-08-02T12:39:47.544Z"
   },
   {
    "duration": 7,
    "start_time": "2025-08-02T12:41:38.564Z"
   },
   {
    "duration": 12,
    "start_time": "2025-08-02T12:41:50.151Z"
   },
   {
    "duration": 6,
    "start_time": "2025-08-02T12:57:03.936Z"
   },
   {
    "duration": 12,
    "start_time": "2025-08-02T12:57:04.546Z"
   },
   {
    "duration": 10,
    "start_time": "2025-08-02T12:57:40.432Z"
   },
   {
    "duration": 4,
    "start_time": "2025-08-02T12:57:49.211Z"
   },
   {
    "duration": 6,
    "start_time": "2025-08-02T13:10:02.249Z"
   },
   {
    "duration": 16,
    "start_time": "2025-08-02T13:10:44.957Z"
   },
   {
    "duration": 7,
    "start_time": "2025-08-02T13:10:55.912Z"
   },
   {
    "duration": 9,
    "start_time": "2025-08-02T13:11:13.552Z"
   },
   {
    "duration": 9,
    "start_time": "2025-08-02T13:12:21.657Z"
   },
   {
    "duration": 7,
    "start_time": "2025-08-02T13:12:25.892Z"
   },
   {
    "duration": 8,
    "start_time": "2025-08-02T13:13:07.214Z"
   },
   {
    "duration": 4,
    "start_time": "2025-08-02T13:13:42.505Z"
   },
   {
    "duration": 1281,
    "start_time": "2025-08-02T13:14:37.786Z"
   },
   {
    "duration": 6,
    "start_time": "2025-08-02T13:15:12.523Z"
   },
   {
    "duration": 15,
    "start_time": "2025-08-02T13:17:02.019Z"
   },
   {
    "duration": 7,
    "start_time": "2025-08-02T13:18:14.604Z"
   },
   {
    "duration": 6,
    "start_time": "2025-08-02T13:18:15.593Z"
   },
   {
    "duration": 7,
    "start_time": "2025-08-02T13:18:48.873Z"
   },
   {
    "duration": 9,
    "start_time": "2025-08-02T13:19:01.506Z"
   },
   {
    "duration": 8,
    "start_time": "2025-08-02T13:19:17.747Z"
   },
   {
    "duration": 8,
    "start_time": "2025-08-02T13:19:37.071Z"
   },
   {
    "duration": 6,
    "start_time": "2025-08-02T13:20:21.935Z"
   },
   {
    "duration": 8,
    "start_time": "2025-08-02T13:20:39.469Z"
   },
   {
    "duration": 7,
    "start_time": "2025-08-02T13:20:52.014Z"
   },
   {
    "duration": 17,
    "start_time": "2025-08-02T13:21:11.480Z"
   },
   {
    "duration": 21,
    "start_time": "2025-08-02T13:21:55.661Z"
   },
   {
    "duration": 11,
    "start_time": "2025-08-02T13:25:40.918Z"
   },
   {
    "duration": 11,
    "start_time": "2025-08-02T13:26:44.995Z"
   },
   {
    "duration": 5,
    "start_time": "2025-08-02T13:27:13.336Z"
   },
   {
    "duration": 5,
    "start_time": "2025-08-02T13:27:15.345Z"
   },
   {
    "duration": 5,
    "start_time": "2025-08-02T13:27:52.119Z"
   },
   {
    "duration": 4,
    "start_time": "2025-08-02T13:28:21.686Z"
   },
   {
    "duration": 4,
    "start_time": "2025-08-02T13:28:22.376Z"
   },
   {
    "duration": 4,
    "start_time": "2025-08-02T13:28:29.826Z"
   },
   {
    "duration": 4,
    "start_time": "2025-08-02T13:28:30.403Z"
   },
   {
    "duration": 6,
    "start_time": "2025-08-02T13:36:48.397Z"
   },
   {
    "duration": 4,
    "start_time": "2025-08-02T13:36:58.825Z"
   },
   {
    "duration": 396,
    "start_time": "2025-08-02T14:21:04.913Z"
   },
   {
    "duration": 85,
    "start_time": "2025-08-02T14:21:05.311Z"
   },
   {
    "duration": 17,
    "start_time": "2025-08-02T14:21:05.398Z"
   },
   {
    "duration": 23,
    "start_time": "2025-08-02T14:21:05.417Z"
   },
   {
    "duration": 12,
    "start_time": "2025-08-02T14:21:05.442Z"
   },
   {
    "duration": 20,
    "start_time": "2025-08-02T14:21:05.455Z"
   },
   {
    "duration": 18,
    "start_time": "2025-08-02T14:21:05.477Z"
   },
   {
    "duration": 224,
    "start_time": "2025-08-02T14:21:05.497Z"
   },
   {
    "duration": 0,
    "start_time": "2025-08-02T14:21:05.723Z"
   },
   {
    "duration": 0,
    "start_time": "2025-08-02T14:21:05.724Z"
   },
   {
    "duration": 0,
    "start_time": "2025-08-02T14:21:05.725Z"
   },
   {
    "duration": 0,
    "start_time": "2025-08-02T14:21:05.726Z"
   },
   {
    "duration": 0,
    "start_time": "2025-08-02T14:21:05.727Z"
   },
   {
    "duration": 0,
    "start_time": "2025-08-02T14:21:05.732Z"
   },
   {
    "duration": 0,
    "start_time": "2025-08-02T14:21:05.733Z"
   },
   {
    "duration": 0,
    "start_time": "2025-08-02T14:21:05.735Z"
   },
   {
    "duration": 0,
    "start_time": "2025-08-02T14:21:05.738Z"
   },
   {
    "duration": 0,
    "start_time": "2025-08-02T14:21:05.762Z"
   },
   {
    "duration": 0,
    "start_time": "2025-08-02T14:21:05.764Z"
   },
   {
    "duration": 0,
    "start_time": "2025-08-02T14:21:05.766Z"
   },
   {
    "duration": 0,
    "start_time": "2025-08-02T14:21:05.768Z"
   },
   {
    "duration": 0,
    "start_time": "2025-08-02T14:21:05.769Z"
   },
   {
    "duration": 0,
    "start_time": "2025-08-02T14:21:05.771Z"
   },
   {
    "duration": 0,
    "start_time": "2025-08-02T14:21:05.772Z"
   },
   {
    "duration": 0,
    "start_time": "2025-08-02T14:21:05.774Z"
   },
   {
    "duration": 0,
    "start_time": "2025-08-02T14:21:05.775Z"
   },
   {
    "duration": 0,
    "start_time": "2025-08-02T14:21:05.777Z"
   },
   {
    "duration": 0,
    "start_time": "2025-08-02T14:21:05.781Z"
   },
   {
    "duration": 0,
    "start_time": "2025-08-02T14:21:05.782Z"
   },
   {
    "duration": 0,
    "start_time": "2025-08-02T14:21:05.784Z"
   },
   {
    "duration": 0,
    "start_time": "2025-08-02T14:21:05.786Z"
   },
   {
    "duration": 0,
    "start_time": "2025-08-02T14:21:05.788Z"
   },
   {
    "duration": 0,
    "start_time": "2025-08-02T14:21:05.789Z"
   },
   {
    "duration": 0,
    "start_time": "2025-08-02T14:21:05.791Z"
   },
   {
    "duration": 0,
    "start_time": "2025-08-02T14:21:05.793Z"
   },
   {
    "duration": 0,
    "start_time": "2025-08-02T14:21:05.794Z"
   },
   {
    "duration": 0,
    "start_time": "2025-08-02T14:21:05.796Z"
   },
   {
    "duration": 0,
    "start_time": "2025-08-02T14:21:05.797Z"
   },
   {
    "duration": 0,
    "start_time": "2025-08-02T14:21:05.799Z"
   },
   {
    "duration": 0,
    "start_time": "2025-08-02T14:21:05.861Z"
   },
   {
    "duration": 0,
    "start_time": "2025-08-02T14:21:05.863Z"
   },
   {
    "duration": 0,
    "start_time": "2025-08-02T14:21:05.864Z"
   },
   {
    "duration": 12,
    "start_time": "2025-08-02T14:21:32.220Z"
   },
   {
    "duration": 396,
    "start_time": "2025-08-02T14:22:12.991Z"
   },
   {
    "duration": 84,
    "start_time": "2025-08-02T14:22:13.389Z"
   },
   {
    "duration": 18,
    "start_time": "2025-08-02T14:22:13.474Z"
   },
   {
    "duration": 43,
    "start_time": "2025-08-02T14:22:13.495Z"
   },
   {
    "duration": 70,
    "start_time": "2025-08-02T14:22:13.542Z"
   },
   {
    "duration": 18,
    "start_time": "2025-08-02T14:22:13.614Z"
   },
   {
    "duration": 29,
    "start_time": "2025-08-02T14:22:13.634Z"
   },
   {
    "duration": 6,
    "start_time": "2025-08-02T14:22:13.665Z"
   },
   {
    "duration": 14,
    "start_time": "2025-08-02T14:22:13.672Z"
   },
   {
    "duration": 20,
    "start_time": "2025-08-02T14:22:13.688Z"
   },
   {
    "duration": 94,
    "start_time": "2025-08-02T14:22:13.710Z"
   },
   {
    "duration": 11,
    "start_time": "2025-08-02T14:22:13.805Z"
   },
   {
    "duration": 11,
    "start_time": "2025-08-02T14:22:13.818Z"
   },
   {
    "duration": 96,
    "start_time": "2025-08-02T14:22:13.832Z"
   },
   {
    "duration": 10,
    "start_time": "2025-08-02T14:22:13.930Z"
   },
   {
    "duration": 8,
    "start_time": "2025-08-02T14:22:13.942Z"
   },
   {
    "duration": 44,
    "start_time": "2025-08-02T14:22:13.951Z"
   },
   {
    "duration": 37,
    "start_time": "2025-08-02T14:22:13.996Z"
   },
   {
    "duration": 8,
    "start_time": "2025-08-02T14:22:14.035Z"
   },
   {
    "duration": 23,
    "start_time": "2025-08-02T14:22:14.045Z"
   },
   {
    "duration": 5,
    "start_time": "2025-08-02T14:22:14.070Z"
   },
   {
    "duration": 108,
    "start_time": "2025-08-02T14:22:14.077Z"
   },
   {
    "duration": 0,
    "start_time": "2025-08-02T14:22:14.187Z"
   },
   {
    "duration": 0,
    "start_time": "2025-08-02T14:22:14.188Z"
   },
   {
    "duration": 0,
    "start_time": "2025-08-02T14:22:14.189Z"
   },
   {
    "duration": 0,
    "start_time": "2025-08-02T14:22:14.191Z"
   },
   {
    "duration": 0,
    "start_time": "2025-08-02T14:22:14.192Z"
   },
   {
    "duration": 0,
    "start_time": "2025-08-02T14:22:14.193Z"
   },
   {
    "duration": 0,
    "start_time": "2025-08-02T14:22:14.195Z"
   },
   {
    "duration": 0,
    "start_time": "2025-08-02T14:22:14.196Z"
   },
   {
    "duration": 0,
    "start_time": "2025-08-02T14:22:14.198Z"
   },
   {
    "duration": 0,
    "start_time": "2025-08-02T14:22:14.199Z"
   },
   {
    "duration": 0,
    "start_time": "2025-08-02T14:22:14.200Z"
   },
   {
    "duration": 0,
    "start_time": "2025-08-02T14:22:14.202Z"
   },
   {
    "duration": 0,
    "start_time": "2025-08-02T14:22:14.203Z"
   },
   {
    "duration": 0,
    "start_time": "2025-08-02T14:22:14.204Z"
   },
   {
    "duration": 0,
    "start_time": "2025-08-02T14:22:14.205Z"
   },
   {
    "duration": 0,
    "start_time": "2025-08-02T14:22:14.207Z"
   },
   {
    "duration": 0,
    "start_time": "2025-08-02T14:22:14.208Z"
   },
   {
    "duration": 0,
    "start_time": "2025-08-02T14:22:14.209Z"
   },
   {
    "duration": 0,
    "start_time": "2025-08-02T14:22:14.210Z"
   },
   {
    "duration": 416,
    "start_time": "2025-08-02T14:22:33.682Z"
   },
   {
    "duration": 89,
    "start_time": "2025-08-02T14:22:34.100Z"
   },
   {
    "duration": 17,
    "start_time": "2025-08-02T14:22:34.191Z"
   },
   {
    "duration": 19,
    "start_time": "2025-08-02T14:22:34.210Z"
   },
   {
    "duration": 12,
    "start_time": "2025-08-02T14:22:34.231Z"
   },
   {
    "duration": 6,
    "start_time": "2025-08-02T14:22:34.245Z"
   },
   {
    "duration": 27,
    "start_time": "2025-08-02T14:22:34.253Z"
   },
   {
    "duration": 5,
    "start_time": "2025-08-02T14:22:34.281Z"
   },
   {
    "duration": 13,
    "start_time": "2025-08-02T14:22:34.287Z"
   },
   {
    "duration": 30,
    "start_time": "2025-08-02T14:22:34.302Z"
   },
   {
    "duration": 17,
    "start_time": "2025-08-02T14:22:34.334Z"
   },
   {
    "duration": 20,
    "start_time": "2025-08-02T14:22:34.353Z"
   },
   {
    "duration": 17,
    "start_time": "2025-08-02T14:22:34.375Z"
   },
   {
    "duration": 25,
    "start_time": "2025-08-02T14:22:34.397Z"
   },
   {
    "duration": 7,
    "start_time": "2025-08-02T14:22:34.424Z"
   },
   {
    "duration": 7,
    "start_time": "2025-08-02T14:22:34.433Z"
   },
   {
    "duration": 96,
    "start_time": "2025-08-02T14:22:34.442Z"
   },
   {
    "duration": 20,
    "start_time": "2025-08-02T14:22:34.540Z"
   },
   {
    "duration": 6,
    "start_time": "2025-08-02T14:22:34.562Z"
   },
   {
    "duration": 50,
    "start_time": "2025-08-02T14:22:34.570Z"
   },
   {
    "duration": 104,
    "start_time": "2025-08-02T14:22:34.622Z"
   },
   {
    "duration": 19,
    "start_time": "2025-08-02T14:22:34.728Z"
   },
   {
    "duration": 113,
    "start_time": "2025-08-02T14:22:34.748Z"
   },
   {
    "duration": 0,
    "start_time": "2025-08-02T14:22:34.863Z"
   },
   {
    "duration": 0,
    "start_time": "2025-08-02T14:22:34.864Z"
   },
   {
    "duration": 0,
    "start_time": "2025-08-02T14:22:34.865Z"
   },
   {
    "duration": 0,
    "start_time": "2025-08-02T14:22:34.866Z"
   },
   {
    "duration": 0,
    "start_time": "2025-08-02T14:22:34.867Z"
   },
   {
    "duration": 0,
    "start_time": "2025-08-02T14:22:34.868Z"
   },
   {
    "duration": 0,
    "start_time": "2025-08-02T14:22:34.869Z"
   },
   {
    "duration": 0,
    "start_time": "2025-08-02T14:22:34.871Z"
   },
   {
    "duration": 0,
    "start_time": "2025-08-02T14:22:34.871Z"
   },
   {
    "duration": 0,
    "start_time": "2025-08-02T14:22:34.873Z"
   },
   {
    "duration": 0,
    "start_time": "2025-08-02T14:22:34.874Z"
   },
   {
    "duration": 0,
    "start_time": "2025-08-02T14:22:34.876Z"
   },
   {
    "duration": 0,
    "start_time": "2025-08-02T14:22:34.876Z"
   },
   {
    "duration": 0,
    "start_time": "2025-08-02T14:22:34.877Z"
   },
   {
    "duration": 0,
    "start_time": "2025-08-02T14:22:34.878Z"
   },
   {
    "duration": 0,
    "start_time": "2025-08-02T14:22:34.879Z"
   },
   {
    "duration": 0,
    "start_time": "2025-08-02T14:22:34.880Z"
   },
   {
    "duration": 382,
    "start_time": "2025-08-02T14:22:56.510Z"
   },
   {
    "duration": 85,
    "start_time": "2025-08-02T14:22:56.894Z"
   },
   {
    "duration": 20,
    "start_time": "2025-08-02T14:22:56.981Z"
   },
   {
    "duration": 9,
    "start_time": "2025-08-02T14:22:57.003Z"
   },
   {
    "duration": 11,
    "start_time": "2025-08-02T14:22:57.014Z"
   },
   {
    "duration": 12,
    "start_time": "2025-08-02T14:22:57.027Z"
   },
   {
    "duration": 22,
    "start_time": "2025-08-02T14:22:57.041Z"
   },
   {
    "duration": 16,
    "start_time": "2025-08-02T14:22:57.065Z"
   },
   {
    "duration": 14,
    "start_time": "2025-08-02T14:22:57.082Z"
   },
   {
    "duration": 16,
    "start_time": "2025-08-02T14:22:57.097Z"
   },
   {
    "duration": 17,
    "start_time": "2025-08-02T14:22:57.114Z"
   },
   {
    "duration": 34,
    "start_time": "2025-08-02T14:22:57.133Z"
   },
   {
    "duration": 12,
    "start_time": "2025-08-02T14:22:57.169Z"
   },
   {
    "duration": 4,
    "start_time": "2025-08-02T14:22:57.184Z"
   },
   {
    "duration": 6,
    "start_time": "2025-08-02T14:22:57.190Z"
   },
   {
    "duration": 47,
    "start_time": "2025-08-02T14:22:57.198Z"
   },
   {
    "duration": 36,
    "start_time": "2025-08-02T14:22:57.246Z"
   },
   {
    "duration": 6,
    "start_time": "2025-08-02T14:22:57.284Z"
   },
   {
    "duration": 12,
    "start_time": "2025-08-02T14:22:57.292Z"
   },
   {
    "duration": 4,
    "start_time": "2025-08-02T14:22:57.306Z"
   },
   {
    "duration": 3,
    "start_time": "2025-08-02T14:22:57.312Z"
   },
   {
    "duration": 6,
    "start_time": "2025-08-02T14:22:57.317Z"
   },
   {
    "duration": 4,
    "start_time": "2025-08-02T14:22:57.325Z"
   },
   {
    "duration": 14,
    "start_time": "2025-08-02T14:22:57.331Z"
   },
   {
    "duration": 26,
    "start_time": "2025-08-02T14:22:57.346Z"
   },
   {
    "duration": 7,
    "start_time": "2025-08-02T14:22:57.374Z"
   },
   {
    "duration": 12,
    "start_time": "2025-08-02T14:22:57.382Z"
   },
   {
    "duration": 4,
    "start_time": "2025-08-02T14:22:57.396Z"
   },
   {
    "duration": 14,
    "start_time": "2025-08-02T14:22:57.402Z"
   },
   {
    "duration": 8,
    "start_time": "2025-08-02T14:22:57.418Z"
   },
   {
    "duration": 7,
    "start_time": "2025-08-02T14:22:57.459Z"
   },
   {
    "duration": 7,
    "start_time": "2025-08-02T14:22:57.468Z"
   },
   {
    "duration": 5,
    "start_time": "2025-08-02T14:22:57.477Z"
   },
   {
    "duration": 5,
    "start_time": "2025-08-02T14:22:57.484Z"
   },
   {
    "duration": 5,
    "start_time": "2025-08-02T14:22:57.490Z"
   },
   {
    "duration": 104,
    "start_time": "2025-08-02T14:22:57.496Z"
   },
   {
    "duration": 46,
    "start_time": "2025-08-02T14:22:57.601Z"
   },
   {
    "duration": 5,
    "start_time": "2025-08-02T14:22:57.649Z"
   },
   {
    "duration": 24,
    "start_time": "2025-08-02T14:22:57.656Z"
   },
   {
    "duration": 412,
    "start_time": "2025-08-03T00:57:51.799Z"
   },
   {
    "duration": 151,
    "start_time": "2025-08-03T00:57:52.215Z"
   },
   {
    "duration": 17,
    "start_time": "2025-08-03T00:57:52.368Z"
   },
   {
    "duration": 3,
    "start_time": "2025-08-03T00:57:52.387Z"
   },
   {
    "duration": 5,
    "start_time": "2025-08-03T00:57:52.392Z"
   },
   {
    "duration": 3,
    "start_time": "2025-08-03T00:57:52.398Z"
   },
   {
    "duration": 13,
    "start_time": "2025-08-03T00:57:52.402Z"
   },
   {
    "duration": 2,
    "start_time": "2025-08-03T00:57:52.416Z"
   },
   {
    "duration": 11,
    "start_time": "2025-08-03T00:57:52.420Z"
   },
   {
    "duration": 46,
    "start_time": "2025-08-03T00:57:52.434Z"
   },
   {
    "duration": 18,
    "start_time": "2025-08-03T00:57:52.482Z"
   },
   {
    "duration": 16,
    "start_time": "2025-08-03T00:57:52.502Z"
   },
   {
    "duration": 11,
    "start_time": "2025-08-03T00:57:52.519Z"
   },
   {
    "duration": 5,
    "start_time": "2025-08-03T00:57:52.532Z"
   },
   {
    "duration": 5,
    "start_time": "2025-08-03T00:57:52.538Z"
   },
   {
    "duration": 29,
    "start_time": "2025-08-03T00:57:52.545Z"
   },
   {
    "duration": 6,
    "start_time": "2025-08-03T00:57:52.576Z"
   },
   {
    "duration": 6,
    "start_time": "2025-08-03T00:57:52.584Z"
   },
   {
    "duration": 4,
    "start_time": "2025-08-03T00:57:52.592Z"
   },
   {
    "duration": 5,
    "start_time": "2025-08-03T00:57:52.597Z"
   },
   {
    "duration": 4,
    "start_time": "2025-08-03T00:57:52.603Z"
   },
   {
    "duration": 4,
    "start_time": "2025-08-03T00:57:52.608Z"
   },
   {
    "duration": 15,
    "start_time": "2025-08-03T00:57:52.614Z"
   },
   {
    "duration": 50,
    "start_time": "2025-08-03T00:57:52.630Z"
   },
   {
    "duration": 12,
    "start_time": "2025-08-03T00:57:52.682Z"
   },
   {
    "duration": 13,
    "start_time": "2025-08-03T00:57:52.696Z"
   },
   {
    "duration": 13,
    "start_time": "2025-08-03T00:57:52.711Z"
   },
   {
    "duration": 5,
    "start_time": "2025-08-03T00:57:52.728Z"
   },
   {
    "duration": 11,
    "start_time": "2025-08-03T00:57:52.734Z"
   },
   {
    "duration": 6,
    "start_time": "2025-08-03T00:57:52.772Z"
   },
   {
    "duration": 5,
    "start_time": "2025-08-03T00:57:52.780Z"
   },
   {
    "duration": 7,
    "start_time": "2025-08-03T00:57:52.786Z"
   },
   {
    "duration": 5,
    "start_time": "2025-08-03T00:57:52.795Z"
   },
   {
    "duration": 6,
    "start_time": "2025-08-03T00:57:52.802Z"
   },
   {
    "duration": 6,
    "start_time": "2025-08-03T00:57:52.809Z"
   },
   {
    "duration": 5,
    "start_time": "2025-08-03T00:57:52.817Z"
   },
   {
    "duration": 28,
    "start_time": "2025-08-03T00:57:52.824Z"
   },
   {
    "duration": 21,
    "start_time": "2025-08-03T00:57:52.854Z"
   },
   {
    "duration": 3,
    "start_time": "2025-08-03T00:57:52.877Z"
   },
   {
    "duration": 63,
    "start_time": "2025-08-03T16:19:20.828Z"
   },
   {
    "duration": 8,
    "start_time": "2025-08-03T16:19:41.305Z"
   },
   {
    "duration": 8,
    "start_time": "2025-08-03T16:19:42.293Z"
   },
   {
    "duration": 6,
    "start_time": "2025-08-03T16:19:57.514Z"
   },
   {
    "duration": 569,
    "start_time": "2025-08-03T16:20:04.722Z"
   },
   {
    "duration": 136,
    "start_time": "2025-08-03T16:20:07.105Z"
   },
   {
    "duration": 7,
    "start_time": "2025-08-03T16:20:12.875Z"
   },
   {
    "duration": 4,
    "start_time": "2025-08-03T16:20:18.869Z"
   },
   {
    "duration": 4,
    "start_time": "2025-08-03T16:20:20.514Z"
   },
   {
    "duration": 4,
    "start_time": "2025-08-03T16:20:38.478Z"
   },
   {
    "duration": 8,
    "start_time": "2025-08-03T16:20:39.193Z"
   },
   {
    "duration": 4,
    "start_time": "2025-08-03T16:28:03.260Z"
   },
   {
    "duration": 15,
    "start_time": "2025-08-03T16:28:04.905Z"
   },
   {
    "duration": 2,
    "start_time": "2025-08-03T16:28:06.949Z"
   },
   {
    "duration": 12,
    "start_time": "2025-08-03T16:28:07.451Z"
   },
   {
    "duration": 20,
    "start_time": "2025-08-03T16:28:08.808Z"
   },
   {
    "duration": 58,
    "start_time": "2025-08-03T16:28:11.636Z"
   },
   {
    "duration": 13,
    "start_time": "2025-08-03T16:28:28.891Z"
   },
   {
    "duration": 14,
    "start_time": "2025-08-03T16:28:29.808Z"
   },
   {
    "duration": 5,
    "start_time": "2025-08-03T16:28:37.659Z"
   },
   {
    "duration": 6,
    "start_time": "2025-08-03T16:28:41.939Z"
   },
   {
    "duration": 8,
    "start_time": "2025-08-03T16:28:42.826Z"
   },
   {
    "duration": 9,
    "start_time": "2025-08-03T16:28:47.692Z"
   },
   {
    "duration": 94,
    "start_time": "2025-08-03T16:30:24.072Z"
   },
   {
    "duration": 15,
    "start_time": "2025-08-03T16:30:35.490Z"
   },
   {
    "duration": 7,
    "start_time": "2025-08-03T16:31:12.508Z"
   },
   {
    "duration": 4,
    "start_time": "2025-08-03T16:31:13.346Z"
   },
   {
    "duration": 5,
    "start_time": "2025-08-03T16:31:15.044Z"
   },
   {
    "duration": 5,
    "start_time": "2025-08-03T16:31:16.055Z"
   },
   {
    "duration": 5,
    "start_time": "2025-08-03T16:31:19.654Z"
   },
   {
    "duration": 5,
    "start_time": "2025-08-03T16:31:20.933Z"
   },
   {
    "duration": 18,
    "start_time": "2025-08-03T16:32:02.487Z"
   },
   {
    "duration": 13,
    "start_time": "2025-08-03T16:32:42.110Z"
   },
   {
    "duration": 19,
    "start_time": "2025-08-03T16:32:49.076Z"
   },
   {
    "duration": 11,
    "start_time": "2025-08-03T16:34:08.430Z"
   },
   {
    "duration": 11,
    "start_time": "2025-08-03T16:34:18.599Z"
   },
   {
    "duration": 15,
    "start_time": "2025-08-03T16:34:24.169Z"
   },
   {
    "duration": 17,
    "start_time": "2025-08-03T16:34:29.876Z"
   },
   {
    "duration": 12,
    "start_time": "2025-08-03T16:34:36.103Z"
   },
   {
    "duration": 9,
    "start_time": "2025-08-03T16:37:14.414Z"
   },
   {
    "duration": 8,
    "start_time": "2025-08-03T16:37:19.764Z"
   },
   {
    "duration": 7,
    "start_time": "2025-08-03T16:37:44.449Z"
   },
   {
    "duration": 8,
    "start_time": "2025-08-03T16:37:45.216Z"
   },
   {
    "duration": 89,
    "start_time": "2025-08-03T16:39:03.800Z"
   },
   {
    "duration": 14,
    "start_time": "2025-08-03T16:41:59.985Z"
   },
   {
    "duration": 25,
    "start_time": "2025-08-03T16:42:29.166Z"
   },
   {
    "duration": 11,
    "start_time": "2025-08-03T16:42:35.035Z"
   },
   {
    "duration": 11,
    "start_time": "2025-08-03T16:42:43.811Z"
   },
   {
    "duration": 23,
    "start_time": "2025-08-03T16:43:21.628Z"
   },
   {
    "duration": 8,
    "start_time": "2025-08-03T16:44:49.659Z"
   },
   {
    "duration": 34,
    "start_time": "2025-08-03T16:45:03.481Z"
   },
   {
    "duration": 489,
    "start_time": "2025-08-03T16:48:55.057Z"
   },
   {
    "duration": 150,
    "start_time": "2025-08-03T16:48:55.548Z"
   },
   {
    "duration": 4,
    "start_time": "2025-08-03T16:48:55.700Z"
   },
   {
    "duration": 28,
    "start_time": "2025-08-03T16:48:55.706Z"
   },
   {
    "duration": 29,
    "start_time": "2025-08-03T16:48:55.736Z"
   },
   {
    "duration": 3,
    "start_time": "2025-08-03T16:48:55.767Z"
   },
   {
    "duration": 24,
    "start_time": "2025-08-03T16:48:55.777Z"
   },
   {
    "duration": 15,
    "start_time": "2025-08-03T16:48:55.802Z"
   },
   {
    "duration": 25,
    "start_time": "2025-08-03T16:48:55.819Z"
   },
   {
    "duration": 14,
    "start_time": "2025-08-03T16:48:55.845Z"
   },
   {
    "duration": 21,
    "start_time": "2025-08-03T16:48:55.860Z"
   },
   {
    "duration": 7,
    "start_time": "2025-08-03T16:48:55.884Z"
   },
   {
    "duration": 12,
    "start_time": "2025-08-03T16:48:55.893Z"
   },
   {
    "duration": 8,
    "start_time": "2025-08-03T16:48:55.908Z"
   },
   {
    "duration": 6,
    "start_time": "2025-08-03T16:48:55.918Z"
   },
   {
    "duration": 47,
    "start_time": "2025-08-03T16:48:55.926Z"
   },
   {
    "duration": 33,
    "start_time": "2025-08-03T16:48:55.975Z"
   },
   {
    "duration": 13,
    "start_time": "2025-08-03T16:48:56.010Z"
   },
   {
    "duration": 10,
    "start_time": "2025-08-03T16:48:56.025Z"
   },
   {
    "duration": 7,
    "start_time": "2025-08-03T16:48:56.037Z"
   },
   {
    "duration": 12,
    "start_time": "2025-08-03T16:48:56.045Z"
   },
   {
    "duration": 11,
    "start_time": "2025-08-03T16:48:56.058Z"
   },
   {
    "duration": 15,
    "start_time": "2025-08-03T16:48:56.071Z"
   },
   {
    "duration": 15,
    "start_time": "2025-08-03T16:48:56.088Z"
   },
   {
    "duration": 6,
    "start_time": "2025-08-03T16:48:56.105Z"
   },
   {
    "duration": 22,
    "start_time": "2025-08-03T16:48:56.113Z"
   },
   {
    "duration": 6,
    "start_time": "2025-08-03T16:48:56.137Z"
   },
   {
    "duration": 37,
    "start_time": "2025-08-03T16:48:56.145Z"
   },
   {
    "duration": 8,
    "start_time": "2025-08-03T16:48:56.187Z"
   },
   {
    "duration": 11,
    "start_time": "2025-08-03T16:48:56.197Z"
   },
   {
    "duration": 10,
    "start_time": "2025-08-03T16:48:56.210Z"
   },
   {
    "duration": 9,
    "start_time": "2025-08-03T16:48:56.222Z"
   },
   {
    "duration": 13,
    "start_time": "2025-08-03T16:48:56.233Z"
   },
   {
    "duration": 19,
    "start_time": "2025-08-03T16:48:56.247Z"
   },
   {
    "duration": 21,
    "start_time": "2025-08-03T16:48:56.268Z"
   },
   {
    "duration": 28,
    "start_time": "2025-08-03T16:48:56.291Z"
   },
   {
    "duration": 38,
    "start_time": "2025-08-03T16:48:56.320Z"
   },
   {
    "duration": 28,
    "start_time": "2025-08-03T16:48:56.360Z"
   },
   {
    "duration": 53,
    "start_time": "2025-08-03T17:00:49.687Z"
   },
   {
    "duration": 379,
    "start_time": "2025-08-03T17:00:55.695Z"
   },
   {
    "duration": 135,
    "start_time": "2025-08-03T17:00:56.076Z"
   },
   {
    "duration": 5,
    "start_time": "2025-08-03T17:00:56.213Z"
   },
   {
    "duration": 12,
    "start_time": "2025-08-03T17:00:56.220Z"
   },
   {
    "duration": 15,
    "start_time": "2025-08-03T17:00:56.235Z"
   },
   {
    "duration": 2,
    "start_time": "2025-08-03T17:00:56.252Z"
   },
   {
    "duration": 12,
    "start_time": "2025-08-03T17:00:56.256Z"
   },
   {
    "duration": 15,
    "start_time": "2025-08-03T17:00:56.270Z"
   },
   {
    "duration": 32,
    "start_time": "2025-08-03T17:00:56.286Z"
   },
   {
    "duration": 9,
    "start_time": "2025-08-03T17:00:56.320Z"
   },
   {
    "duration": 25,
    "start_time": "2025-08-03T17:00:56.331Z"
   },
   {
    "duration": 9,
    "start_time": "2025-08-03T17:00:56.358Z"
   },
   {
    "duration": 21,
    "start_time": "2025-08-03T17:00:56.368Z"
   },
   {
    "duration": 10,
    "start_time": "2025-08-03T17:00:56.393Z"
   },
   {
    "duration": 19,
    "start_time": "2025-08-03T17:00:56.405Z"
   },
   {
    "duration": 21,
    "start_time": "2025-08-03T17:00:56.426Z"
   },
   {
    "duration": 10,
    "start_time": "2025-08-03T17:00:56.449Z"
   },
   {
    "duration": 13,
    "start_time": "2025-08-03T17:00:56.461Z"
   },
   {
    "duration": 24,
    "start_time": "2025-08-03T17:00:56.475Z"
   },
   {
    "duration": 11,
    "start_time": "2025-08-03T17:00:56.502Z"
   },
   {
    "duration": 6,
    "start_time": "2025-08-03T17:00:56.516Z"
   },
   {
    "duration": 30,
    "start_time": "2025-08-03T17:00:56.524Z"
   },
   {
    "duration": 18,
    "start_time": "2025-08-03T17:00:56.556Z"
   },
   {
    "duration": 19,
    "start_time": "2025-08-03T17:00:56.576Z"
   },
   {
    "duration": 7,
    "start_time": "2025-08-03T17:00:56.596Z"
   },
   {
    "duration": 45,
    "start_time": "2025-08-03T17:00:56.604Z"
   },
   {
    "duration": 6,
    "start_time": "2025-08-03T17:00:56.651Z"
   },
   {
    "duration": 31,
    "start_time": "2025-08-03T17:00:56.658Z"
   },
   {
    "duration": 14,
    "start_time": "2025-08-03T17:00:56.691Z"
   },
   {
    "duration": 7,
    "start_time": "2025-08-03T17:00:56.706Z"
   },
   {
    "duration": 21,
    "start_time": "2025-08-03T17:00:56.714Z"
   },
   {
    "duration": 6,
    "start_time": "2025-08-03T17:00:56.737Z"
   },
   {
    "duration": 23,
    "start_time": "2025-08-03T17:00:56.744Z"
   },
   {
    "duration": 7,
    "start_time": "2025-08-03T17:00:56.768Z"
   },
   {
    "duration": 7,
    "start_time": "2025-08-03T17:00:56.776Z"
   },
   {
    "duration": 5,
    "start_time": "2025-08-03T17:00:56.784Z"
   },
   {
    "duration": 6,
    "start_time": "2025-08-03T17:00:56.791Z"
   },
   {
    "duration": 8,
    "start_time": "2025-08-03T17:00:56.799Z"
   },
   {
    "duration": 33,
    "start_time": "2025-08-03T17:12:17.827Z"
   },
   {
    "duration": 10,
    "start_time": "2025-08-03T17:12:54.842Z"
   },
   {
    "duration": 42,
    "start_time": "2025-08-03T17:13:49.168Z"
   },
   {
    "duration": 13,
    "start_time": "2025-08-03T17:14:01.606Z"
   },
   {
    "duration": 430,
    "start_time": "2025-08-03T17:14:45.598Z"
   },
   {
    "duration": 154,
    "start_time": "2025-08-03T17:14:46.030Z"
   },
   {
    "duration": 5,
    "start_time": "2025-08-03T17:14:46.186Z"
   },
   {
    "duration": 14,
    "start_time": "2025-08-03T17:14:46.193Z"
   },
   {
    "duration": 19,
    "start_time": "2025-08-03T17:14:46.210Z"
   },
   {
    "duration": 4,
    "start_time": "2025-08-03T17:14:46.231Z"
   },
   {
    "duration": 37,
    "start_time": "2025-08-03T17:14:46.237Z"
   },
   {
    "duration": 23,
    "start_time": "2025-08-03T17:14:46.276Z"
   },
   {
    "duration": 30,
    "start_time": "2025-08-03T17:14:46.301Z"
   },
   {
    "duration": 12,
    "start_time": "2025-08-03T17:14:46.333Z"
   },
   {
    "duration": 31,
    "start_time": "2025-08-03T17:14:46.347Z"
   },
   {
    "duration": 12,
    "start_time": "2025-08-03T17:14:46.380Z"
   },
   {
    "duration": 33,
    "start_time": "2025-08-03T17:14:46.394Z"
   },
   {
    "duration": 33,
    "start_time": "2025-08-03T17:14:46.432Z"
   },
   {
    "duration": 21,
    "start_time": "2025-08-03T17:14:46.467Z"
   },
   {
    "duration": 22,
    "start_time": "2025-08-03T17:14:46.491Z"
   },
   {
    "duration": 18,
    "start_time": "2025-08-03T17:14:46.516Z"
   },
   {
    "duration": 32,
    "start_time": "2025-08-03T17:14:46.536Z"
   },
   {
    "duration": 16,
    "start_time": "2025-08-03T17:14:46.569Z"
   },
   {
    "duration": 8,
    "start_time": "2025-08-03T17:14:46.588Z"
   },
   {
    "duration": 13,
    "start_time": "2025-08-03T17:14:46.599Z"
   },
   {
    "duration": 97,
    "start_time": "2025-08-03T17:14:46.614Z"
   },
   {
    "duration": 56,
    "start_time": "2025-08-03T17:14:46.714Z"
   },
   {
    "duration": 20,
    "start_time": "2025-08-03T17:14:46.772Z"
   },
   {
    "duration": 15,
    "start_time": "2025-08-03T17:14:46.794Z"
   },
   {
    "duration": 6,
    "start_time": "2025-08-03T17:14:46.811Z"
   },
   {
    "duration": 22,
    "start_time": "2025-08-03T17:14:46.819Z"
   },
   {
    "duration": 28,
    "start_time": "2025-08-03T17:14:46.843Z"
   },
   {
    "duration": 113,
    "start_time": "2025-08-03T17:14:46.874Z"
   },
   {
    "duration": 8,
    "start_time": "2025-08-03T17:14:46.989Z"
   },
   {
    "duration": 12,
    "start_time": "2025-08-03T17:14:46.999Z"
   },
   {
    "duration": 7,
    "start_time": "2025-08-03T17:14:47.013Z"
   },
   {
    "duration": 12,
    "start_time": "2025-08-03T17:14:47.022Z"
   },
   {
    "duration": 10,
    "start_time": "2025-08-03T17:14:47.036Z"
   },
   {
    "duration": 26,
    "start_time": "2025-08-03T17:14:47.047Z"
   },
   {
    "duration": 15,
    "start_time": "2025-08-03T17:14:47.075Z"
   },
   {
    "duration": 23,
    "start_time": "2025-08-03T17:14:47.092Z"
   },
   {
    "duration": 11,
    "start_time": "2025-08-03T17:14:47.117Z"
   },
   {
    "duration": 14,
    "start_time": "2025-08-03T17:14:47.130Z"
   }
  ],
  "colab": {
   "provenance": []
  },
  "kernelspec": {
   "display_name": "Python 3 (ipykernel)",
   "language": "python",
   "name": "python3"
  },
  "language_info": {
   "codemirror_mode": {
    "name": "ipython",
    "version": 3
   },
   "file_extension": ".py",
   "mimetype": "text/x-python",
   "name": "python",
   "nbconvert_exporter": "python",
   "pygments_lexer": "ipython3",
   "version": "3.9.5"
  },
  "toc": {
   "base_numbering": 1,
   "nav_menu": {},
   "number_sections": true,
   "sideBar": true,
   "skip_h1_title": true,
   "title_cell": "Table of Contents",
   "title_sidebar": "Contents",
   "toc_cell": false,
   "toc_position": {},
   "toc_section_display": true,
   "toc_window_display": true
  }
 },
 "nbformat": 4,
 "nbformat_minor": 5
}
