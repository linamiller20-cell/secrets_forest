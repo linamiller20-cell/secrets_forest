{
 "cells": [
  {
   "cell_type": "markdown",
   "id": "e06910dd",
   "metadata": {
    "id": "e06910dd"
   },
   "source": [
    "# Напишите заголовок проекта здесь\n",
    "\n",
    "- Автор: Саватнеева Виктория\n",
    "- Дата: 17.08.2025"
   ]
  },
  {
   "cell_type": "markdown",
   "id": "4149134c",
   "metadata": {
    "id": "4149134c"
   },
   "source": [
    "### Цели и задачи проекта\n",
    "\n",
    "<font color='#777778'>Целью проекта является проведение исследовательского анализа рынка для определения формата заведения для открытия. \n",
    "Задачами будет являться предобработка данных и их анализ с поиском аномальных значений, дубликатов, взаимосвязи между данными и их влиянием друг на друга.</font>"
   ]
  },
  {
   "cell_type": "markdown",
   "id": "728986ea",
   "metadata": {
    "id": "728986ea"
   },
   "source": [
    "### Описание данных\n",
    "\n",
    "<font color='#777778'>Файл /datasets/rest_info.csv содержит информацию о заведениях общественного питания:\n",
    "- name — название заведения;\n",
    "- address — адрес заведения;\n",
    "- district — административный район, в котором находится заведение, например Центральный административный округ;\n",
    "- category — категория заведения, например «кафе», «пиццерия» или «кофейня»;\n",
    "- hours — информация о днях и часах работы;\n",
    "- rating — рейтинг заведения по оценкам пользователей в Яндекс Картах (высшая оценка — 5.0);\n",
    "- chain — число, выраженное 0 или 1, которое показывает, является ли заведение сетевым (для маленьких сетей могут встречаться ошибки):\n",
    "  - 0 — заведение не является сетевым;\n",
    "  - 1 — заведение является сетевым.\n",
    "- seats — количество посадочных мест.\n",
    "\n",
    "Файл /datasets/rest_price.csv содержит информацию о среднем чеке в заведениях общественного питания:\n",
    "- price — категория цен в заведении, например «средние», «ниже среднего», «выше среднего» и так далее;\n",
    "- avg_bill — строка, которая хранит среднюю стоимость заказа в виде диапазона, например:\n",
    "  - «Средний счёт: 1000–1500 ₽»;\n",
    "  - «Цена чашки капучино: 130–220 ₽»;\n",
    "  - «Цена бокала пива: 400–600 ₽».\n",
    "и так далее;\n",
    "- middle_avg_bill — число с оценкой среднего чека, которое указано только для значений из столбца avg_bill, начинающихся с подстроки «Средний счёт»:\n",
    "  - Если в строке указан ценовой диапазон из двух значений, в столбец войдёт медиана этих двух значений.\n",
    "  - Если в строке указано одно число — цена без диапазона, то в столбец войдёт это число.\n",
    "  - Если значения нет или оно не начинается с подстроки «Средний счёт», то в столбец ничего не войдёт.\n",
    "- middle_coffee_cup — число с оценкой одной чашки капучино, которое указано только для значений из столбца avg_bill, начинающихся с подстроки «Цена одной чашки капучино»:\n",
    "  - Если в строке указан ценовой диапазон из двух значений, в столбец войдёт медиана этих двух значений.\n",
    "  - Если в строке указано одно число — цена без диапазона, то в столбец войдёт это число.\n",
    "  - Если значения нет или оно не начинается с подстроки «Цена одной чашки капучино», то в столбец ничего не войдёт.</font>"
   ]
  },
  {
   "cell_type": "markdown",
   "id": "4fecaf95",
   "metadata": {
    "id": "4fecaf95"
   },
   "source": [
    "### Содержимое проекта\n",
    "\n",
    "<font color='#777778'>Перечислите основные шаги проекта или напишите оглавление. Используйте описание проекта, чтобы зафиксировать основные шаги.\n",
    "\n",
    "1. Загрузка данных и знакомство с ними\n",
    "2. Предобработка данных\n",
    "3. Исследовательский анализ данных\n",
    "4. Итоговый вывод и рекомендации </font>"
   ]
  },
  {
   "cell_type": "markdown",
   "id": "6f7d21d6",
   "metadata": {
    "id": "6f7d21d6"
   },
   "source": [
    "## 1. Загрузка данных и знакомство с ними\n",
    "\n",
    "- Загрузите данные о заведениях общественного питания Москвы. Путь к файлам: `/datasets/rest_info.csv` и `/datasets/rest_price.csv`."
   ]
  },
  {
   "cell_type": "markdown",
   "id": "18b5dfff",
   "metadata": {
    "id": "18b5dfff"
   },
   "source": [
    "- Познакомьтесь с данными и изучите общую информацию о них."
   ]
  },
  {
   "cell_type": "code",
   "execution_count": 11,
   "id": "ecaacfa8",
   "metadata": {},
   "outputs": [],
   "source": [
    "# Импортируем библиотеки\n",
    "import pandas as pd\n",
    "import numpy as np\n",
    "\n",
    "# Загружаем библиотеки для визуализации данных\n",
    "import matplotlib.pyplot as plt\n",
    "import seaborn as sns"
   ]
  },
  {
   "cell_type": "code",
   "execution_count": 12,
   "id": "f68a7419",
   "metadata": {
    "id": "f68a7419"
   },
   "outputs": [],
   "source": [
    "rest_info = pd.read_csv('https://code.s3.yandex.net/datasets/rest_info.csv')"
   ]
  },
  {
   "cell_type": "code",
   "execution_count": 13,
   "id": "dd415c80",
   "metadata": {
    "id": "dd415c80"
   },
   "outputs": [],
   "source": [
    "rest_price = pd.read_csv('https://code.s3.yandex.net/datasets/rest_price.csv')"
   ]
  },
  {
   "cell_type": "markdown",
   "id": "2c614a62",
   "metadata": {
    "id": "2c614a62"
   },
   "source": [
    "---\n",
    "\n",
    "### Промежуточный вывод\n",
    "\n",
    "Сделайте промежуточный вывод о полученных данных: данные какого объёма вам предоставили, соответствуют ли данные описанию, встречаются ли в них пропуски, используются ли верные типы данных. Отметьте другие особенности данных, которые вы обнаружите на этой стадии и на которые стоит обратить внимание при предобработке."
   ]
  },
  {
   "cell_type": "code",
   "execution_count": 14,
   "id": "3593b7d5",
   "metadata": {
    "id": "3593b7d5"
   },
   "outputs": [
    {
     "data": {
      "text/html": [
       "<div>\n",
       "<style scoped>\n",
       "    .dataframe tbody tr th:only-of-type {\n",
       "        vertical-align: middle;\n",
       "    }\n",
       "\n",
       "    .dataframe tbody tr th {\n",
       "        vertical-align: top;\n",
       "    }\n",
       "\n",
       "    .dataframe thead th {\n",
       "        text-align: right;\n",
       "    }\n",
       "</style>\n",
       "<table border=\"1\" class=\"dataframe\">\n",
       "  <thead>\n",
       "    <tr style=\"text-align: right;\">\n",
       "      <th></th>\n",
       "      <th>id</th>\n",
       "      <th>name</th>\n",
       "      <th>category</th>\n",
       "      <th>address</th>\n",
       "      <th>district</th>\n",
       "      <th>hours</th>\n",
       "      <th>rating</th>\n",
       "      <th>chain</th>\n",
       "      <th>seats</th>\n",
       "    </tr>\n",
       "  </thead>\n",
       "  <tbody>\n",
       "    <tr>\n",
       "      <th>0</th>\n",
       "      <td>0c3e3439a8c64ea5bf6ecd6ca6ae19f0</td>\n",
       "      <td>WoWфли</td>\n",
       "      <td>кафе</td>\n",
       "      <td>Москва, улица Дыбенко, 7/1</td>\n",
       "      <td>Северный административный округ</td>\n",
       "      <td>ежедневно, 10:00–22:00</td>\n",
       "      <td>5.0</td>\n",
       "      <td>0</td>\n",
       "      <td>NaN</td>\n",
       "    </tr>\n",
       "    <tr>\n",
       "      <th>1</th>\n",
       "      <td>045780ada3474c57a2112e505d74b633</td>\n",
       "      <td>Четыре комнаты</td>\n",
       "      <td>ресторан</td>\n",
       "      <td>Москва, улица Дыбенко, 36, корп. 1</td>\n",
       "      <td>Северный административный округ</td>\n",
       "      <td>ежедневно, 10:00–22:00</td>\n",
       "      <td>4.5</td>\n",
       "      <td>0</td>\n",
       "      <td>4.0</td>\n",
       "    </tr>\n",
       "    <tr>\n",
       "      <th>2</th>\n",
       "      <td>1070b6b59144425896c65889347fcff6</td>\n",
       "      <td>Хазри</td>\n",
       "      <td>кафе</td>\n",
       "      <td>Москва, Клязьминская улица, 15</td>\n",
       "      <td>Северный административный округ</td>\n",
       "      <td>пн-чт 11:00–02:00; пт,сб 11:00–05:00; вс 11:00...</td>\n",
       "      <td>4.6</td>\n",
       "      <td>0</td>\n",
       "      <td>45.0</td>\n",
       "    </tr>\n",
       "    <tr>\n",
       "      <th>3</th>\n",
       "      <td>03ac7cd772104f65b58b349dc59f03ee</td>\n",
       "      <td>Dormouse Coffee Shop</td>\n",
       "      <td>кофейня</td>\n",
       "      <td>Москва, улица Маршала Федоренко, 12</td>\n",
       "      <td>Северный административный округ</td>\n",
       "      <td>ежедневно, 09:00–22:00</td>\n",
       "      <td>5.0</td>\n",
       "      <td>0</td>\n",
       "      <td>NaN</td>\n",
       "    </tr>\n",
       "    <tr>\n",
       "      <th>4</th>\n",
       "      <td>a163aada139c4c7f87b0b1c0b466a50f</td>\n",
       "      <td>Иль Марко</td>\n",
       "      <td>пиццерия</td>\n",
       "      <td>Москва, Правобережная улица, 1Б</td>\n",
       "      <td>Северный административный округ</td>\n",
       "      <td>ежедневно, 10:00–22:00</td>\n",
       "      <td>5.0</td>\n",
       "      <td>1</td>\n",
       "      <td>148.0</td>\n",
       "    </tr>\n",
       "  </tbody>\n",
       "</table>\n",
       "</div>"
      ],
      "text/plain": [
       "                                 id                  name  category  \\\n",
       "0  0c3e3439a8c64ea5bf6ecd6ca6ae19f0                WoWфли      кафе   \n",
       "1  045780ada3474c57a2112e505d74b633        Четыре комнаты  ресторан   \n",
       "2  1070b6b59144425896c65889347fcff6                 Хазри      кафе   \n",
       "3  03ac7cd772104f65b58b349dc59f03ee  Dormouse Coffee Shop   кофейня   \n",
       "4  a163aada139c4c7f87b0b1c0b466a50f             Иль Марко  пиццерия   \n",
       "\n",
       "                               address                         district  \\\n",
       "0           Москва, улица Дыбенко, 7/1  Северный административный округ   \n",
       "1   Москва, улица Дыбенко, 36, корп. 1  Северный административный округ   \n",
       "2       Москва, Клязьминская улица, 15  Северный административный округ   \n",
       "3  Москва, улица Маршала Федоренко, 12  Северный административный округ   \n",
       "4      Москва, Правобережная улица, 1Б  Северный административный округ   \n",
       "\n",
       "                                               hours  rating  chain  seats  \n",
       "0                             ежедневно, 10:00–22:00     5.0      0    NaN  \n",
       "1                             ежедневно, 10:00–22:00     4.5      0    4.0  \n",
       "2  пн-чт 11:00–02:00; пт,сб 11:00–05:00; вс 11:00...     4.6      0   45.0  \n",
       "3                             ежедневно, 09:00–22:00     5.0      0    NaN  \n",
       "4                             ежедневно, 10:00–22:00     5.0      1  148.0  "
      ]
     },
     "execution_count": 14,
     "metadata": {},
     "output_type": "execute_result"
    }
   ],
   "source": [
    "# Выводим первые строки датафрейма на экран\n",
    "rest_info.head()"
   ]
  },
  {
   "cell_type": "code",
   "execution_count": 15,
   "id": "c2cc7f38",
   "metadata": {
    "id": "c2cc7f38"
   },
   "outputs": [
    {
     "name": "stdout",
     "output_type": "stream",
     "text": [
      "<class 'pandas.core.frame.DataFrame'>\n",
      "RangeIndex: 8406 entries, 0 to 8405\n",
      "Data columns (total 9 columns):\n",
      " #   Column    Non-Null Count  Dtype  \n",
      "---  ------    --------------  -----  \n",
      " 0   id        8406 non-null   object \n",
      " 1   name      8406 non-null   object \n",
      " 2   category  8406 non-null   object \n",
      " 3   address   8406 non-null   object \n",
      " 4   district  8406 non-null   object \n",
      " 5   hours     7870 non-null   object \n",
      " 6   rating    8406 non-null   float64\n",
      " 7   chain     8406 non-null   int64  \n",
      " 8   seats     4795 non-null   float64\n",
      "dtypes: float64(2), int64(1), object(6)\n",
      "memory usage: 591.2+ KB\n"
     ]
    }
   ],
   "source": [
    "# Выводим информацию о датафрейме\n",
    "rest_info.info()"
   ]
  },
  {
   "cell_type": "markdown",
   "id": "79371710",
   "metadata": {
    "id": "84e2bdab"
   },
   "source": [
    "Датасет `rest_info.csv` содержит 9 столбцов и 8406 строк, в которых представлена информация о местах питания г. Москвы с адресом, графиком работы, количеством посадочных мест.\n",
    "\n",
    "После первичного анализа данных можно сделать следующие выводы:\n",
    "- Большинство представленных данных содержат текстовые значения и хранятся в типе данных `object`.\n",
    "- Пропуски содержатся в столбцах `hours` и `seats` . Однако следует проверить и другие столбцы: в них могут встречаться значения-индикаторы, которые будут говорить об отсутствии данных.\n",
    "- Судя по первому знакомству с данными, значения в столбцах соответствуют своему описанию.\n",
    "\n",
    "Теперь познакомимся с данными датасета `rest_price.csv`."
   ]
  },
  {
   "cell_type": "code",
   "execution_count": 16,
   "id": "f6a33fc5",
   "metadata": {
    "scrolled": true
   },
   "outputs": [
    {
     "data": {
      "text/html": [
       "<div>\n",
       "<style scoped>\n",
       "    .dataframe tbody tr th:only-of-type {\n",
       "        vertical-align: middle;\n",
       "    }\n",
       "\n",
       "    .dataframe tbody tr th {\n",
       "        vertical-align: top;\n",
       "    }\n",
       "\n",
       "    .dataframe thead th {\n",
       "        text-align: right;\n",
       "    }\n",
       "</style>\n",
       "<table border=\"1\" class=\"dataframe\">\n",
       "  <thead>\n",
       "    <tr style=\"text-align: right;\">\n",
       "      <th></th>\n",
       "      <th>id</th>\n",
       "      <th>price</th>\n",
       "      <th>avg_bill</th>\n",
       "      <th>middle_avg_bill</th>\n",
       "      <th>middle_coffee_cup</th>\n",
       "    </tr>\n",
       "  </thead>\n",
       "  <tbody>\n",
       "    <tr>\n",
       "      <th>0</th>\n",
       "      <td>045780ada3474c57a2112e505d74b633</td>\n",
       "      <td>выше среднего</td>\n",
       "      <td>Средний счёт:1500–1600 ₽</td>\n",
       "      <td>1550.0</td>\n",
       "      <td>NaN</td>\n",
       "    </tr>\n",
       "    <tr>\n",
       "      <th>1</th>\n",
       "      <td>1070b6b59144425896c65889347fcff6</td>\n",
       "      <td>средние</td>\n",
       "      <td>Средний счёт:от 1000 ₽</td>\n",
       "      <td>1000.0</td>\n",
       "      <td>NaN</td>\n",
       "    </tr>\n",
       "    <tr>\n",
       "      <th>2</th>\n",
       "      <td>03ac7cd772104f65b58b349dc59f03ee</td>\n",
       "      <td>NaN</td>\n",
       "      <td>Цена чашки капучино:155–185 ₽</td>\n",
       "      <td>NaN</td>\n",
       "      <td>170.0</td>\n",
       "    </tr>\n",
       "    <tr>\n",
       "      <th>3</th>\n",
       "      <td>a163aada139c4c7f87b0b1c0b466a50f</td>\n",
       "      <td>средние</td>\n",
       "      <td>Средний счёт:400–600 ₽</td>\n",
       "      <td>500.0</td>\n",
       "      <td>NaN</td>\n",
       "    </tr>\n",
       "    <tr>\n",
       "      <th>4</th>\n",
       "      <td>8a343546b24e4a499ad96eb7d0797a8a</td>\n",
       "      <td>средние</td>\n",
       "      <td>NaN</td>\n",
       "      <td>NaN</td>\n",
       "      <td>NaN</td>\n",
       "    </tr>\n",
       "  </tbody>\n",
       "</table>\n",
       "</div>"
      ],
      "text/plain": [
       "                                 id          price  \\\n",
       "0  045780ada3474c57a2112e505d74b633  выше среднего   \n",
       "1  1070b6b59144425896c65889347fcff6        средние   \n",
       "2  03ac7cd772104f65b58b349dc59f03ee            NaN   \n",
       "3  a163aada139c4c7f87b0b1c0b466a50f        средние   \n",
       "4  8a343546b24e4a499ad96eb7d0797a8a        средние   \n",
       "\n",
       "                        avg_bill  middle_avg_bill  middle_coffee_cup  \n",
       "0       Средний счёт:1500–1600 ₽           1550.0                NaN  \n",
       "1         Средний счёт:от 1000 ₽           1000.0                NaN  \n",
       "2  Цена чашки капучино:155–185 ₽              NaN              170.0  \n",
       "3         Средний счёт:400–600 ₽            500.0                NaN  \n",
       "4                            NaN              NaN                NaN  "
      ]
     },
     "execution_count": 16,
     "metadata": {},
     "output_type": "execute_result"
    }
   ],
   "source": [
    "# Выводим первые строки датафрейма на экран\n",
    "rest_price.head()"
   ]
  },
  {
   "cell_type": "code",
   "execution_count": 17,
   "id": "01e9c97e",
   "metadata": {},
   "outputs": [
    {
     "name": "stdout",
     "output_type": "stream",
     "text": [
      "<class 'pandas.core.frame.DataFrame'>\n",
      "RangeIndex: 4058 entries, 0 to 4057\n",
      "Data columns (total 5 columns):\n",
      " #   Column             Non-Null Count  Dtype  \n",
      "---  ------             --------------  -----  \n",
      " 0   id                 4058 non-null   object \n",
      " 1   price              3315 non-null   object \n",
      " 2   avg_bill           3816 non-null   object \n",
      " 3   middle_avg_bill    3149 non-null   float64\n",
      " 4   middle_coffee_cup  535 non-null    float64\n",
      "dtypes: float64(2), object(3)\n",
      "memory usage: 158.6+ KB\n"
     ]
    }
   ],
   "source": [
    "# Выводим информацию о датафрейме\n",
    "rest_price.info()"
   ]
  },
  {
   "cell_type": "markdown",
   "id": "02bfe0c5",
   "metadata": {},
   "source": [
    "Датасет `rest_price.csv` содержит 5 столбцов и 4058 строк, в которых представлена ценовая политика мест общественного питания  г. Москвы.\n",
    "\n",
    "После первичного анализа данных можно сделать следующие выводы:\n",
    "- Большинство представленных данных содержат текстовые значения и хранятся в типе данных `object`.\n",
    "- Пропуски содержатся во всех столбцах, кроме столбца с идентификатором заведения. Скорее всего пропуски связаны с отсутствием ценовой статистики у большинства заведений.\n",
    "- Судя по первому знакомству с данными, значения в столбцах соответствуют своему описанию."
   ]
  },
  {
   "cell_type": "markdown",
   "id": "8a8d1491",
   "metadata": {
    "id": "8a8d1491"
   },
   "source": [
    "### Подготовка единого датафрейма\n",
    "\n",
    "- Объедините данные двух датасетов в один, с которым вы и продолжите работу."
   ]
  },
  {
   "cell_type": "markdown",
   "id": "05b9482d",
   "metadata": {},
   "source": [
    "Объединим датафреймы по идентификатору заведения и используем левое присоединение, во избежание потери данных большинства идентификаторов, которые отсутствуют во втором датафрейме."
   ]
  },
  {
   "cell_type": "code",
   "execution_count": 18,
   "id": "3408e303",
   "metadata": {
    "id": "3408e303"
   },
   "outputs": [],
   "source": [
    "df = pd.merge(rest_info, rest_price, on='id', how='left')"
   ]
  },
  {
   "cell_type": "markdown",
   "id": "956e82e2",
   "metadata": {
    "id": "956e82e2"
   },
   "source": [
    "## 2. Предобработка данных\n",
    "\n",
    "Подготовьте данные к исследовательскому анализу:\n",
    "\n",
    "- Изучите корректность типов данных и при необходимости проведите их преобразование."
   ]
  },
  {
   "cell_type": "markdown",
   "id": "4b7ee469",
   "metadata": {
    "id": "4b7ee469"
   },
   "source": [
    "- Изучите пропущенные значения в данных: посчитайте их количество в каждом столбце датафрейме, изучите данные с пропущенными значениями и предположите гипотезы их появления. Проведите обработку пропущенных значений: вы можете заменить пропуски на определённое значение, удалить строки с пропусками или оставить их как есть."
   ]
  },
  {
   "cell_type": "markdown",
   "id": "61d8a4e0",
   "metadata": {
    "id": "3d8840ca"
   },
   "source": [
    "Изучим количество пропусков в данных:"
   ]
  },
  {
   "cell_type": "code",
   "execution_count": 19,
   "id": "2ea145ca",
   "metadata": {
    "id": "2ea145ca",
    "scrolled": false
   },
   "outputs": [
    {
     "data": {
      "text/plain": [
       "id                      0\n",
       "name                    0\n",
       "category                0\n",
       "address                 0\n",
       "district                0\n",
       "hours                 536\n",
       "rating                  0\n",
       "chain                   0\n",
       "seats                3611\n",
       "price                5091\n",
       "avg_bill             4590\n",
       "middle_avg_bill      5257\n",
       "middle_coffee_cup    7871\n",
       "dtype: int64"
      ]
     },
     "execution_count": 19,
     "metadata": {},
     "output_type": "execute_result"
    }
   ],
   "source": [
    "df.isna().sum()"
   ]
  },
  {
   "cell_type": "code",
   "execution_count": 20,
   "id": "d9e7c358",
   "metadata": {
    "id": "d9e7c358",
    "scrolled": false
   },
   "outputs": [
    {
     "data": {
      "text/plain": [
       "id                   0.000000\n",
       "name                 0.000000\n",
       "category             0.000000\n",
       "address              0.000000\n",
       "district             0.000000\n",
       "hours                0.063764\n",
       "rating               0.000000\n",
       "chain                0.000000\n",
       "seats                0.429574\n",
       "price                0.605639\n",
       "avg_bill             0.546039\n",
       "middle_avg_bill      0.625387\n",
       "middle_coffee_cup    0.936355\n",
       "dtype: float64"
      ]
     },
     "execution_count": 20,
     "metadata": {},
     "output_type": "execute_result"
    }
   ],
   "source": [
    "# Подсчитываем долю строк с пропусками\n",
    "df.isna().sum() / df.shape[0]"
   ]
  },
  {
   "cell_type": "markdown",
   "id": "e30613fe",
   "metadata": {},
   "source": [
    "При объединении датафреймов пропуски в некоторых столбцах стали занимать более большую часть от общего объема данных, доходя до 93%.\n",
    "Причинами возникновения пропусков могут быть: \n",
    "- отсутствие статистических данных\n",
    "- не произошло факта внесения данных в общий массив по разным причинам (человеческий фактор)\n",
    "- пропуски в столбцах `middle_avg_bill` и `middle_coffee_cup` зависят от значений столбца `avg_bill`. А столбец `avg_bill` в свою очередь зависит от статистических данных и от наличия позиций в меню. Например, капучино может не быть в меню (получаем пропуск в столбце `middle_coffee_cup`, а может наоборот содержаться статистика по цене чашки капучино, а не по среднему чеку (получаем пропуск в столбце `middle_avg_bill`)\n",
    "\n",
    "Считаю, что заменять пропуски на усредненные значения некорректно, т.к. каждое заведение уникально и \"среднее по больнице\" здесь не будет работать, но и удалять большое количество пропусков тоже будет некорректно, поэтому оставим все, как есть."
   ]
  },
  {
   "cell_type": "markdown",
   "id": "c4d5f04d",
   "metadata": {
    "id": "c4d5f04d"
   },
   "source": [
    "- Проверьте данные на явные и неявные дубликаты, например поля с названием и адресом заведения. Для оптимизации проверки нормализуйте данные в текстовых столбцах, например с названием заведения."
   ]
  },
  {
   "cell_type": "markdown",
   "id": "0bc8f1d6",
   "metadata": {
    "id": "0769b681"
   },
   "source": [
    "К наиболее вероятным для появления дубликатов относятся столбцы с идентификатором, названием и адресом заведений. Проведем проверку на неявные дупликаты:"
   ]
  },
  {
   "cell_type": "code",
   "execution_count": 21,
   "id": "95b15cd0",
   "metadata": {
    "id": "95b15cd0",
    "scrolled": true
   },
   "outputs": [
    {
     "data": {
      "text/plain": [
       "2792"
      ]
     },
     "execution_count": 21,
     "metadata": {},
     "output_type": "execute_result"
    }
   ],
   "source": [
    "df.duplicated(subset='name').sum()"
   ]
  },
  {
   "cell_type": "code",
   "execution_count": 22,
   "id": "b52bae9a",
   "metadata": {
    "id": "b52bae9a"
   },
   "outputs": [
    {
     "data": {
      "text/plain": [
       "2653"
      ]
     },
     "execution_count": 22,
     "metadata": {},
     "output_type": "execute_result"
    }
   ],
   "source": [
    "df.duplicated(subset='address').sum()"
   ]
  },
  {
   "cell_type": "code",
   "execution_count": 23,
   "id": "7d9db454",
   "metadata": {},
   "outputs": [
    {
     "data": {
      "text/plain": [
       "0"
      ]
     },
     "execution_count": 23,
     "metadata": {},
     "output_type": "execute_result"
    }
   ],
   "source": [
    "df.duplicated(subset='id').sum()"
   ]
  },
  {
   "cell_type": "markdown",
   "id": "7c293692",
   "metadata": {},
   "source": [
    "Во всех перечисленных выше столбцах неявные дубликаты отсуствуют только в столбце с идентификатором, тогда проверим наличие полных дубликатов:"
   ]
  },
  {
   "cell_type": "code",
   "execution_count": 24,
   "id": "25328e44",
   "metadata": {
    "scrolled": true
   },
   "outputs": [
    {
     "data": {
      "text/plain": [
       "0"
      ]
     },
     "execution_count": 24,
     "metadata": {},
     "output_type": "execute_result"
    }
   ],
   "source": [
    "df.duplicated().sum()"
   ]
  },
  {
   "cell_type": "markdown",
   "id": "79ee3c3a",
   "metadata": {},
   "source": [
    "Удалим неявные дубликаты в столбцах `name` и `address`:"
   ]
  },
  {
   "cell_type": "code",
   "execution_count": 25,
   "id": "aa5542a0",
   "metadata": {
    "scrolled": false
   },
   "outputs": [],
   "source": [
    "df = df.drop_duplicates(subset=['name', 'address'], keep=False)"
   ]
  },
  {
   "cell_type": "markdown",
   "id": "c626886a",
   "metadata": {},
   "source": [
    "Создадим новый столбец `is_24_7`с обозначением того, что заведение работает круглосуточно, то есть 24/7:\n",
    "- логическое значение True — если заведение работает круглосуточно;\n",
    "- логическое значение False — в противоположном случае."
   ]
  },
  {
   "cell_type": "code",
   "execution_count": 26,
   "id": "702d2acc",
   "metadata": {},
   "outputs": [],
   "source": [
    "def hour(hours):\n",
    "    if \"круглосуточно\" in str(hours):\n",
    "        return True\n",
    "    else:\n",
    "        return False\n",
    "\n",
    "# Применение функции к столбцу hours и создание нового столбца is_24_7\n",
    "df['is_24_7'] = df['hours'].apply(hour)\n"
   ]
  },
  {
   "cell_type": "markdown",
   "id": "bdb9c89e",
   "metadata": {},
   "source": [
    "Проверим корректность добавления нового столбца и выведем сводную таблицу:"
   ]
  },
  {
   "cell_type": "code",
   "execution_count": 27,
   "id": "25648978",
   "metadata": {
    "scrolled": false
   },
   "outputs": [
    {
     "name": "stdout",
     "output_type": "stream",
     "text": [
      "is_24_7                                             False  True \n",
      "hours                                                           \n",
      "ср-пт 15:00–00:00                                     1.0    NaN\n",
      "чт 18:00–00:00; пт,сб 15:00–06:00; вс 15:00–00:00     1.0    NaN\n",
      "чт 20:00–02:00; пт,сб 20:00–06:00                     1.0    NaN\n",
      "чт круглосуточно, перерыв 10:00–20:00; сб кругл...    NaN    1.0\n",
      "чт-вс 20:00–06:00                                     1.0    NaN\n"
     ]
    }
   ],
   "source": [
    "pivot = df.pivot_table(values='id', \n",
    "                       index='hours', \n",
    "                       columns='is_24_7', \n",
    "                       aggfunc='count')\n",
    "print(pivot.tail())"
   ]
  },
  {
   "cell_type": "markdown",
   "id": "562f30ab",
   "metadata": {
    "id": "562f30ab"
   },
   "source": [
    "---\n",
    "\n",
    "### Промежуточный вывод\n",
    "\n",
    "После предобработки данных напишите промежуточный вывод о проведённой работе. Отразите количество или долю отфильтрованных данных, если вы что-то удаляли."
   ]
  },
  {
   "cell_type": "markdown",
   "id": "5df0b68d",
   "metadata": {
    "id": "b55c46cb"
   },
   "source": [
    "В результате предварительной обработки данных были выполнены следующие действия:\n",
    "\n",
    "- Изучены пропуски в данных. Пропуски обнаружены в столбцах `hours`, `seats`, `price`, `avg_bill`, `middle_avg_bill`, `middle_coffee_cup`. Наибольшее количество пропусков содержится в последнем объявленном столбце. Учитывая, что данные в двух послених столбцах зависят от данных столбца `avg_bill`, пропуски оставили без изменений, ошибки здесь нет. Пропуски в остальных перечисленных столбцах скорее всего связаны с отсутствием статистических данных по заведениям. Думаю, что пропуски корректно оставить и это не будет являться ошибкой.\n",
    "- Данные были проверены на наличие явных и скрытых дубликатов: неявные дупликаты были удалены, а явные не были обнаружены.\n"
   ]
  },
  {
   "cell_type": "markdown",
   "id": "6953e84c",
   "metadata": {
    "id": "6953e84c"
   },
   "source": [
    "## 3. Исследовательский анализ данных\n",
    "Проведите исследовательский анализ исходных данных.\n",
    "\n",
    "При исследовании данных используйте визуализации. Проверьте, что для каждого случая подобран оптимальный тип визуализации с корректным оформлением. У графика должен быть заголовок, понятные подписи по осям, при необходимости легенда, а его размер является оптимальным для изучения.\n",
    "\n",
    "После исследования каждого пункта оставляйте небольшой комментарий с выводом или обсуждением результата. В конце шага обобщите результаты, выделив, по вашему мнению, самые важные."
   ]
  },
  {
   "cell_type": "markdown",
   "id": "8555d840",
   "metadata": {
    "id": "8555d840"
   },
   "source": [
    "---\n",
    "\n",
    "### Задача 1\n",
    "\n",
    "Какие категории заведений представлены в данных? Исследуйте количество объектов общественного питания по каждой категории. Результат сопроводите подходящей визуализацией."
   ]
  },
  {
   "cell_type": "code",
   "execution_count": 28,
   "id": "ef2bffe9",
   "metadata": {
    "id": "ef2bffe9"
   },
   "outputs": [
    {
     "name": "stdout",
     "output_type": "stream",
     "text": [
      "['кафе' 'ресторан' 'кофейня' 'пиццерия' 'бар,паб' 'быстрое питание'\n",
      " 'булочная' 'столовая']\n"
     ]
    }
   ],
   "source": [
    "# Посмотрим, на какие категории делятся заведения в датафрейме\n",
    "print(df['category'].unique())"
   ]
  },
  {
   "cell_type": "code",
   "execution_count": 29,
   "id": "71ab5e91",
   "metadata": {
    "id": "71ab5e91",
    "scrolled": true
   },
   "outputs": [
    {
     "name": "stdout",
     "output_type": "stream",
     "text": [
      "category\n",
      "бар,паб             765\n",
      "булочная            256\n",
      "быстрое питание     603\n",
      "кафе               2378\n",
      "кофейня            1413\n",
      "пиццерия            633\n",
      "ресторан           2043\n",
      "столовая            315\n",
      "Name: id, dtype: int64\n"
     ]
    }
   ],
   "source": [
    "# Посчитаем количество заведений в каждой категории\n",
    "count_category = df.groupby('category')['id'].count()\n",
    "print(count_category)"
   ]
  },
  {
   "cell_type": "markdown",
   "id": "b2c17ff6",
   "metadata": {},
   "source": [
    "Посмотрим на значения в долях:"
   ]
  },
  {
   "cell_type": "code",
   "execution_count": 30,
   "id": "3b6fc2b6",
   "metadata": {},
   "outputs": [
    {
     "name": "stdout",
     "output_type": "stream",
     "text": [
      "кафе               0.282893\n",
      "ресторан           0.243041\n",
      "кофейня            0.168094\n",
      "бар,паб            0.091006\n",
      "пиццерия           0.075303\n",
      "быстрое питание    0.071734\n",
      "столовая           0.037473\n",
      "булочная           0.030454\n",
      "Name: category, dtype: float64\n"
     ]
    }
   ],
   "source": [
    "category_shares = df['category'].value_counts(normalize=True)\n",
    "\n",
    "print(category_shares)"
   ]
  },
  {
   "cell_type": "code",
   "execution_count": 31,
   "id": "46f299dc",
   "metadata": {
    "scrolled": true
   },
   "outputs": [
    {
     "data": {
      "image/png": "[encoded data removed]",
      "text/plain": [
       "<Figure size 504x216 with 1 Axes>"
      ]
     },
     "metadata": {
      "needs_background": "light"
     },
     "output_type": "display_data"
    }
   ],
   "source": [
    "# Построим столбчатую диаграмму для визуализации количества заведений по выделенным категориям:\n",
    "plt.figure(figsize=(7, 3))\n",
    "\n",
    "df.groupby('category')['id'].count().sort_values(ascending=False).plot(\n",
    "               kind='bar', # Тип графика - столбчатая диаграмма\n",
    "               rot=45, # Градус вращения подписи по оси Х\n",
    "               legend=False, # Выключаем легенду\n",
    "               title=f'Распределение категорий мест общественного питания в зависимости от количества заведений'\n",
    ")\n",
    "\n",
    "# Настраиваем оформление графика\n",
    "plt.xlabel('Категория')\n",
    "plt.ylabel('Количество заведений')\n",
    "# Добавляем сетку графика\n",
    "plt.grid()\n",
    "\n",
    "# Выводим график\n",
    "plt.show()"
   ]
  },
  {
   "cell_type": "markdown",
   "id": "34c600d3",
   "metadata": {},
   "source": [
    "Видим, что из всех категорий по количеству заведений в Москве превалируют кафе, после них рестораны и на третьем месте кофейни. Скорее всего категория \"кафе\" более конкурентная среда среди других выделенных категорий, если количество заведений в этой категории более всего. Это первичный вывод, исследуем и другие метрики далее."
   ]
  },
  {
   "cell_type": "markdown",
   "id": "6821e1d0",
   "metadata": {
    "id": "6821e1d0"
   },
   "source": [
    "---\n",
    "\n",
    "### Задача 2\n",
    "\n",
    "Какие административные районы Москвы присутствуют в данных? Исследуйте распределение количества заведений по административным районам Москвы, а также отдельно распределение заведений каждой категории в Центральном административном округе Москвы. Результат сопроводите подходящими визуализациями."
   ]
  },
  {
   "cell_type": "code",
   "execution_count": 32,
   "id": "e62f31be",
   "metadata": {
    "id": "e62f31be"
   },
   "outputs": [
    {
     "name": "stdout",
     "output_type": "stream",
     "text": [
      "['Северный административный округ'\n",
      " 'Северо-Восточный административный округ'\n",
      " 'Северо-Западный административный округ'\n",
      " 'Западный административный округ' 'Центральный административный округ'\n",
      " 'Восточный административный округ' 'Юго-Восточный административный округ'\n",
      " 'Южный административный округ' 'Юго-Западный административный округ']\n"
     ]
    }
   ],
   "source": [
    "# Посмотрим, какие административные районы выделены для заведений в датафрейме\n",
    "print(df['district'].unique())"
   ]
  },
  {
   "cell_type": "code",
   "execution_count": 33,
   "id": "0a290cd1",
   "metadata": {
    "id": "0a290cd1"
   },
   "outputs": [
    {
     "name": "stdout",
     "output_type": "stream",
     "text": [
      "district\n",
      "Восточный административный округ            798\n",
      "Западный административный округ             851\n",
      "Северный административный округ             900\n",
      "Северо-Восточный административный округ     891\n",
      "Северо-Западный административный округ      409\n",
      "Центральный административный округ         2242\n",
      "Юго-Восточный административный округ        714\n",
      "Юго-Западный административный округ         709\n",
      "Южный административный округ                892\n",
      "Name: id, dtype: int64\n"
     ]
    }
   ],
   "source": [
    "# Посмотрим в цифрах, в каких из административных районах превалирует количество заведений по выделенным категориям\n",
    "count_district = df.groupby('district')['id'].count()\n",
    "print(count_district)"
   ]
  },
  {
   "cell_type": "code",
   "execution_count": 34,
   "id": "2c9d4bce",
   "metadata": {},
   "outputs": [
    {
     "data": {
      "image/png": "[encoded data removed]",
      "text/plain": [
       "<Figure size 1152x576 with 1 Axes>"
      ]
     },
     "metadata": {
      "needs_background": "light"
     },
     "output_type": "display_data"
    }
   ],
   "source": [
    "# Построим столбчатую диаграмму для визуализации данных количества заведений по выделенным административным районам\n",
    "\n",
    "plt.figure(figsize=(16, 8))\n",
    "\n",
    "df.groupby('district')['id'].count().sort_values(ascending=False).plot(\n",
    "               kind='bar', # Тип графика - столбчатая диаграмма\n",
    "               rot=65, # Градус вращения подписи по оси Х\n",
    "               legend=False, # Выключаем легенду\n",
    "               title=f'Распределение количества заведений в зависимости от их расположения'\n",
    ")\n",
    "\n",
    "# Настраиваем оформление графика\n",
    "plt.xlabel('Административный район')\n",
    "plt.ylabel('Количество заведений')\n",
    "# Добавляем сетку графика\n",
    "plt.grid()\n",
    "\n",
    "# Выводим график\n",
    "plt.show()"
   ]
  },
  {
   "cell_type": "markdown",
   "id": "bd542088",
   "metadata": {
    "id": "41f1654a"
   },
   "source": [
    "Видим, что больше всего заведений сосредоточено в ЦАО Москвы, проанализируем, сколько всего заведений расположено в ЦАО:"
   ]
  },
  {
   "cell_type": "code",
   "execution_count": 35,
   "id": "da794c19",
   "metadata": {},
   "outputs": [
    {
     "name": "stdout",
     "output_type": "stream",
     "text": [
      "category\n",
      "ресторан           670\n",
      "кафе               464\n",
      "кофейня            428\n",
      "бар,паб            364\n",
      "пиццерия           113\n",
      "быстрое питание     87\n",
      "столовая            66\n",
      "булочная            50\n",
      "Name: id, dtype: int64\n"
     ]
    }
   ],
   "source": [
    "filtered_category_district = df[df['district'] == 'Центральный административный округ'].groupby('category')['id'].count().sort_values(ascending=False)\n",
    "print(filtered_category_district)"
   ]
  },
  {
   "cell_type": "markdown",
   "id": "27e81dcc",
   "metadata": {},
   "source": [
    "Визуализируем распределение количества заведений каждой категории в ЦАО:"
   ]
  },
  {
   "cell_type": "code",
   "execution_count": 36,
   "id": "ad96790c",
   "metadata": {},
   "outputs": [
    {
     "data": {
      "image/png": "[encoded data removed]",
      "text/plain": [
       "<Figure size 504x216 with 1 Axes>"
      ]
     },
     "metadata": {
      "needs_background": "light"
     },
     "output_type": "display_data"
    }
   ],
   "source": [
    "plt.figure(figsize=(7, 3))\n",
    "\n",
    "filtered_category_district.plot(\n",
    "               kind='bar', # Тип графика - столбчатая диаграмма\n",
    "               rot=45, # Градус вращения подписи по оси Х\n",
    "               legend=False, # Выключаем легенду\n",
    "               title=f'Распределение количества заведений в ЦАО'\n",
    ")\n",
    "\n",
    "# Настраиваем оформление графика\n",
    "plt.xlabel('Категория заведения')\n",
    "plt.ylabel('Количество заведений')\n",
    "# Добавляем сетку графика\n",
    "plt.grid()\n",
    "\n",
    "# Выводим график\n",
    "plt.show()"
   ]
  },
  {
   "cell_type": "markdown",
   "id": "d199a46b",
   "metadata": {},
   "source": [
    "Из графика видно, что в центре Москвы больше всего сосредоточено ресторанов. Думаю, что это наиболее маржинальная и презентабельная категория для расположения в центре столицы. Скорее всего, в данном административном районе выгоднее открывать рестораны, чем другие категории, хотя и уровень конкуренции также будет выше, в сравнении с другими категориями."
   ]
  },
  {
   "cell_type": "markdown",
   "id": "7c824f58",
   "metadata": {
    "id": "7c824f58"
   },
   "source": [
    "---\n",
    "\n",
    "### Задача 3\n",
    "\n",
    "Изучите соотношение сетевых и несетевых заведений в целом по всем данным и в разрезе категорий заведения. Каких заведений больше — сетевых или несетевых? Какие категории заведений чаще являются сетевыми? Исследуйте данные, ответьте на вопросы и постройте необходимые визуализации."
   ]
  },
  {
   "cell_type": "code",
   "execution_count": 37,
   "id": "a139bd72",
   "metadata": {
    "id": "a139bd72",
    "scrolled": true
   },
   "outputs": [
    {
     "data": {
      "image/png": "[encoded data removed]",
      "text/plain": [
       "<Figure size 504x216 with 1 Axes>"
      ]
     },
     "metadata": {
      "needs_background": "light"
     },
     "output_type": "display_data"
    }
   ],
   "source": [
    "# Визуализируем распределение сетевых и несетевых заведений по всем данным:\n",
    "\n",
    "plt.figure(figsize=(7, 3))\n",
    "\n",
    "df['chain'].value_counts(normalize=True).plot(\n",
    "               kind='bar', # Тип графика — столбчатая диаграмма\n",
    "               rot=0, # Градус вращения подписи по оси Х\n",
    "               legend=False, # Выключаем легенду\n",
    "               title=f'Распределение сетевых и несетевых зведений в общем разрезе'\n",
    ")\n",
    "\n",
    "# Настраиваем оформление графика\n",
    "plt.xlabel('Сеть (1 - да, 0 - нет)')\n",
    "plt.ylabel('Количество заведений')\n",
    "# Добавляем сетку графика\n",
    "plt.grid()\n",
    "\n",
    "# Выводим график\n",
    "plt.show()"
   ]
  },
  {
   "cell_type": "code",
   "execution_count": 38,
   "id": "5e70cce8",
   "metadata": {},
   "outputs": [
    {
     "data": {
      "image/png": "[encoded data removed]",
      "text/plain": [
       "<Figure size 504x504 with 1 Axes>"
      ]
     },
     "metadata": {},
     "output_type": "display_data"
    }
   ],
   "source": [
    "plt.figure(figsize=(7, 7)) \n",
    "\n",
    "df['chain'].value_counts(normalize=True).plot(\n",
    "    kind='pie',\n",
    "    legend=False,\n",
    "    title='Распределение сетевых и несетевых заведений в общем разрезе'\n",
    ")\n",
    "\n",
    "# Настраиваем оформление графика\n",
    "plt.axis('equal')  # Делаем диаграмму круговой, а не эллиптической\n",
    "plt.ylabel('0 - не сеть, 1 - сеть') \n",
    "\n",
    "# Выводим график\n",
    "plt.show()"
   ]
  },
  {
   "cell_type": "markdown",
   "id": "0f2cf3e8",
   "metadata": {},
   "source": [
    "Из графика видно, что в общем разрезе данных 62% заведений не являются сетевыми, и только 38% сетевые, посмотрим в разрезе категорий заведений:"
   ]
  },
  {
   "cell_type": "code",
   "execution_count": 39,
   "id": "6c1375fc",
   "metadata": {},
   "outputs": [
    {
     "data": {
      "image/png": "[encoded data removed]",
      "text/plain": [
       "<Figure size 432x288 with 1 Axes>"
      ]
     },
     "metadata": {
      "needs_background": "light"
     },
     "output_type": "display_data"
    }
   ],
   "source": [
    "grouped_df = df.groupby('category')['chain'].value_counts().unstack(fill_value=0)\n",
    "grouped_df['total'] = grouped_df.sum(axis=1)  # добавляем столбец с суммой значений\n",
    "grouped_df_sorted = grouped_df.sort_values(by='total', ascending=False)  # сортируем по сумме\n",
    "\n",
    "# Строим гистограмму\n",
    "grouped_df_sorted.drop(columns=['total']).plot(kind='bar')\n",
    "plt.xlabel('Категория')\n",
    "plt.ylabel('Количество')\n",
    "plt.title('Распределение значений 0 и 1 по категориям')\n",
    "plt.legend(['не сетевое', 'сеть'])\n",
    "plt.show()"
   ]
  },
  {
   "cell_type": "markdown",
   "id": "3f4d6cd5",
   "metadata": {},
   "source": [
    "Видим, что чаще всего сетевыми бывают кофейни, рестораны и кафе, но также и в разрезе кафе большое количество заведений не является сетевым, как и в категории ресторанов. Кофейни наравне бывают как сетевые, так и не сетевые, но количество сетевых немного превалирует."
   ]
  },
  {
   "cell_type": "markdown",
   "id": "7262a843",
   "metadata": {},
   "source": [
    "\n",
    "### Задача 4\n",
    "\n",
    "Исследуйте количество посадочных мест в заведениях. Встречаются ли в данных аномальные значения или выбросы? Если да, то с чем они могут быть связаны? Приведите для каждой категории заведений наиболее типичное для него количество посадочных мест. Результат сопроводите подходящими визуализациями."
   ]
  },
  {
   "cell_type": "code",
   "execution_count": 40,
   "id": "82244f66",
   "metadata": {},
   "outputs": [
    {
     "data": {
      "image/png": "[encoded data removed]",
      "text/plain": [
       "<Figure size 864x720 with 1 Axes>"
      ]
     },
     "metadata": {
      "needs_background": "light"
     },
     "output_type": "display_data"
    }
   ],
   "source": [
    "# Строим диаграмму размаха методом boxplot()\n",
    "boxplot = df.boxplot(column='seats',\n",
    "                     vert=True, \n",
    "                     figsize=(12, 10))\n",
    "\n",
    "# Добавляем заголовок и метку оси X\n",
    "boxplot.set_title('Распределение числа посадочных мест')\n",
    "boxplot.set_xlabel('Число посадочных мест')\n",
    "\n",
    "plt.show()"
   ]
  },
  {
   "cell_type": "markdown",
   "id": "58d4592a",
   "metadata": {},
   "source": [
    "Из диаграммы размаха видим, что есть большое количество выбросов в стороне максимума. Скорее всего, такие выбросы могут быть связаны с сетевыми заведениями. Возможно, для всех сетевых заведений было посчитано общее количество мест и занесено в каждую точку. \n",
    "\n",
    "Посмотрим распределение посадочных мест внутри каждой категории:"
   ]
  },
  {
   "cell_type": "code",
   "execution_count": 41,
   "id": "e89716f8",
   "metadata": {
    "scrolled": true
   },
   "outputs": [
    {
     "data": {
      "image/png": "[encoded data removed]",
      "text/plain": [
       "<Figure size 1152x576 with 1 Axes>"
      ]
     },
     "metadata": {
      "needs_background": "light"
     },
     "output_type": "display_data"
    }
   ],
   "source": [
    "# Построим столбчатую диаграмму для визуализации числа посадочных мест для каждой категории заведений\n",
    "\n",
    "plt.figure(figsize=(16, 8))\n",
    "\n",
    "df.groupby('category')['seats'].mean().sort_values(ascending=False).plot(\n",
    "               kind='bar', # Тип графика - столбчатая диаграмма\n",
    "               rot=65, # Градус вращения подписи по оси Х\n",
    "               legend=False, # Выключаем легенду\n",
    "               title=f'Распределение числа посадочных мест для каждой категории заведений'\n",
    ")\n",
    "\n",
    "# Настраиваем оформление графика\n",
    "plt.xlabel('Категория')\n",
    "plt.ylabel('Число посадочных мест')\n",
    "# Добавляем сетку графика\n",
    "plt.grid()\n",
    "\n",
    "# Выводим график\n",
    "plt.show()"
   ]
  },
  {
   "cell_type": "markdown",
   "id": "f63da1d1",
   "metadata": {},
   "source": [
    "Для визуализации наиболее типичного числа посадочных мест для каждой категории заведения выбрали \"среднее\" по категории. Видим, что наибольшее количество посадочных мест в данной выборке у баров, пабов, ресторанов и кофеен. Для баров, пабов и кофеен это скорее аномальные значения, чем действительные, так как в основном это небольшие заведения, не рассчитанные на такое количество посадочных мест."
   ]
  },
  {
   "cell_type": "markdown",
   "id": "8ed065ea",
   "metadata": {
    "id": "8ed065ea"
   },
   "source": [
    "---\n",
    "\n",
    "### Задача 5\n",
    "\n",
    "Исследуйте рейтинг заведений. Визуализируйте распределение средних рейтингов по категориям заведений. Сильно ли различаются усреднённые рейтинги для разных типов общепита?"
   ]
  },
  {
   "cell_type": "code",
   "execution_count": 42,
   "id": "cc5206f8",
   "metadata": {
    "id": "cc5206f8"
   },
   "outputs": [
    {
     "data": {
      "image/png": "[encoded data removed]",
      "text/plain": [
       "<Figure size 1152x576 with 1 Axes>"
      ]
     },
     "metadata": {
      "needs_background": "light"
     },
     "output_type": "display_data"
    }
   ],
   "source": [
    "# Визуализируем распределение средних рейтингов по категориям заведений \n",
    "plt.figure(figsize=(16, 8))\n",
    "\n",
    "df.groupby('category')['rating'].mean().sort_values(ascending=False).plot(\n",
    "               kind='bar', # Тип графика - столбчатая диаграмма\n",
    "               rot=45, # Градус вращения подписи по оси Х\n",
    "               legend=False, # Выключаем легенду\n",
    "               title=f'Распределение средних рейтингов по категориям заведений'\n",
    ")\n",
    "\n",
    "# Настраиваем оформление графика\n",
    "plt.xlabel('Категория заведения')\n",
    "plt.ylabel('Средний рейтинг')\n",
    "# Добавляем сетку графика\n",
    "plt.grid()\n",
    "\n",
    "# Выводим график\n",
    "plt.show()"
   ]
  },
  {
   "cell_type": "markdown",
   "id": "4d23ca65",
   "metadata": {
    "id": "3e0ec5d7"
   },
   "source": [
    "Исходя из полученной диаграммы, видим, что абсолютно все категории имеют рейтинг выше 4 и по значениям отличаются не очень сильно. Самый низкий рейтинг имеют точки быстрого питания, а самый высокий - бары и пабы. Кофейня, пиццерия, ресторан, столовая и булочная имеют схожие рейтинги и мало отличаются друг от друга."
   ]
  },
  {
   "cell_type": "markdown",
   "id": "dd9702d9",
   "metadata": {
    "id": "dd9702d9"
   },
   "source": [
    "---\n",
    "\n",
    "### Задача 6\n",
    "\n",
    "Изучите, с какими данными показывают самую сильную корреляцию рейтинги заведений? Постройте и визуализируйте матрицу корреляции рейтинга заведения с разными данными: его категория, положение (административный район Москвы), статус сетевого заведения, количество мест, ценовая категория и признак, является ли заведения круглосуточным. Выберите самую сильную связь и проверьте её."
   ]
  },
  {
   "cell_type": "code",
   "execution_count": 43,
   "id": "7fbb7bc0",
   "metadata": {
    "scrolled": true
   },
   "outputs": [
    {
     "name": "stdout",
     "output_type": "stream",
     "text": [
      "Requirement already satisfied: phik in /opt/conda/lib/python3.9/site-packages (0.12.5)\n",
      "Requirement already satisfied: numpy>=1.18.0 in /opt/conda/lib/python3.9/site-packages (from phik) (1.21.1)\n",
      "Requirement already satisfied: scipy>=1.5.2 in /opt/conda/lib/python3.9/site-packages (from phik) (1.9.1)\n",
      "Requirement already satisfied: pandas>=0.25.1 in /opt/conda/lib/python3.9/site-packages (from phik) (1.2.4)\n",
      "Requirement already satisfied: matplotlib>=2.2.3 in /opt/conda/lib/python3.9/site-packages (from phik) (3.3.4)\n",
      "Requirement already satisfied: joblib>=0.14.1 in /opt/conda/lib/python3.9/site-packages (from phik) (1.1.0)\n",
      "Requirement already satisfied: kiwisolver>=1.0.1 in /opt/conda/lib/python3.9/site-packages (from matplotlib>=2.2.3->phik) (1.4.4)\n",
      "Requirement already satisfied: python-dateutil>=2.1 in /opt/conda/lib/python3.9/site-packages (from matplotlib>=2.2.3->phik) (2.8.1)\n",
      "Requirement already satisfied: pyparsing!=2.0.4,!=2.1.2,!=2.1.6,>=2.0.3 in /opt/conda/lib/python3.9/site-packages (from matplotlib>=2.2.3->phik) (2.4.7)\n",
      "Requirement already satisfied: cycler>=0.10 in /opt/conda/lib/python3.9/site-packages (from matplotlib>=2.2.3->phik) (0.11.0)\n",
      "Requirement already satisfied: pillow>=6.2.0 in /opt/conda/lib/python3.9/site-packages (from matplotlib>=2.2.3->phik) (8.4.0)\n",
      "Requirement already satisfied: pytz>=2017.3 in /opt/conda/lib/python3.9/site-packages (from pandas>=0.25.1->phik) (2021.1)\n",
      "Requirement already satisfied: six>=1.5 in /opt/conda/lib/python3.9/site-packages (from python-dateutil>=2.1->matplotlib>=2.2.3->phik) (1.16.0)\n"
     ]
    }
   ],
   "source": [
    "# Импортируем библиотеку phik и построим корреляционную матрицу:\n",
    "    \n",
    "!pip install phik\n",
    "import phik"
   ]
  },
  {
   "cell_type": "code",
   "execution_count": 47,
   "id": "585a6167",
   "metadata": {
    "scrolled": true
   },
   "outputs": [
    {
     "name": "stdout",
     "output_type": "stream",
     "text": [
      "interval columns not set, guessing: ['chain', 'seats', 'rating']\n",
      "rating      1.000000\n",
      "price       0.220295\n",
      "district    0.200691\n",
      "category    0.190003\n",
      "is_24_7     0.144762\n",
      "chain       0.108092\n",
      "seats       0.000000\n",
      "Name: rating, dtype: float64\n"
     ]
    }
   ],
   "source": [
    "columns_to_use = ['category', 'district', 'chain', 'seats', 'price', 'rating', 'is_24_7']\n",
    "correlation_matrix = df[columns_to_use].phik_matrix()\n",
    "rating_correlations = correlation_matrix.loc['rating']\n",
    "print(rating_correlations.sort_values(ascending=False))"
   ]
  },
  {
   "cell_type": "markdown",
   "id": "885dc46d",
   "metadata": {},
   "source": [
    "Наибольшая корреляция рейтинга заведений наблюдается с ценовой категорией (0.22) и местоположением (0.2). Для остальных признаков коэффициент корреляции снижается с 0.19 до 0."
   ]
  },
  {
   "cell_type": "markdown",
   "id": "b4713b4f",
   "metadata": {},
   "source": [
    "Перед тем как перейти к дальнейшему анализу, визуализируем результат корреляции с помощью тепловой карты и библиотеки seaborn:"
   ]
  },
  {
   "cell_type": "code",
   "execution_count": 49,
   "id": "21e999c9",
   "metadata": {
    "scrolled": true
   },
   "outputs": [
    {
     "data": {
      "image/png": "[encoded data removed]",
      "text/plain": [
       "<Figure size 144x432 with 1 Axes>"
      ]
     },
     "metadata": {
      "needs_background": "light"
     },
     "output_type": "display_data"
    }
   ],
   "source": [
    "# Строим тепловую карту\n",
    "plt.figure(figsize=(2, 6))\n",
    "\n",
    "# Сохраняем матрицу корреляции признака churn с другими признаками клиента\n",
    "data_heatmap = correlation_matrix.loc[correlation_matrix.index != 'rating'][['rating']].sort_values(by='rating', ascending=False)\n",
    "sns.heatmap(data_heatmap,\n",
    "            annot=True, # Отображаем численные значения в ячейках карты\n",
    "            fmt='.2f', # Форматируем значения корреляции: два знака после точки\n",
    "            cmap='coolwarm', # Устанавливаем цветовую гамму от красного (макс. значение) к синему\n",
    "            linewidths=0.5, # Форматируем линию между ячейками карты\n",
    "            cbar=False # Отключаем цветовую шкалу\n",
    "           )\n",
    "\n",
    "# Добавляем заголовок и подпись по оси Х\n",
    "plt.title('Тепловая карта коэффициента phi_k \\n для данных rating')\n",
    "plt.xlabel('Рейтинг')\n",
    "\n",
    "# Выводим график\n",
    "plt.show()"
   ]
  },
  {
   "cell_type": "markdown",
   "id": "700601e1",
   "metadata": {},
   "source": [
    "Посмотрим на самую сильную связь рейтинга с ценовой категорией:"
   ]
  },
  {
   "cell_type": "code",
   "execution_count": 51,
   "id": "071736d0",
   "metadata": {
    "scrolled": true
   },
   "outputs": [
    {
     "data": {
      "image/png": "[encoded data removed]",
      "text/plain": [
       "<Figure size 720x288 with 1 Axes>"
      ]
     },
     "metadata": {
      "needs_background": "light"
     },
     "output_type": "display_data"
    }
   ],
   "source": [
    "# Создаём контейнер графика\n",
    "plt.figure(figsize=(10, 4))\n",
    "\n",
    "sns.scatterplot(x='rating', y='price', data=df)\n",
    "\n",
    "plt.title('Взаимосвязь рейтинга заведений с ценовой категорией')\n",
    "plt.xlabel('Рейтинг')\n",
    "plt.ylabel('Ценовая категория')\n",
    "plt.show()"
   ]
  },
  {
   "cell_type": "markdown",
   "id": "b966947c",
   "metadata": {},
   "source": [
    "На графике нет четкого направления линейной зависимости, поэтому сложно говорить о силе связи между рейтингом заведений и ценовой категорией"
   ]
  },
  {
   "cell_type": "code",
   "execution_count": 53,
   "id": "81dcf81f",
   "metadata": {
    "scrolled": true
   },
   "outputs": [
    {
     "data": {
      "image/png": "[encoded data removed]",
      "text/plain": [
       "<Figure size 720x288 with 1 Axes>"
      ]
     },
     "metadata": {
      "needs_background": "light"
     },
     "output_type": "display_data"
    }
   ],
   "source": [
    "# Создаём контейнер графика\n",
    "plt.figure(figsize=(10, 4))\n",
    "\n",
    "sns.scatterplot(x='rating', y='district', data=df)\n",
    "\n",
    "plt.title('Взаимосвязь рейтинга заведений с местоположением')\n",
    "plt.xlabel('Рейтинг')\n",
    "plt.ylabel('Местоположение')\n",
    "plt.show()"
   ]
  },
  {
   "cell_type": "markdown",
   "id": "0a82a766",
   "metadata": {},
   "source": [
    "Также, как и на графике выше, видим разброс данных в зависимости от рейтинга и местоположения заведения, но четкой линейной зависимости здесь не прослеживается, поэтому никакой закономерности выявить не можем."
   ]
  },
  {
   "cell_type": "markdown",
   "id": "370de703",
   "metadata": {
    "id": "370de703"
   },
   "source": [
    "---\n",
    "\n",
    "### Задача 7\n",
    "\n",
    "Сгруппируйте данные по названиям заведений и найдите топ-15 популярных сетей в Москве. Для них посчитайте значения среднего рейтинга. Под популярностью понимается количество заведений этой сети в регионе. К какой категории заведений они относятся? Результат сопроводите подходящими визуализациями."
   ]
  },
  {
   "cell_type": "code",
   "execution_count": 35,
   "id": "4fd7de5e",
   "metadata": {
    "scrolled": true
   },
   "outputs": [
    {
     "name": "stdout",
     "output_type": "stream",
     "text": [
      "                                              count      mean\n",
      "name                                category                 \n",
      "Шоколадница                         кофейня     119  4.178151\n",
      "Домино'с Пицца                      пиццерия     76  4.169737\n",
      "Додо Пицца                          пиццерия     74  4.286486\n",
      "One Price Coffee                    кофейня      71  4.064789\n",
      "Яндекс Лавка                        ресторан     69  3.872464\n",
      "Cofix                               кофейня      65  4.075385\n",
      "Prime                               ресторан     49  4.114286\n",
      "КОФЕПОРТ                            кофейня      42  4.147619\n",
      "Кулинарная лавка братьев Караваевых кафе         39  4.394872\n",
      "Теремок                             ресторан     36  4.105556\n",
      "CofeFest                            кофейня      31  3.977419\n",
      "Чайхана                             кафе         26  3.946154\n",
      "Буханка                             булочная     25  4.416000\n",
      "Drive Café                          кафе         24  4.025000\n",
      "Кофемания                           кофейня      22  4.463636\n"
     ]
    }
   ],
   "source": [
    "# Отфильтруем сетевые заведения\n",
    "filtered_df = df.loc[df['chain'] == 1]\n",
    "\n",
    "# Сгруппируем данные по названию заведений и категории, вычислим количество и средний рейтинг\n",
    "top_15 = filtered_df.groupby(['name', 'category'])['rating'].agg(['count', 'mean'])\n",
    "\n",
    "# Отсортируем полученные данные по количеству заведений в порядке убывания\n",
    "top_15 = top_15.sort_values(by='count', ascending=False)\n",
    "\n",
    "# Выведем топ-15 мест по количеству заведений и их средний рейтинг\n",
    "print(top_15.head(15))"
   ]
  },
  {
   "cell_type": "markdown",
   "id": "7e1749d8",
   "metadata": {},
   "source": [
    "Из полученного массива данных видим, что наибольшее количество точек у Шоколадницы с рейтингом заведений 4,17."
   ]
  },
  {
   "cell_type": "markdown",
   "id": "c8f6207e",
   "metadata": {},
   "source": [
    "Построим тепловую карту средних рейтингов заведений с визуализацией их названия и категории, к которой они относятся:"
   ]
  },
  {
   "cell_type": "code",
   "execution_count": 36,
   "id": "a9981cea",
   "metadata": {
    "scrolled": false
   },
   "outputs": [
    {
     "data": {
      "image/png": "[encoded data removed]",
      "text/plain": [
       "<Figure size 720x432 with 2 Axes>"
      ]
     },
     "metadata": {
      "needs_background": "light"
     },
     "output_type": "display_data"
    }
   ],
   "source": [
    "pivot_table = top_15.head(15).pivot_table(index='name', columns='category', values='mean', fill_value=0)\n",
    "\n",
    "# Построение тепловой карты\n",
    "plt.figure(figsize=(10, 6))\n",
    "sns.heatmap(pivot_table, annot=True, cmap='YlGnBu')\n",
    "plt.title('Тепловая карта средних рейтингов заведений')\n",
    "plt.xlabel('Категория')\n",
    "plt.ylabel('Название сети')\n",
    "plt.show()"
   ]
  },
  {
   "cell_type": "markdown",
   "id": "97e2a27f",
   "metadata": {},
   "source": [
    "На данной диаграмме видим, что больше всего заведений в данной выборке из категории \"кофейня\", причем у всех средний рейтинг выше или равен 4"
   ]
  },
  {
   "cell_type": "markdown",
   "id": "422e1f1f",
   "metadata": {},
   "source": [
    "Визуализируем самые популярные места общественного питания по количеству точек в городе:"
   ]
  },
  {
   "cell_type": "code",
   "execution_count": 37,
   "id": "1162d320",
   "metadata": {},
   "outputs": [
    {
     "data": {
      "image/png": "[encoded data removed]",
      "text/plain": [
       "<Figure size 1152x576 with 1 Axes>"
      ]
     },
     "metadata": {
      "needs_background": "light"
     },
     "output_type": "display_data"
    }
   ],
   "source": [
    "# Подготавливаем данные для диаграммы\n",
    "top_15_count = top_15.head(15)['count']\n",
    "names = top_15_count.index.get_level_values('name')\n",
    "\n",
    "# Построение столбчатой диаграммы\n",
    "plt.figure(figsize=(16, 8))\n",
    "plt.bar(names, top_15_count, color='blue', edgecolor='black')\n",
    "plt.title('Количество заведений в топ-15 сетях')\n",
    "plt.xlabel('Название сети')\n",
    "plt.ylabel('Количество заведений')\n",
    "plt.xticks(rotation=75)  # Поворот названий сетей для лучшей читаемости\n",
    "plt.grid(axis='y', linestyle='--', alpha=0.7)\n",
    "plt.show()"
   ]
  },
  {
   "cell_type": "markdown",
   "id": "86a299d7",
   "metadata": {},
   "source": [
    "Видим, что наибольшее количество заведений у Шоколадницы, а наименьшее - у Кофемании. В среднем у большинства выбранных заведений не сильно разнится количество заведений по городу."
   ]
  },
  {
   "cell_type": "markdown",
   "id": "85a90a94",
   "metadata": {
    "id": "85a90a94"
   },
   "source": [
    "---\n",
    "\n",
    "### Задача 8\n",
    "\n",
    "Изучите вариацию среднего чека заведения (столбец `middle_avg_bill`) в зависимости от района Москвы. Проанализируйте цены в Центральном административном округе и других. Как удалённость от центра влияет на цены в заведениях? Результат сопроводите подходящими визуализациями.\n"
   ]
  },
  {
   "cell_type": "markdown",
   "id": "43828622",
   "metadata": {},
   "source": [
    "Визуализируем распределение среднего чека в зависимости от административного района Москвы:"
   ]
  },
  {
   "cell_type": "code",
   "execution_count": 38,
   "id": "859df2c7",
   "metadata": {},
   "outputs": [
    {
     "data": {
      "image/png": "[encoded data removed]",
      "text/plain": [
       "<Figure size 720x432 with 1 Axes>"
      ]
     },
     "metadata": {
      "needs_background": "light"
     },
     "output_type": "display_data"
    }
   ],
   "source": [
    "plt.figure(figsize=(16, 8))\n",
    "\n",
    "df.groupby('district')['middle_avg_bill'].mean().sort_values(ascending=False).plot(kind='bar', figsize=(10, 6))\n",
    "plt.title('Средний чек по районам')\n",
    "plt.xlabel('Район')\n",
    "plt.ylabel('Средний чек')\n",
    "plt.xticks(rotation=75)  # Поворот названий районов для лучшей читаемости\n",
    "plt.grid(axis='y', linestyle='--', alpha=0.7)\n",
    "plt.show()"
   ]
  },
  {
   "cell_type": "markdown",
   "id": "1e1930ed",
   "metadata": {
    "id": "b98066c1"
   },
   "source": [
    "Видим, что наибольший средний чек выходит у посетителей в заведениях в районе ЦАО, затем уже в Западном округе и в Северном. Можно заметить, что удаленность от центра прямо влияет на разброс данных среднего чека: чем дальше заведение находится от центра, тем меньше средний чек. Например, ЮВАО и СВАО находятся намного дальше от центра, чем другие административные округи. Соответственно, средний чек в этих районах ниже, чем в других."
   ]
  },
  {
   "cell_type": "markdown",
   "id": "c150bd4f",
   "metadata": {
    "id": "c150bd4f"
   },
   "source": [
    "---\n"
   ]
  },
  {
   "cell_type": "markdown",
   "id": "4a397a47",
   "metadata": {
    "id": "5ee8b279"
   },
   "source": [
    "Посмотрим, зависит ли средняя стоимость одной чашки капучино в зависимости от района Москвы:"
   ]
  },
  {
   "cell_type": "code",
   "execution_count": 39,
   "id": "c6a666d9",
   "metadata": {
    "id": "c6a666d9"
   },
   "outputs": [
    {
     "data": {
      "image/png": "[encoded data removed]",
      "text/plain": [
       "<Figure size 720x432 with 1 Axes>"
      ]
     },
     "metadata": {
      "needs_background": "light"
     },
     "output_type": "display_data"
    }
   ],
   "source": [
    "plt.figure(figsize=(16, 8))\n",
    "\n",
    "df.groupby('district')['middle_coffee_cup'].mean().sort_values(ascending=False).plot(kind='bar', figsize=(10, 6))\n",
    "plt.title('Средняя стоимость одной чашки капучино по районам')\n",
    "plt.xlabel('Район')\n",
    "plt.ylabel('Средняя стоимость одной чашки капучино')\n",
    "plt.xticks(rotation=75)  # Поворот названий районов для лучшей читаемости\n",
    "plt.grid(axis='y', linestyle='--', alpha=0.7)\n",
    "plt.show()"
   ]
  },
  {
   "cell_type": "markdown",
   "id": "2617ae37",
   "metadata": {
    "id": "618096b5"
   },
   "source": [
    "Видим, что район практически не влияет на среднюю стоимость одной чашки капучино, так как стоимость для всех районов находится примерно в одном диапазоне.\n",
    "\n",
    "Значит, есть отличия только в стоимости блюд в разных заведениях, стоимость кофе практически одинакова по всей Москве. Наиболее низкая стоимость кофе, как и наименьший средний чек, зафиксированы в ЮВАО Москвы."
   ]
  },
  {
   "cell_type": "markdown",
   "id": "f2c54e9a",
   "metadata": {
    "id": "f2c54e9a"
   },
   "source": [
    "---\n",
    "\n",
    "### Промежуточный вывод\n",
    "\n",
    "Обобщите полученные результаты, выделив, по вашему мнению, самые важные."
   ]
  },
  {
   "cell_type": "markdown",
   "id": "1d187bac",
   "metadata": {
    "id": "c8869609"
   },
   "source": [
    "Исходя из полученных результатов, подчеркнем основные моменты: \n",
    "- более всего по категориям общепита в Москве распространены кафе, рестораны и кофейни; \n",
    "- больше всего заведений расположено в ЦАО Москвы, а именно - ресторанов; \n",
    "- также наибольшее количество заведений не относится к сетевым. Рестораны и кафе практически в равном количестве есть как сетевые, так и нет, но больше не сетевых заведений среди этих категорий;\n",
    "- число посадочных мест в большинстве своем имеет аномальные значения, что не бьется с реальностью;\n",
    "- рейтинг для разных типов общепита практически одинаков и мало изменяется в зависимости от выбранной категории;\n",
    "- связь рейтинга мало прослеживается с показателями, представленными в датафрейме, сложно отследить, от чего он зависит. Скорее всего это значение обусловлено качеством обслуживания, стоимостью блюд и их качеством, разнообразием меню, что не отражено в данных датафрейма;\n",
    "- был выявлен топ-15 заведений по количеству точек в городе и их средний рейтинг. У общепита с наибольшим количеством заведений не самый высокий рейтинг. Скорее всего, постоянные посетители не оставляют отзывов в интернете и очень лояльны к данному заведению;\n",
    "- была выявлена зависимость среднего чека в зависимости от расположения заведения: чем ближе заведение к центру, тем выше средний чек. Однако, данная зависимость не распространяется на стоимость капучино: стоимость кофе практически одинакова во всей Москве."
   ]
  },
  {
   "cell_type": "markdown",
   "id": "480f3422",
   "metadata": {
    "id": "480f3422"
   },
   "source": [
    "## 4. Итоговый вывод и рекомендации\n",
    "\n",
    "По результатам проведённого исследовательского анализа данных сформулируйте итоговый вывод и рекомендации для заказчика. Старайтесь акцентировать внимание на ключевых моментах исследования.\n",
    "\n",
    "При составлении вывода придерживайтесь такой структуры:\n",
    "\n",
    "1. Общий обзор проделанной работы.\n",
    "2. Ответы на исследовательские вопросы, или главные выводы.\n",
    "3. Рекомендации на основе анализа данных."
   ]
  },
  {
   "cell_type": "markdown",
   "id": "6572d616",
   "metadata": {},
   "source": [
    "В процессе выполнения данной работы была проведена предобработка данных: были выявлены и удалены неявные дупликаты, было выявлено большое количество пропусков, которое было решено оставить по причине взаимосвязи данных в столбцах между собой. Скорее всего причиной пропусков также может являться отсутствие статистики по заведению.\n",
    "\n",
    "В процессе анализа было выявлено большое количество аномальных значений в столбце с числом посадочных мест. Предполагаю, что причиной возникновения аномалий являются сетевые заведения, для которых посчитано общее число посадочных мест и занесено в каждую строку сетевого заведения в зависимости от адреса. Точная причина возникновения аномалий неизвестна.\n",
    "\n",
    "Для удобства анализа и предобработки данных информация из двух датафреймов была объединена в один по идентификатору заведения. Тип и названия данных в датафрейме корректны и не требовали изменений.\n",
    "\n",
    "Был создан столбец, отражающий график работы заведений, а именно - были выделены заведения, работающие круглосуточно.\n",
    "\n",
    "В процессе анализа данных были даны ответы на ключевые вопросы бизнеса, отразим самые важные в совокупности с рекомендациями:\n",
    "наибольшее распространение получили кафе, рестораны и кофейни. Скорее всего люди чаще посещают именно эти категории общепита, предпочитая их другим. Думаю, более прибыльно открывать заведение именно в этих категориях, но также здесь нужно быть готовым к конкуренции, так как таких заведений больше всего. \n",
    "\n",
    "Также важно и расположение заведения, так как это напрямую влияет на стоимость блюд: чем ближе к центру, тем больше средний чек в заведениях. Здесь нужно заметить, что в самом центре Москвы больше ресторанов, чем кафе и кофеен, что тоже важно учитывать. \n",
    "\n",
    "Если задуматься о сетевом заведении, то в Москве они распространены меньше, чем те, что не относятся к сетевым. Значит, люди отдают предпочтение эксклюзивности. \n",
    "\n",
    "Рейтинг заведений практически одинаков в разрезе разных категорий. Думаю потому, что разные категории заведений ориентированы на разные слои населения, отсюда разные предпочтения и пожелания к месту общественного питания. Также важно заметить, что посетители одной категории заведений могут не являться посетителями другой категории. Здесь важно понять, на какую целевую аудиторию ориентированы инвесторы, так как это определит и категорию заведения, и его местоположение в совокупности со средним чеком."
   ]
  }
 ],
 "metadata": {
  "ExecuteTimeLog": [
   {
    "duration": 446,
    "start_time": "2025-08-12T17:58:06.680Z"
   },
   {
    "duration": 3,
    "start_time": "2025-08-12T17:58:07.203Z"
   },
   {
    "duration": 1170,
    "start_time": "2025-08-12T17:58:07.650Z"
   },
   {
    "duration": 118,
    "start_time": "2025-08-12T17:58:08.822Z"
   },
   {
    "duration": 197,
    "start_time": "2025-08-12T17:58:09.063Z"
   },
   {
    "duration": 121,
    "start_time": "2025-08-12T17:58:10.601Z"
   },
   {
    "duration": 10,
    "start_time": "2025-08-12T18:00:16.593Z"
   },
   {
    "duration": 9,
    "start_time": "2025-08-12T18:00:22.808Z"
   },
   {
    "duration": 3,
    "start_time": "2025-08-12T18:01:58.726Z"
   },
   {
    "duration": 22,
    "start_time": "2025-08-12T18:02:55.071Z"
   },
   {
    "duration": 15,
    "start_time": "2025-08-12T18:03:59.506Z"
   },
   {
    "duration": 13,
    "start_time": "2025-08-12T18:04:10.522Z"
   },
   {
    "duration": 50,
    "start_time": "2025-08-13T17:47:46.591Z"
   },
   {
    "duration": 6,
    "start_time": "2025-08-13T17:47:58.999Z"
   },
   {
    "duration": 1448,
    "start_time": "2025-08-13T17:48:04.740Z"
   },
   {
    "duration": 134,
    "start_time": "2025-08-13T17:48:06.190Z"
   },
   {
    "duration": 80,
    "start_time": "2025-08-13T17:48:06.325Z"
   },
   {
    "duration": 15,
    "start_time": "2025-08-13T17:48:06.958Z"
   },
   {
    "duration": 14,
    "start_time": "2025-08-13T17:48:08.113Z"
   },
   {
    "duration": 10,
    "start_time": "2025-08-13T17:48:12.264Z"
   },
   {
    "duration": 12,
    "start_time": "2025-08-13T17:48:38.755Z"
   },
   {
    "duration": 13,
    "start_time": "2025-08-13T17:48:44.757Z"
   },
   {
    "duration": 17,
    "start_time": "2025-08-13T17:56:35.063Z"
   },
   {
    "duration": 20,
    "start_time": "2025-08-13T17:56:42.190Z"
   },
   {
    "duration": 14,
    "start_time": "2025-08-13T17:57:22.670Z"
   },
   {
    "duration": 12,
    "start_time": "2025-08-13T17:58:39.974Z"
   },
   {
    "duration": 7,
    "start_time": "2025-08-13T18:33:40.402Z"
   },
   {
    "duration": 6,
    "start_time": "2025-08-13T18:34:09.556Z"
   },
   {
    "duration": 117,
    "start_time": "2025-08-13T18:37:35.889Z"
   },
   {
    "duration": 9,
    "start_time": "2025-08-13T18:44:19.545Z"
   },
   {
    "duration": 11,
    "start_time": "2025-08-13T18:45:28.248Z"
   },
   {
    "duration": 7,
    "start_time": "2025-08-13T18:56:35.288Z"
   },
   {
    "duration": 5,
    "start_time": "2025-08-13T18:57:27.259Z"
   },
   {
    "duration": 5,
    "start_time": "2025-08-13T18:57:52.728Z"
   },
   {
    "duration": 5,
    "start_time": "2025-08-13T19:02:02.672Z"
   },
   {
    "duration": 6,
    "start_time": "2025-08-13T19:02:13.035Z"
   },
   {
    "duration": 5,
    "start_time": "2025-08-13T19:02:27.149Z"
   },
   {
    "duration": 5,
    "start_time": "2025-08-13T19:02:53.659Z"
   },
   {
    "duration": 4,
    "start_time": "2025-08-13T19:03:45.565Z"
   },
   {
    "duration": 6,
    "start_time": "2025-08-13T19:06:19.054Z"
   },
   {
    "duration": 4,
    "start_time": "2025-08-13T19:06:58.787Z"
   },
   {
    "duration": 3,
    "start_time": "2025-08-13T19:07:40.509Z"
   },
   {
    "duration": 4,
    "start_time": "2025-08-13T19:07:59.105Z"
   },
   {
    "duration": 6,
    "start_time": "2025-08-13T19:08:09.241Z"
   },
   {
    "duration": 4,
    "start_time": "2025-08-13T19:08:29.107Z"
   },
   {
    "duration": 3,
    "start_time": "2025-08-13T19:08:48.492Z"
   },
   {
    "duration": 9,
    "start_time": "2025-08-13T19:09:01.672Z"
   },
   {
    "duration": 4,
    "start_time": "2025-08-13T19:09:09.889Z"
   },
   {
    "duration": 6,
    "start_time": "2025-08-13T19:15:16.659Z"
   },
   {
    "duration": 8,
    "start_time": "2025-08-13T19:15:46.395Z"
   },
   {
    "duration": 8,
    "start_time": "2025-08-13T19:15:58.692Z"
   },
   {
    "duration": 7,
    "start_time": "2025-08-13T19:18:29.639Z"
   },
   {
    "duration": 4,
    "start_time": "2025-08-13T19:18:50.764Z"
   },
   {
    "duration": 3,
    "start_time": "2025-08-13T19:19:03.507Z"
   },
   {
    "duration": 10,
    "start_time": "2025-08-13T19:19:15.840Z"
   },
   {
    "duration": 17,
    "start_time": "2025-08-13T19:19:50.624Z"
   },
   {
    "duration": 9,
    "start_time": "2025-08-13T19:20:46.062Z"
   },
   {
    "duration": 1324,
    "start_time": "2025-08-13T19:21:11.531Z"
   },
   {
    "duration": 318,
    "start_time": "2025-08-13T19:21:12.859Z"
   },
   {
    "duration": 42,
    "start_time": "2025-08-13T19:21:13.178Z"
   },
   {
    "duration": 26,
    "start_time": "2025-08-13T19:21:13.222Z"
   },
   {
    "duration": 14,
    "start_time": "2025-08-13T19:21:13.250Z"
   },
   {
    "duration": 9,
    "start_time": "2025-08-13T19:21:13.266Z"
   },
   {
    "duration": 79,
    "start_time": "2025-08-13T19:21:13.276Z"
   },
   {
    "duration": 11,
    "start_time": "2025-08-13T19:21:13.356Z"
   },
   {
    "duration": 9,
    "start_time": "2025-08-13T19:21:13.368Z"
   },
   {
    "duration": 11,
    "start_time": "2025-08-13T19:21:13.379Z"
   },
   {
    "duration": 10,
    "start_time": "2025-08-13T19:21:13.392Z"
   },
   {
    "duration": 5,
    "start_time": "2025-08-13T19:21:13.403Z"
   },
   {
    "duration": 6,
    "start_time": "2025-08-13T19:21:13.409Z"
   },
   {
    "duration": 17,
    "start_time": "2025-08-13T19:21:13.436Z"
   },
   {
    "duration": 12,
    "start_time": "2025-08-13T19:21:13.455Z"
   },
   {
    "duration": 10,
    "start_time": "2025-08-13T19:21:13.469Z"
   },
   {
    "duration": 5,
    "start_time": "2025-08-13T19:21:13.486Z"
   },
   {
    "duration": 11,
    "start_time": "2025-08-13T19:21:13.493Z"
   },
   {
    "duration": 11,
    "start_time": "2025-08-13T19:21:13.505Z"
   },
   {
    "duration": 11,
    "start_time": "2025-08-13T19:21:44.904Z"
   },
   {
    "duration": 6,
    "start_time": "2025-08-13T19:46:50.479Z"
   },
   {
    "duration": 6,
    "start_time": "2025-08-13T19:46:51.946Z"
   },
   {
    "duration": 5,
    "start_time": "2025-08-13T19:46:53.253Z"
   },
   {
    "duration": 6,
    "start_time": "2025-08-13T19:46:53.754Z"
   },
   {
    "duration": 7,
    "start_time": "2025-08-13T19:46:54.128Z"
   },
   {
    "duration": 4,
    "start_time": "2025-08-13T19:46:57.014Z"
   },
   {
    "duration": 5,
    "start_time": "2025-08-13T19:47:01.291Z"
   },
   {
    "duration": 5,
    "start_time": "2025-08-13T19:47:01.781Z"
   },
   {
    "duration": 12,
    "start_time": "2025-08-13T19:55:10.445Z"
   },
   {
    "duration": 11,
    "start_time": "2025-08-13T19:55:26.515Z"
   },
   {
    "duration": 15,
    "start_time": "2025-08-13T19:55:31.739Z"
   },
   {
    "duration": 14,
    "start_time": "2025-08-13T19:55:32.391Z"
   },
   {
    "duration": 13,
    "start_time": "2025-08-13T19:55:53.127Z"
   },
   {
    "duration": 5,
    "start_time": "2025-08-13T19:55:54.311Z"
   },
   {
    "duration": 6,
    "start_time": "2025-08-13T19:55:55.981Z"
   },
   {
    "duration": 5,
    "start_time": "2025-08-13T19:55:56.525Z"
   },
   {
    "duration": 5,
    "start_time": "2025-08-13T19:55:56.892Z"
   },
   {
    "duration": 5,
    "start_time": "2025-08-13T19:55:57.694Z"
   },
   {
    "duration": 5,
    "start_time": "2025-08-13T19:55:59.518Z"
   },
   {
    "duration": 4,
    "start_time": "2025-08-13T19:56:00.053Z"
   },
   {
    "duration": 12,
    "start_time": "2025-08-13T19:56:01.342Z"
   },
   {
    "duration": 10,
    "start_time": "2025-08-13T19:56:28.101Z"
   },
   {
    "duration": 1347,
    "start_time": "2025-08-13T19:56:48.048Z"
   },
   {
    "duration": 199,
    "start_time": "2025-08-13T19:56:49.398Z"
   },
   {
    "duration": 51,
    "start_time": "2025-08-13T19:56:49.599Z"
   },
   {
    "duration": 19,
    "start_time": "2025-08-13T19:56:49.652Z"
   },
   {
    "duration": 14,
    "start_time": "2025-08-13T19:56:49.674Z"
   },
   {
    "duration": 11,
    "start_time": "2025-08-13T19:56:49.690Z"
   },
   {
    "duration": 44,
    "start_time": "2025-08-13T19:56:49.703Z"
   },
   {
    "duration": 12,
    "start_time": "2025-08-13T19:56:49.749Z"
   },
   {
    "duration": 16,
    "start_time": "2025-08-13T19:56:49.763Z"
   },
   {
    "duration": 11,
    "start_time": "2025-08-13T19:56:49.781Z"
   },
   {
    "duration": 13,
    "start_time": "2025-08-13T19:56:49.794Z"
   },
   {
    "duration": 25,
    "start_time": "2025-08-13T19:56:49.809Z"
   },
   {
    "duration": 15,
    "start_time": "2025-08-13T19:56:49.836Z"
   },
   {
    "duration": 6,
    "start_time": "2025-08-13T19:56:49.855Z"
   },
   {
    "duration": 10,
    "start_time": "2025-08-13T19:56:49.863Z"
   },
   {
    "duration": 5,
    "start_time": "2025-08-13T19:56:49.875Z"
   },
   {
    "duration": 9,
    "start_time": "2025-08-13T19:56:49.882Z"
   },
   {
    "duration": 10,
    "start_time": "2025-08-13T19:56:49.892Z"
   },
   {
    "duration": 19,
    "start_time": "2025-08-13T19:56:49.904Z"
   },
   {
    "duration": 2,
    "start_time": "2025-08-13T19:56:56.415Z"
   },
   {
    "duration": 109,
    "start_time": "2025-08-13T19:56:56.825Z"
   },
   {
    "duration": 61,
    "start_time": "2025-08-13T19:56:57.211Z"
   },
   {
    "duration": 14,
    "start_time": "2025-08-13T19:56:58.087Z"
   },
   {
    "duration": 13,
    "start_time": "2025-08-13T19:56:58.906Z"
   },
   {
    "duration": 14,
    "start_time": "2025-08-13T19:57:00.338Z"
   },
   {
    "duration": 14,
    "start_time": "2025-08-13T19:57:00.871Z"
   },
   {
    "duration": 17,
    "start_time": "2025-08-13T19:57:03.337Z"
   },
   {
    "duration": 16,
    "start_time": "2025-08-13T19:57:18.170Z"
   },
   {
    "duration": 12,
    "start_time": "2025-08-13T19:57:31.586Z"
   },
   {
    "duration": 18,
    "start_time": "2025-08-13T19:57:32.528Z"
   },
   {
    "duration": 11,
    "start_time": "2025-08-13T19:57:34.206Z"
   },
   {
    "duration": 5,
    "start_time": "2025-08-13T19:57:35.426Z"
   },
   {
    "duration": 6,
    "start_time": "2025-08-13T19:57:36.991Z"
   },
   {
    "duration": 4,
    "start_time": "2025-08-13T19:57:37.654Z"
   },
   {
    "duration": 9,
    "start_time": "2025-08-13T19:57:38.232Z"
   },
   {
    "duration": 4,
    "start_time": "2025-08-13T19:57:39.774Z"
   },
   {
    "duration": 5,
    "start_time": "2025-08-13T19:57:41.507Z"
   },
   {
    "duration": 4,
    "start_time": "2025-08-13T19:57:42.214Z"
   },
   {
    "duration": 1485,
    "start_time": "2025-08-14T04:32:49.386Z"
   },
   {
    "duration": 235,
    "start_time": "2025-08-14T04:32:50.873Z"
   },
   {
    "duration": 91,
    "start_time": "2025-08-14T04:32:51.110Z"
   },
   {
    "duration": 20,
    "start_time": "2025-08-14T04:32:51.366Z"
   },
   {
    "duration": 21,
    "start_time": "2025-08-14T04:32:54.228Z"
   },
   {
    "duration": 9,
    "start_time": "2025-08-14T04:32:56.813Z"
   },
   {
    "duration": 14,
    "start_time": "2025-08-14T04:32:59.607Z"
   },
   {
    "duration": 10,
    "start_time": "2025-08-14T04:33:02.603Z"
   },
   {
    "duration": 21,
    "start_time": "2025-08-14T04:33:06.647Z"
   },
   {
    "duration": 12,
    "start_time": "2025-08-14T04:33:07.616Z"
   },
   {
    "duration": 15,
    "start_time": "2025-08-14T04:33:14.450Z"
   },
   {
    "duration": 10,
    "start_time": "2025-08-14T04:33:25.007Z"
   },
   {
    "duration": 1263,
    "start_time": "2025-08-14T04:33:53.811Z"
   },
   {
    "duration": 240,
    "start_time": "2025-08-14T04:33:55.075Z"
   },
   {
    "duration": 62,
    "start_time": "2025-08-14T04:33:55.316Z"
   },
   {
    "duration": 15,
    "start_time": "2025-08-14T04:33:55.379Z"
   },
   {
    "duration": 14,
    "start_time": "2025-08-14T04:33:55.396Z"
   },
   {
    "duration": 13,
    "start_time": "2025-08-14T04:33:55.411Z"
   },
   {
    "duration": 25,
    "start_time": "2025-08-14T04:33:55.426Z"
   },
   {
    "duration": 11,
    "start_time": "2025-08-14T04:33:55.461Z"
   },
   {
    "duration": 9,
    "start_time": "2025-08-14T04:33:55.474Z"
   },
   {
    "duration": 12,
    "start_time": "2025-08-14T04:33:55.485Z"
   },
   {
    "duration": 272,
    "start_time": "2025-08-14T04:33:55.499Z"
   },
   {
    "duration": 0,
    "start_time": "2025-08-14T04:33:55.772Z"
   },
   {
    "duration": 0,
    "start_time": "2025-08-14T04:33:55.773Z"
   },
   {
    "duration": 0,
    "start_time": "2025-08-14T04:33:55.774Z"
   },
   {
    "duration": 0,
    "start_time": "2025-08-14T04:33:55.775Z"
   },
   {
    "duration": 0,
    "start_time": "2025-08-14T04:33:55.776Z"
   },
   {
    "duration": 0,
    "start_time": "2025-08-14T04:33:55.778Z"
   },
   {
    "duration": 0,
    "start_time": "2025-08-14T04:33:55.779Z"
   },
   {
    "duration": 2,
    "start_time": "2025-08-14T04:33:59.105Z"
   },
   {
    "duration": 218,
    "start_time": "2025-08-14T04:33:59.505Z"
   },
   {
    "duration": 47,
    "start_time": "2025-08-14T04:33:59.842Z"
   },
   {
    "duration": 29,
    "start_time": "2025-08-14T04:34:00.530Z"
   },
   {
    "duration": 14,
    "start_time": "2025-08-14T04:34:00.918Z"
   },
   {
    "duration": 9,
    "start_time": "2025-08-14T04:34:01.808Z"
   },
   {
    "duration": 22,
    "start_time": "2025-08-14T04:34:02.139Z"
   },
   {
    "duration": 11,
    "start_time": "2025-08-14T04:34:03.762Z"
   },
   {
    "duration": 10,
    "start_time": "2025-08-14T04:34:05.761Z"
   },
   {
    "duration": 11,
    "start_time": "2025-08-14T04:34:06.399Z"
   },
   {
    "duration": 17,
    "start_time": "2025-08-14T04:34:07.979Z"
   },
   {
    "duration": 13,
    "start_time": "2025-08-14T04:34:12.065Z"
   },
   {
    "duration": 7,
    "start_time": "2025-08-14T04:34:12.899Z"
   },
   {
    "duration": 6,
    "start_time": "2025-08-14T04:34:13.516Z"
   },
   {
    "duration": 9,
    "start_time": "2025-08-14T04:35:10.585Z"
   },
   {
    "duration": 13,
    "start_time": "2025-08-14T04:35:11.732Z"
   },
   {
    "duration": 22,
    "start_time": "2025-08-14T04:35:13.437Z"
   },
   {
    "duration": 5,
    "start_time": "2025-08-14T04:35:45.695Z"
   },
   {
    "duration": 4,
    "start_time": "2025-08-14T04:35:46.721Z"
   },
   {
    "duration": 4,
    "start_time": "2025-08-14T04:35:51.367Z"
   },
   {
    "duration": 4,
    "start_time": "2025-08-14T04:35:53.206Z"
   },
   {
    "duration": 4,
    "start_time": "2025-08-14T04:35:53.697Z"
   },
   {
    "duration": 9,
    "start_time": "2025-08-14T04:36:07.368Z"
   },
   {
    "duration": 5,
    "start_time": "2025-08-14T04:36:59.371Z"
   },
   {
    "duration": 5,
    "start_time": "2025-08-14T04:37:00.580Z"
   },
   {
    "duration": 4,
    "start_time": "2025-08-14T04:37:02.998Z"
   },
   {
    "duration": 7,
    "start_time": "2025-08-14T04:37:03.430Z"
   },
   {
    "duration": 1201,
    "start_time": "2025-08-14T04:37:10.652Z"
   },
   {
    "duration": 220,
    "start_time": "2025-08-14T04:37:11.855Z"
   },
   {
    "duration": 37,
    "start_time": "2025-08-14T04:37:12.077Z"
   },
   {
    "duration": 14,
    "start_time": "2025-08-14T04:37:12.116Z"
   },
   {
    "duration": 31,
    "start_time": "2025-08-14T04:37:12.132Z"
   },
   {
    "duration": 12,
    "start_time": "2025-08-14T04:37:12.168Z"
   },
   {
    "duration": 11,
    "start_time": "2025-08-14T04:37:12.182Z"
   },
   {
    "duration": 19,
    "start_time": "2025-08-14T04:37:12.195Z"
   },
   {
    "duration": 11,
    "start_time": "2025-08-14T04:37:12.215Z"
   },
   {
    "duration": 18,
    "start_time": "2025-08-14T04:37:12.236Z"
   },
   {
    "duration": 133,
    "start_time": "2025-08-14T04:37:12.258Z"
   },
   {
    "duration": 0,
    "start_time": "2025-08-14T04:37:12.392Z"
   },
   {
    "duration": 0,
    "start_time": "2025-08-14T04:37:12.394Z"
   },
   {
    "duration": 0,
    "start_time": "2025-08-14T04:37:12.395Z"
   },
   {
    "duration": 0,
    "start_time": "2025-08-14T04:37:12.396Z"
   },
   {
    "duration": 0,
    "start_time": "2025-08-14T04:37:12.397Z"
   },
   {
    "duration": 0,
    "start_time": "2025-08-14T04:37:12.398Z"
   },
   {
    "duration": 0,
    "start_time": "2025-08-14T04:37:12.400Z"
   },
   {
    "duration": 3,
    "start_time": "2025-08-14T04:37:18.829Z"
   },
   {
    "duration": 133,
    "start_time": "2025-08-14T04:37:19.247Z"
   },
   {
    "duration": 72,
    "start_time": "2025-08-14T04:37:19.613Z"
   },
   {
    "duration": 14,
    "start_time": "2025-08-14T04:37:20.344Z"
   },
   {
    "duration": 12,
    "start_time": "2025-08-14T04:37:21.619Z"
   },
   {
    "duration": 13,
    "start_time": "2025-08-14T04:37:25.177Z"
   },
   {
    "duration": 12,
    "start_time": "2025-08-14T04:37:25.657Z"
   },
   {
    "duration": 10,
    "start_time": "2025-08-14T04:37:29.285Z"
   },
   {
    "duration": 9,
    "start_time": "2025-08-14T04:37:33.882Z"
   },
   {
    "duration": 10,
    "start_time": "2025-08-14T04:37:34.473Z"
   },
   {
    "duration": 21,
    "start_time": "2025-08-14T04:38:36.859Z"
   },
   {
    "duration": 7,
    "start_time": "2025-08-14T04:38:38.674Z"
   },
   {
    "duration": 14,
    "start_time": "2025-08-14T04:38:39.159Z"
   },
   {
    "duration": 6,
    "start_time": "2025-08-14T04:38:39.598Z"
   },
   {
    "duration": 14,
    "start_time": "2025-08-14T04:39:12.375Z"
   },
   {
    "duration": 6,
    "start_time": "2025-08-14T04:39:25.417Z"
   },
   {
    "duration": 11,
    "start_time": "2025-08-14T04:39:25.859Z"
   },
   {
    "duration": 6,
    "start_time": "2025-08-14T04:39:26.369Z"
   },
   {
    "duration": 13,
    "start_time": "2025-08-14T04:39:27.111Z"
   },
   {
    "duration": 40,
    "start_time": "2025-08-14T04:41:34.215Z"
   },
   {
    "duration": 7,
    "start_time": "2025-08-14T04:42:20.995Z"
   },
   {
    "duration": 27,
    "start_time": "2025-08-14T04:42:30.912Z"
   },
   {
    "duration": 33,
    "start_time": "2025-08-14T04:43:10.549Z"
   },
   {
    "duration": 15,
    "start_time": "2025-08-14T04:43:37.230Z"
   },
   {
    "duration": 22,
    "start_time": "2025-08-14T04:45:30.683Z"
   },
   {
    "duration": 6,
    "start_time": "2025-08-14T04:45:49.758Z"
   },
   {
    "duration": 24,
    "start_time": "2025-08-14T04:45:53.118Z"
   },
   {
    "duration": 7,
    "start_time": "2025-08-14T04:46:01.125Z"
   },
   {
    "duration": 6,
    "start_time": "2025-08-14T04:46:06.639Z"
   },
   {
    "duration": 5,
    "start_time": "2025-08-14T04:46:07.337Z"
   },
   {
    "duration": 6,
    "start_time": "2025-08-14T04:46:30.003Z"
   },
   {
    "duration": 6,
    "start_time": "2025-08-14T04:46:38.441Z"
   },
   {
    "duration": 6,
    "start_time": "2025-08-14T04:46:38.991Z"
   },
   {
    "duration": 6,
    "start_time": "2025-08-14T04:46:39.416Z"
   },
   {
    "duration": 10,
    "start_time": "2025-08-14T04:46:40.399Z"
   },
   {
    "duration": 7,
    "start_time": "2025-08-14T04:46:43.415Z"
   },
   {
    "duration": 5,
    "start_time": "2025-08-14T04:46:56.403Z"
   },
   {
    "duration": 4,
    "start_time": "2025-08-14T04:46:57.950Z"
   },
   {
    "duration": 12,
    "start_time": "2025-08-14T04:47:05.906Z"
   },
   {
    "duration": 7,
    "start_time": "2025-08-14T04:47:31.791Z"
   },
   {
    "duration": 410,
    "start_time": "2025-08-14T04:56:39.733Z"
   },
   {
    "duration": 5,
    "start_time": "2025-08-14T04:59:03.952Z"
   },
   {
    "duration": 3,
    "start_time": "2025-08-14T04:59:31.971Z"
   },
   {
    "duration": 12,
    "start_time": "2025-08-14T04:59:44.374Z"
   },
   {
    "duration": 15,
    "start_time": "2025-08-14T04:59:53.276Z"
   },
   {
    "duration": 1430,
    "start_time": "2025-08-14T18:42:57.817Z"
   },
   {
    "duration": 130,
    "start_time": "2025-08-14T18:42:59.249Z"
   },
   {
    "duration": 44,
    "start_time": "2025-08-14T18:42:59.381Z"
   },
   {
    "duration": 17,
    "start_time": "2025-08-14T18:42:59.427Z"
   },
   {
    "duration": 15,
    "start_time": "2025-08-14T18:42:59.446Z"
   },
   {
    "duration": 15,
    "start_time": "2025-08-14T18:42:59.463Z"
   },
   {
    "duration": 82,
    "start_time": "2025-08-14T18:42:59.480Z"
   },
   {
    "duration": 14,
    "start_time": "2025-08-14T18:42:59.565Z"
   },
   {
    "duration": 12,
    "start_time": "2025-08-14T18:42:59.581Z"
   },
   {
    "duration": 13,
    "start_time": "2025-08-14T18:42:59.596Z"
   },
   {
    "duration": 7,
    "start_time": "2025-08-14T18:42:59.611Z"
   },
   {
    "duration": 9,
    "start_time": "2025-08-14T18:42:59.620Z"
   },
   {
    "duration": 45,
    "start_time": "2025-08-14T18:42:59.631Z"
   },
   {
    "duration": 16,
    "start_time": "2025-08-14T18:42:59.679Z"
   },
   {
    "duration": 66,
    "start_time": "2025-08-14T18:42:59.697Z"
   },
   {
    "duration": 8,
    "start_time": "2025-08-14T18:42:59.765Z"
   },
   {
    "duration": 18,
    "start_time": "2025-08-14T18:42:59.774Z"
   },
   {
    "duration": 7,
    "start_time": "2025-08-14T18:43:06.467Z"
   },
   {
    "duration": 16,
    "start_time": "2025-08-14T18:43:07.293Z"
   },
   {
    "duration": 15,
    "start_time": "2025-08-14T18:46:08.850Z"
   },
   {
    "duration": 10,
    "start_time": "2025-08-14T18:51:04.976Z"
   },
   {
    "duration": 15,
    "start_time": "2025-08-14T18:51:19.780Z"
   },
   {
    "duration": 1582,
    "start_time": "2025-08-16T07:23:01.775Z"
   },
   {
    "duration": 123,
    "start_time": "2025-08-16T07:23:03.361Z"
   },
   {
    "duration": 47,
    "start_time": "2025-08-16T07:23:03.486Z"
   },
   {
    "duration": 18,
    "start_time": "2025-08-16T07:23:04.757Z"
   },
   {
    "duration": 26,
    "start_time": "2025-08-16T07:23:05.260Z"
   },
   {
    "duration": 13,
    "start_time": "2025-08-16T07:23:06.255Z"
   },
   {
    "duration": 21,
    "start_time": "2025-08-16T07:23:06.591Z"
   },
   {
    "duration": 22,
    "start_time": "2025-08-16T07:23:08.202Z"
   },
   {
    "duration": 18,
    "start_time": "2025-08-16T07:23:09.934Z"
   },
   {
    "duration": 21,
    "start_time": "2025-08-16T07:23:10.688Z"
   },
   {
    "duration": 9,
    "start_time": "2025-08-16T07:23:12.664Z"
   },
   {
    "duration": 11,
    "start_time": "2025-08-16T07:23:13.186Z"
   },
   {
    "duration": 9,
    "start_time": "2025-08-16T07:23:13.554Z"
   },
   {
    "duration": 20,
    "start_time": "2025-08-16T07:23:14.579Z"
   },
   {
    "duration": 14,
    "start_time": "2025-08-16T07:23:15.606Z"
   },
   {
    "duration": 10,
    "start_time": "2025-08-16T07:23:16.341Z"
   },
   {
    "duration": 5,
    "start_time": "2025-08-16T07:30:52.783Z"
   },
   {
    "duration": 7,
    "start_time": "2025-08-16T07:34:38.736Z"
   },
   {
    "duration": 5,
    "start_time": "2025-08-16T07:34:50.893Z"
   },
   {
    "duration": 4,
    "start_time": "2025-08-16T07:35:08.165Z"
   },
   {
    "duration": 19,
    "start_time": "2025-08-16T07:35:18.000Z"
   },
   {
    "duration": 202,
    "start_time": "2025-08-16T07:39:35.258Z"
   },
   {
    "duration": 196,
    "start_time": "2025-08-16T07:40:31.987Z"
   },
   {
    "duration": 8,
    "start_time": "2025-08-16T07:40:57.471Z"
   },
   {
    "duration": 5,
    "start_time": "2025-08-16T07:44:27.972Z"
   },
   {
    "duration": 111,
    "start_time": "2025-08-16T07:46:50.831Z"
   },
   {
    "duration": 7,
    "start_time": "2025-08-16T07:47:07.428Z"
   },
   {
    "duration": 8,
    "start_time": "2025-08-16T07:48:34.287Z"
   },
   {
    "duration": 9,
    "start_time": "2025-08-16T07:51:49.908Z"
   },
   {
    "duration": 17,
    "start_time": "2025-08-16T07:52:04.758Z"
   },
   {
    "duration": 12,
    "start_time": "2025-08-16T07:52:23.150Z"
   },
   {
    "duration": 5,
    "start_time": "2025-08-16T07:57:28.699Z"
   },
   {
    "duration": 3,
    "start_time": "2025-08-16T07:58:37.363Z"
   },
   {
    "duration": 15,
    "start_time": "2025-08-16T07:59:40.710Z"
   },
   {
    "duration": 237,
    "start_time": "2025-08-16T08:00:20.263Z"
   },
   {
    "duration": 242,
    "start_time": "2025-08-16T08:01:09.281Z"
   },
   {
    "duration": 274,
    "start_time": "2025-08-16T08:02:43.479Z"
   },
   {
    "duration": 278,
    "start_time": "2025-08-16T08:03:13.701Z"
   },
   {
    "duration": 378,
    "start_time": "2025-08-16T08:07:57.756Z"
   },
   {
    "duration": 318,
    "start_time": "2025-08-16T08:08:15.768Z"
   },
   {
    "duration": 282,
    "start_time": "2025-08-16T08:08:51.618Z"
   },
   {
    "duration": 6,
    "start_time": "2025-08-16T08:11:22.136Z"
   },
   {
    "duration": 2722,
    "start_time": "2025-08-16T08:12:40.832Z"
   },
   {
    "duration": 96,
    "start_time": "2025-08-16T08:13:43.780Z"
   },
   {
    "duration": 220,
    "start_time": "2025-08-16T08:14:38.931Z"
   },
   {
    "duration": 224,
    "start_time": "2025-08-16T08:14:55.680Z"
   },
   {
    "duration": 209,
    "start_time": "2025-08-16T08:15:03.421Z"
   },
   {
    "duration": 196,
    "start_time": "2025-08-16T08:23:27.372Z"
   },
   {
    "duration": 301,
    "start_time": "2025-08-16T08:23:37.739Z"
   },
   {
    "duration": 8,
    "start_time": "2025-08-16T08:23:46.124Z"
   },
   {
    "duration": 5,
    "start_time": "2025-08-16T08:24:57.849Z"
   },
   {
    "duration": 17,
    "start_time": "2025-08-16T08:25:09.535Z"
   },
   {
    "duration": 4,
    "start_time": "2025-08-16T08:25:47.379Z"
   },
   {
    "duration": 5,
    "start_time": "2025-08-16T08:26:02.851Z"
   },
   {
    "duration": 3,
    "start_time": "2025-08-16T08:27:42.611Z"
   },
   {
    "duration": 256,
    "start_time": "2025-08-16T08:29:29.823Z"
   },
   {
    "duration": 142,
    "start_time": "2025-08-16T08:30:19.176Z"
   },
   {
    "duration": 21,
    "start_time": "2025-08-16T08:59:03.750Z"
   },
   {
    "duration": 223,
    "start_time": "2025-08-16T08:59:35.010Z"
   },
   {
    "duration": 239,
    "start_time": "2025-08-16T08:59:50.123Z"
   },
   {
    "duration": 8,
    "start_time": "2025-08-16T09:00:20.169Z"
   },
   {
    "duration": 5,
    "start_time": "2025-08-16T09:01:29.273Z"
   },
   {
    "duration": 16,
    "start_time": "2025-08-16T09:03:30.390Z"
   },
   {
    "duration": 258,
    "start_time": "2025-08-16T09:19:42.294Z"
   },
   {
    "duration": 295,
    "start_time": "2025-08-16T09:20:27.080Z"
   },
   {
    "duration": 108,
    "start_time": "2025-08-16T09:21:33.274Z"
   },
   {
    "duration": 108,
    "start_time": "2025-08-16T09:22:01.412Z"
   },
   {
    "duration": 82,
    "start_time": "2025-08-16T09:22:07.922Z"
   },
   {
    "duration": 372,
    "start_time": "2025-08-16T09:22:45.476Z"
   },
   {
    "duration": 274,
    "start_time": "2025-08-16T09:23:34.740Z"
   },
   {
    "duration": 17,
    "start_time": "2025-08-16T09:25:48.350Z"
   },
   {
    "duration": 222,
    "start_time": "2025-08-16T09:26:02.084Z"
   },
   {
    "duration": 229,
    "start_time": "2025-08-16T09:26:30.946Z"
   },
   {
    "duration": 351,
    "start_time": "2025-08-16T09:26:42.721Z"
   },
   {
    "duration": 271,
    "start_time": "2025-08-16T09:28:05.173Z"
   },
   {
    "duration": 242,
    "start_time": "2025-08-16T09:28:15.528Z"
   },
   {
    "duration": 219,
    "start_time": "2025-08-16T09:29:18.503Z"
   },
   {
    "duration": 217,
    "start_time": "2025-08-16T09:29:38.669Z"
   },
   {
    "duration": 222,
    "start_time": "2025-08-16T10:51:01.128Z"
   },
   {
    "duration": 13,
    "start_time": "2025-08-16T11:19:25.369Z"
   },
   {
    "duration": 4,
    "start_time": "2025-08-16T11:19:59.699Z"
   },
   {
    "duration": 13,
    "start_time": "2025-08-16T11:20:06.001Z"
   },
   {
    "duration": 13,
    "start_time": "2025-08-16T11:20:21.469Z"
   },
   {
    "duration": 3764,
    "start_time": "2025-08-16T11:20:29.726Z"
   },
   {
    "duration": 2829,
    "start_time": "2025-08-16T11:20:37.242Z"
   },
   {
    "duration": 57,
    "start_time": "2025-08-16T11:23:16.238Z"
   },
   {
    "duration": 4211,
    "start_time": "2025-08-16T11:24:20.050Z"
   },
   {
    "duration": 117,
    "start_time": "2025-08-16T11:24:24.264Z"
   },
   {
    "duration": 47,
    "start_time": "2025-08-16T11:24:24.383Z"
   },
   {
    "duration": 21,
    "start_time": "2025-08-16T11:24:24.433Z"
   },
   {
    "duration": 19,
    "start_time": "2025-08-16T11:24:24.456Z"
   },
   {
    "duration": 12,
    "start_time": "2025-08-16T11:24:24.477Z"
   },
   {
    "duration": 26,
    "start_time": "2025-08-16T11:24:24.491Z"
   },
   {
    "duration": 18,
    "start_time": "2025-08-16T11:24:24.519Z"
   },
   {
    "duration": 29,
    "start_time": "2025-08-16T11:24:24.539Z"
   },
   {
    "duration": 15,
    "start_time": "2025-08-16T11:24:24.572Z"
   },
   {
    "duration": 9,
    "start_time": "2025-08-16T11:24:24.589Z"
   },
   {
    "duration": 9,
    "start_time": "2025-08-16T11:24:24.600Z"
   },
   {
    "duration": 7,
    "start_time": "2025-08-16T11:24:24.612Z"
   },
   {
    "duration": 19,
    "start_time": "2025-08-16T11:24:24.661Z"
   },
   {
    "duration": 13,
    "start_time": "2025-08-16T11:24:24.682Z"
   },
   {
    "duration": 10,
    "start_time": "2025-08-16T11:24:24.697Z"
   },
   {
    "duration": 7,
    "start_time": "2025-08-16T11:24:24.709Z"
   },
   {
    "duration": 46,
    "start_time": "2025-08-16T11:24:24.719Z"
   },
   {
    "duration": 225,
    "start_time": "2025-08-16T11:24:24.766Z"
   },
   {
    "duration": 5,
    "start_time": "2025-08-16T11:24:24.993Z"
   },
   {
    "duration": 23,
    "start_time": "2025-08-16T11:24:25.000Z"
   },
   {
    "duration": 306,
    "start_time": "2025-08-16T11:24:25.025Z"
   },
   {
    "duration": 12,
    "start_time": "2025-08-16T11:24:25.333Z"
   },
   {
    "duration": 22,
    "start_time": "2025-08-16T11:24:25.360Z"
   },
   {
    "duration": 196,
    "start_time": "2025-08-16T11:24:25.384Z"
   },
   {
    "duration": 174,
    "start_time": "2025-08-16T11:24:25.582Z"
   },
   {
    "duration": 252,
    "start_time": "2025-08-16T11:24:25.761Z"
   },
   {
    "duration": 230,
    "start_time": "2025-08-16T11:24:26.017Z"
   },
   {
    "duration": 56,
    "start_time": "2025-08-16T11:25:02.125Z"
   },
   {
    "duration": 0,
    "start_time": "2025-08-16T11:25:02.184Z"
   },
   {
    "duration": 9,
    "start_time": "2025-08-16T11:25:06.552Z"
   },
   {
    "duration": 4206,
    "start_time": "2025-08-16T11:25:38.313Z"
   },
   {
    "duration": 146,
    "start_time": "2025-08-16T11:25:42.522Z"
   },
   {
    "duration": 45,
    "start_time": "2025-08-16T11:25:42.670Z"
   },
   {
    "duration": 19,
    "start_time": "2025-08-16T11:25:42.718Z"
   },
   {
    "duration": 26,
    "start_time": "2025-08-16T11:25:42.740Z"
   },
   {
    "duration": 22,
    "start_time": "2025-08-16T11:25:42.768Z"
   },
   {
    "duration": 15,
    "start_time": "2025-08-16T11:25:42.792Z"
   },
   {
    "duration": 14,
    "start_time": "2025-08-16T11:25:42.810Z"
   },
   {
    "duration": 39,
    "start_time": "2025-08-16T11:25:42.826Z"
   },
   {
    "duration": 14,
    "start_time": "2025-08-16T11:25:42.867Z"
   },
   {
    "duration": 45,
    "start_time": "2025-08-16T11:25:42.884Z"
   },
   {
    "duration": 11,
    "start_time": "2025-08-16T11:25:42.931Z"
   },
   {
    "duration": 17,
    "start_time": "2025-08-16T11:25:42.945Z"
   },
   {
    "duration": 20,
    "start_time": "2025-08-16T11:25:42.966Z"
   },
   {
    "duration": 11,
    "start_time": "2025-08-16T11:25:42.989Z"
   },
   {
    "duration": 8,
    "start_time": "2025-08-16T11:25:43.003Z"
   },
   {
    "duration": 10,
    "start_time": "2025-08-16T11:25:43.013Z"
   },
   {
    "duration": 37,
    "start_time": "2025-08-16T11:25:43.024Z"
   },
   {
    "duration": 227,
    "start_time": "2025-08-16T11:25:43.063Z"
   },
   {
    "duration": 5,
    "start_time": "2025-08-16T11:25:43.292Z"
   },
   {
    "duration": 18,
    "start_time": "2025-08-16T11:25:43.299Z"
   },
   {
    "duration": 314,
    "start_time": "2025-08-16T11:25:43.319Z"
   },
   {
    "duration": 25,
    "start_time": "2025-08-16T11:25:43.635Z"
   },
   {
    "duration": 6,
    "start_time": "2025-08-16T11:25:43.662Z"
   },
   {
    "duration": 209,
    "start_time": "2025-08-16T11:25:43.670Z"
   },
   {
    "duration": 147,
    "start_time": "2025-08-16T11:25:43.881Z"
   },
   {
    "duration": 235,
    "start_time": "2025-08-16T11:25:44.030Z"
   },
   {
    "duration": 231,
    "start_time": "2025-08-16T11:25:44.267Z"
   },
   {
    "duration": 56,
    "start_time": "2025-08-16T11:29:25.237Z"
   },
   {
    "duration": 11,
    "start_time": "2025-08-16T11:29:29.028Z"
   },
   {
    "duration": 8,
    "start_time": "2025-08-16T11:29:48.631Z"
   },
   {
    "duration": 4207,
    "start_time": "2025-08-16T11:29:55.725Z"
   },
   {
    "duration": 172,
    "start_time": "2025-08-16T11:29:59.935Z"
   },
   {
    "duration": 51,
    "start_time": "2025-08-16T11:30:00.109Z"
   },
   {
    "duration": 2770,
    "start_time": "2025-08-16T11:30:07.446Z"
   },
   {
    "duration": 147,
    "start_time": "2025-08-16T11:30:10.219Z"
   },
   {
    "duration": 48,
    "start_time": "2025-08-16T11:30:10.369Z"
   },
   {
    "duration": 18,
    "start_time": "2025-08-16T11:30:17.459Z"
   },
   {
    "duration": 56,
    "start_time": "2025-08-16T11:31:08.020Z"
   },
   {
    "duration": 8,
    "start_time": "2025-08-16T11:31:12.219Z"
   },
   {
    "duration": 8,
    "start_time": "2025-08-16T11:31:14.001Z"
   },
   {
    "duration": 1503,
    "start_time": "2025-08-16T11:31:35.263Z"
   },
   {
    "duration": 1366,
    "start_time": "2025-08-16T11:31:42.906Z"
   },
   {
    "duration": 137,
    "start_time": "2025-08-16T11:31:44.275Z"
   },
   {
    "duration": 46,
    "start_time": "2025-08-16T11:31:44.414Z"
   },
   {
    "duration": 19,
    "start_time": "2025-08-16T11:31:44.462Z"
   },
   {
    "duration": 19,
    "start_time": "2025-08-16T11:31:44.483Z"
   },
   {
    "duration": 12,
    "start_time": "2025-08-16T11:31:44.504Z"
   },
   {
    "duration": 43,
    "start_time": "2025-08-16T11:31:44.518Z"
   },
   {
    "duration": 14,
    "start_time": "2025-08-16T11:31:44.563Z"
   },
   {
    "duration": 13,
    "start_time": "2025-08-16T11:31:44.579Z"
   },
   {
    "duration": 14,
    "start_time": "2025-08-16T11:31:44.595Z"
   },
   {
    "duration": 14,
    "start_time": "2025-08-16T11:31:44.611Z"
   },
   {
    "duration": 10,
    "start_time": "2025-08-16T11:31:44.660Z"
   },
   {
    "duration": 7,
    "start_time": "2025-08-16T11:31:44.672Z"
   },
   {
    "duration": 26,
    "start_time": "2025-08-16T11:31:44.681Z"
   },
   {
    "duration": 9,
    "start_time": "2025-08-16T11:31:44.709Z"
   },
   {
    "duration": 7,
    "start_time": "2025-08-16T11:31:44.719Z"
   },
   {
    "duration": 33,
    "start_time": "2025-08-16T11:31:44.728Z"
   },
   {
    "duration": 15,
    "start_time": "2025-08-16T11:31:44.763Z"
   },
   {
    "duration": 223,
    "start_time": "2025-08-16T11:31:44.780Z"
   },
   {
    "duration": 5,
    "start_time": "2025-08-16T11:31:45.006Z"
   },
   {
    "duration": 59,
    "start_time": "2025-08-16T11:31:45.013Z"
   },
   {
    "duration": 328,
    "start_time": "2025-08-16T11:31:45.074Z"
   },
   {
    "duration": 12,
    "start_time": "2025-08-16T11:31:45.405Z"
   },
   {
    "duration": 19,
    "start_time": "2025-08-16T11:31:45.420Z"
   },
   {
    "duration": 241,
    "start_time": "2025-08-16T11:31:45.442Z"
   },
   {
    "duration": 196,
    "start_time": "2025-08-16T11:31:45.686Z"
   },
   {
    "duration": 257,
    "start_time": "2025-08-16T11:31:45.885Z"
   },
   {
    "duration": 241,
    "start_time": "2025-08-16T11:31:46.147Z"
   },
   {
    "duration": 4,
    "start_time": "2025-08-16T11:31:51.522Z"
   },
   {
    "duration": 119,
    "start_time": "2025-08-16T11:31:52.961Z"
   },
   {
    "duration": 42,
    "start_time": "2025-08-16T11:31:53.363Z"
   },
   {
    "duration": 16,
    "start_time": "2025-08-16T11:32:00.895Z"
   },
   {
    "duration": 109,
    "start_time": "2025-08-16T11:38:14.892Z"
   },
   {
    "duration": 11,
    "start_time": "2025-08-16T11:38:23.635Z"
   },
   {
    "duration": 11,
    "start_time": "2025-08-16T11:39:06.391Z"
   },
   {
    "duration": 11,
    "start_time": "2025-08-16T11:39:16.275Z"
   },
   {
    "duration": 9,
    "start_time": "2025-08-16T11:40:35.140Z"
   },
   {
    "duration": 9,
    "start_time": "2025-08-16T11:41:09.535Z"
   },
   {
    "duration": 8,
    "start_time": "2025-08-16T11:42:34.195Z"
   },
   {
    "duration": 8,
    "start_time": "2025-08-16T11:42:40.945Z"
   },
   {
    "duration": 10,
    "start_time": "2025-08-16T11:43:02.822Z"
   },
   {
    "duration": 9,
    "start_time": "2025-08-16T11:44:29.009Z"
   },
   {
    "duration": 8,
    "start_time": "2025-08-16T11:44:42.564Z"
   },
   {
    "duration": 78,
    "start_time": "2025-08-16T11:47:54.942Z"
   },
   {
    "duration": 81,
    "start_time": "2025-08-16T11:48:05.212Z"
   },
   {
    "duration": 18,
    "start_time": "2025-08-16T11:48:17.296Z"
   },
   {
    "duration": 9,
    "start_time": "2025-08-16T11:48:43.248Z"
   },
   {
    "duration": 16,
    "start_time": "2025-08-16T11:48:49.406Z"
   },
   {
    "duration": 14,
    "start_time": "2025-08-16T11:49:44.376Z"
   },
   {
    "duration": 15,
    "start_time": "2025-08-16T11:52:19.356Z"
   },
   {
    "duration": 11,
    "start_time": "2025-08-16T11:53:45.275Z"
   },
   {
    "duration": 217,
    "start_time": "2025-08-16T12:00:02.255Z"
   },
   {
    "duration": 211,
    "start_time": "2025-08-16T12:00:29.442Z"
   },
   {
    "duration": 371,
    "start_time": "2025-08-16T12:00:38.764Z"
   },
   {
    "duration": 193,
    "start_time": "2025-08-16T12:00:53.549Z"
   },
   {
    "duration": 197,
    "start_time": "2025-08-16T12:01:12.096Z"
   },
   {
    "duration": 146,
    "start_time": "2025-08-16T12:01:40.000Z"
   },
   {
    "duration": 1483,
    "start_time": "2025-08-16T12:01:47.787Z"
   },
   {
    "duration": 207,
    "start_time": "2025-08-16T12:01:56.453Z"
   },
   {
    "duration": 193,
    "start_time": "2025-08-16T12:03:14.340Z"
   },
   {
    "duration": 197,
    "start_time": "2025-08-16T12:05:35.814Z"
   },
   {
    "duration": 13,
    "start_time": "2025-08-16T12:08:11.693Z"
   },
   {
    "duration": 17,
    "start_time": "2025-08-16T12:09:15.808Z"
   },
   {
    "duration": 15,
    "start_time": "2025-08-16T12:10:17.120Z"
   },
   {
    "duration": 16,
    "start_time": "2025-08-16T12:10:35.810Z"
   },
   {
    "duration": 16,
    "start_time": "2025-08-16T12:12:20.144Z"
   },
   {
    "duration": 4,
    "start_time": "2025-08-16T12:13:26.450Z"
   },
   {
    "duration": 12,
    "start_time": "2025-08-16T12:13:30.137Z"
   },
   {
    "duration": 9,
    "start_time": "2025-08-16T12:13:41.430Z"
   },
   {
    "duration": 5,
    "start_time": "2025-08-16T12:14:16.640Z"
   },
   {
    "duration": 9,
    "start_time": "2025-08-16T12:14:18.293Z"
   },
   {
    "duration": 4,
    "start_time": "2025-08-16T12:14:30.403Z"
   },
   {
    "duration": 9,
    "start_time": "2025-08-16T12:14:31.938Z"
   },
   {
    "duration": 6,
    "start_time": "2025-08-16T12:14:38.369Z"
   },
   {
    "duration": 8,
    "start_time": "2025-08-16T12:14:42.250Z"
   },
   {
    "duration": 7,
    "start_time": "2025-08-16T12:14:48.419Z"
   },
   {
    "duration": 6,
    "start_time": "2025-08-16T12:14:54.411Z"
   },
   {
    "duration": 7,
    "start_time": "2025-08-16T12:16:44.075Z"
   },
   {
    "duration": 17,
    "start_time": "2025-08-16T12:17:40.880Z"
   },
   {
    "duration": 11,
    "start_time": "2025-08-16T12:17:51.715Z"
   },
   {
    "duration": 5,
    "start_time": "2025-08-16T12:17:52.492Z"
   },
   {
    "duration": 7,
    "start_time": "2025-08-16T12:17:53.110Z"
   },
   {
    "duration": 1408,
    "start_time": "2025-08-16T16:39:08.573Z"
   },
   {
    "duration": 124,
    "start_time": "2025-08-16T16:39:10.389Z"
   },
   {
    "duration": 46,
    "start_time": "2025-08-16T16:39:10.868Z"
   },
   {
    "duration": 16,
    "start_time": "2025-08-16T16:39:14.811Z"
   },
   {
    "duration": 15,
    "start_time": "2025-08-16T16:39:15.049Z"
   },
   {
    "duration": 10,
    "start_time": "2025-08-16T16:39:15.561Z"
   },
   {
    "duration": 12,
    "start_time": "2025-08-16T16:39:15.997Z"
   },
   {
    "duration": 12,
    "start_time": "2025-08-16T16:39:18.163Z"
   },
   {
    "duration": 10,
    "start_time": "2025-08-16T16:39:20.601Z"
   },
   {
    "duration": 13,
    "start_time": "2025-08-16T16:39:21.387Z"
   },
   {
    "duration": 8,
    "start_time": "2025-08-16T16:39:23.311Z"
   },
   {
    "duration": 9,
    "start_time": "2025-08-16T16:39:23.704Z"
   },
   {
    "duration": 7,
    "start_time": "2025-08-16T16:39:24.255Z"
   },
   {
    "duration": 16,
    "start_time": "2025-08-16T16:39:26.584Z"
   },
   {
    "duration": 10,
    "start_time": "2025-08-16T16:39:27.522Z"
   },
   {
    "duration": 8,
    "start_time": "2025-08-16T16:39:28.452Z"
   },
   {
    "duration": 10,
    "start_time": "2025-08-16T16:40:10.846Z"
   },
   {
    "duration": 5,
    "start_time": "2025-08-16T16:40:11.428Z"
   },
   {
    "duration": 5,
    "start_time": "2025-08-16T16:40:12.028Z"
   },
   {
    "duration": 9,
    "start_time": "2025-08-16T16:41:57.376Z"
   },
   {
    "duration": 7,
    "start_time": "2025-08-16T16:42:47.428Z"
   },
   {
    "duration": 5,
    "start_time": "2025-08-16T16:42:57.470Z"
   },
   {
    "duration": 14,
    "start_time": "2025-08-16T16:44:11.575Z"
   },
   {
    "duration": 19,
    "start_time": "2025-08-16T16:45:25.852Z"
   },
   {
    "duration": 106,
    "start_time": "2025-08-16T16:53:02.079Z"
   },
   {
    "duration": 12,
    "start_time": "2025-08-16T16:53:14.618Z"
   },
   {
    "duration": 0,
    "start_time": "2025-08-16T16:57:17.656Z"
   },
   {
    "duration": 10,
    "start_time": "2025-08-16T16:57:30.560Z"
   },
   {
    "duration": 26714,
    "start_time": "2025-08-16T16:58:56.643Z"
   },
   {
    "duration": 12,
    "start_time": "2025-08-16T17:00:27.382Z"
   },
   {
    "duration": 49919,
    "start_time": "2025-08-16T17:01:19.326Z"
   },
   {
    "duration": 139673,
    "start_time": "2025-08-16T17:03:12.783Z"
   },
   {
    "duration": 13,
    "start_time": "2025-08-16T17:11:30.477Z"
   },
   {
    "duration": 53231,
    "start_time": "2025-08-16T17:11:38.087Z"
   },
   {
    "duration": 1368,
    "start_time": "2025-08-17T13:25:12.706Z"
   },
   {
    "duration": 141,
    "start_time": "2025-08-17T13:25:14.076Z"
   },
   {
    "duration": 61,
    "start_time": "2025-08-17T13:25:14.219Z"
   },
   {
    "duration": 13,
    "start_time": "2025-08-17T13:25:25.705Z"
   },
   {
    "duration": 213,
    "start_time": "2025-08-17T13:32:37.893Z"
   },
   {
    "duration": 95,
    "start_time": "2025-08-17T13:35:05.401Z"
   },
   {
    "duration": 20,
    "start_time": "2025-08-17T13:35:13.061Z"
   },
   {
    "duration": 42727,
    "start_time": "2025-08-17T13:35:16.177Z"
   },
   {
    "duration": 218,
    "start_time": "2025-08-17T13:36:20.126Z"
   },
   {
    "duration": 213,
    "start_time": "2025-08-17T13:36:53.903Z"
   },
   {
    "duration": 219,
    "start_time": "2025-08-17T13:37:05.995Z"
   },
   {
    "duration": 694,
    "start_time": "2025-08-17T13:38:43.856Z"
   },
   {
    "duration": 6,
    "start_time": "2025-08-17T13:50:13.488Z"
   },
   {
    "duration": 12,
    "start_time": "2025-08-17T13:52:25.932Z"
   },
   {
    "duration": 209,
    "start_time": "2025-08-17T13:52:37.170Z"
   },
   {
    "duration": 211,
    "start_time": "2025-08-17T13:52:43.921Z"
   },
   {
    "duration": 245,
    "start_time": "2025-08-17T13:52:56.399Z"
   },
   {
    "duration": 246,
    "start_time": "2025-08-17T13:53:04.672Z"
   },
   {
    "duration": 208,
    "start_time": "2025-08-17T13:53:18.947Z"
   },
   {
    "duration": 219,
    "start_time": "2025-08-17T13:54:29.298Z"
   },
   {
    "duration": 214,
    "start_time": "2025-08-17T13:54:35.738Z"
   },
   {
    "duration": 223,
    "start_time": "2025-08-17T13:54:41.516Z"
   },
   {
    "duration": 251,
    "start_time": "2025-08-17T14:01:48.500Z"
   },
   {
    "duration": 165,
    "start_time": "2025-08-17T14:15:25.264Z"
   },
   {
    "duration": 3705,
    "start_time": "2025-08-17T14:36:47.207Z"
   },
   {
    "duration": 1164,
    "start_time": "2025-08-17T14:42:30.385Z"
   },
   {
    "duration": 175,
    "start_time": "2025-08-17T14:42:31.551Z"
   },
   {
    "duration": 45,
    "start_time": "2025-08-17T14:42:31.727Z"
   },
   {
    "duration": 15,
    "start_time": "2025-08-17T14:42:31.775Z"
   },
   {
    "duration": 12,
    "start_time": "2025-08-17T14:42:31.792Z"
   },
   {
    "duration": 48,
    "start_time": "2025-08-17T14:42:31.806Z"
   },
   {
    "duration": 36,
    "start_time": "2025-08-17T14:42:31.856Z"
   },
   {
    "duration": 11,
    "start_time": "2025-08-17T14:42:31.894Z"
   },
   {
    "duration": 10,
    "start_time": "2025-08-17T14:42:31.907Z"
   },
   {
    "duration": 36,
    "start_time": "2025-08-17T14:42:31.919Z"
   },
   {
    "duration": 7,
    "start_time": "2025-08-17T14:42:31.957Z"
   },
   {
    "duration": 38,
    "start_time": "2025-08-17T14:42:31.966Z"
   },
   {
    "duration": 53,
    "start_time": "2025-08-17T14:42:32.005Z"
   },
   {
    "duration": 39,
    "start_time": "2025-08-17T14:42:32.059Z"
   },
   {
    "duration": 12,
    "start_time": "2025-08-17T14:42:32.100Z"
   },
   {
    "duration": 37,
    "start_time": "2025-08-17T14:42:32.113Z"
   },
   {
    "duration": 35,
    "start_time": "2025-08-17T14:42:32.152Z"
   },
   {
    "duration": 16,
    "start_time": "2025-08-17T14:42:32.189Z"
   },
   {
    "duration": 176,
    "start_time": "2025-08-17T14:42:32.207Z"
   },
   {
    "duration": 4,
    "start_time": "2025-08-17T14:42:32.384Z"
   },
   {
    "duration": 7,
    "start_time": "2025-08-17T14:42:32.390Z"
   },
   {
    "duration": 304,
    "start_time": "2025-08-17T14:42:32.399Z"
   },
   {
    "duration": 10,
    "start_time": "2025-08-17T14:42:32.705Z"
   },
   {
    "duration": 127,
    "start_time": "2025-08-17T14:42:32.717Z"
   },
   {
    "duration": 160,
    "start_time": "2025-08-17T14:42:32.846Z"
   },
   {
    "duration": 139,
    "start_time": "2025-08-17T14:42:33.007Z"
   },
   {
    "duration": 238,
    "start_time": "2025-08-17T14:42:33.148Z"
   },
   {
    "duration": 202,
    "start_time": "2025-08-17T14:42:33.390Z"
   },
   {
    "duration": 13,
    "start_time": "2025-08-17T14:42:33.594Z"
   },
   {
    "duration": 269,
    "start_time": "2025-08-17T14:42:33.609Z"
   },
   {
    "duration": 174,
    "start_time": "2025-08-17T14:42:33.879Z"
   },
   {
    "duration": 19,
    "start_time": "2025-08-17T14:42:34.055Z"
   },
   {
    "duration": 813,
    "start_time": "2025-08-17T14:42:34.076Z"
   },
   {
    "duration": 274,
    "start_time": "2025-08-17T14:42:34.891Z"
   },
   {
    "duration": 242,
    "start_time": "2025-08-17T14:42:35.167Z"
   },
   {
    "duration": 227,
    "start_time": "2025-08-17T14:42:35.410Z"
   },
   {
    "duration": 3,
    "start_time": "2025-08-17T14:45:07.599Z"
   },
   {
    "duration": 93,
    "start_time": "2025-08-17T14:45:08.033Z"
   },
   {
    "duration": 38,
    "start_time": "2025-08-17T14:45:08.438Z"
   },
   {
    "duration": 13,
    "start_time": "2025-08-17T14:45:09.819Z"
   },
   {
    "duration": 16,
    "start_time": "2025-08-17T14:45:10.610Z"
   },
   {
    "duration": 10,
    "start_time": "2025-08-17T14:45:12.047Z"
   },
   {
    "duration": 14,
    "start_time": "2025-08-17T14:45:12.481Z"
   },
   {
    "duration": 12,
    "start_time": "2025-08-17T14:45:14.384Z"
   },
   {
    "duration": 11,
    "start_time": "2025-08-17T14:45:15.971Z"
   },
   {
    "duration": 11,
    "start_time": "2025-08-17T14:45:16.472Z"
   },
   {
    "duration": 8,
    "start_time": "2025-08-17T14:45:18.090Z"
   },
   {
    "duration": 9,
    "start_time": "2025-08-17T14:45:18.429Z"
   },
   {
    "duration": 7,
    "start_time": "2025-08-17T14:45:18.721Z"
   },
   {
    "duration": 15,
    "start_time": "2025-08-17T14:45:19.542Z"
   },
   {
    "duration": 11,
    "start_time": "2025-08-17T14:45:20.349Z"
   },
   {
    "duration": 8,
    "start_time": "2025-08-17T14:45:21.182Z"
   },
   {
    "duration": 4,
    "start_time": "2025-08-17T14:45:25.572Z"
   },
   {
    "duration": 6,
    "start_time": "2025-08-17T14:45:25.986Z"
   },
   {
    "duration": 156,
    "start_time": "2025-08-17T14:45:26.596Z"
   },
   {
    "duration": 5,
    "start_time": "2025-08-17T14:45:28.029Z"
   },
   {
    "duration": 6,
    "start_time": "2025-08-17T14:45:28.618Z"
   },
   {
    "duration": 243,
    "start_time": "2025-08-17T14:45:28.923Z"
   },
   {
    "duration": 9,
    "start_time": "2025-08-17T14:45:29.795Z"
   },
   {
    "duration": 4,
    "start_time": "2025-08-17T14:45:30.501Z"
   },
   {
    "duration": 165,
    "start_time": "2025-08-17T14:45:31.210Z"
   },
   {
    "duration": 119,
    "start_time": "2025-08-17T14:45:32.295Z"
   },
   {
    "duration": 187,
    "start_time": "2025-08-17T14:45:33.060Z"
   },
   {
    "duration": 187,
    "start_time": "2025-08-17T14:45:34.519Z"
   },
   {
    "duration": 12,
    "start_time": "2025-08-17T14:45:35.884Z"
   },
   {
    "duration": 264,
    "start_time": "2025-08-17T14:45:36.656Z"
   },
   {
    "duration": 167,
    "start_time": "2025-08-17T14:45:38.676Z"
   },
   {
    "duration": 19,
    "start_time": "2025-08-17T14:45:40.441Z"
   },
   {
    "duration": 763,
    "start_time": "2025-08-17T14:45:41.956Z"
   },
   {
    "duration": 250,
    "start_time": "2025-08-17T14:45:43.918Z"
   },
   {
    "duration": 208,
    "start_time": "2025-08-17T14:45:45.983Z"
   },
   {
    "duration": 226,
    "start_time": "2025-08-17T14:45:47.850Z"
   },
   {
    "duration": 6,
    "start_time": "2025-08-17T14:46:56.985Z"
   },
   {
    "duration": 5,
    "start_time": "2025-08-17T14:47:11.879Z"
   },
   {
    "duration": 2426,
    "start_time": "2025-08-17T14:56:48.194Z"
   },
   {
    "duration": 52,
    "start_time": "2025-08-18T04:45:48.012Z"
   },
   {
    "duration": 6,
    "start_time": "2025-08-18T04:46:06.759Z"
   },
   {
    "duration": 1258,
    "start_time": "2025-08-18T04:46:19.993Z"
   },
   {
    "duration": 212,
    "start_time": "2025-08-18T04:46:24.557Z"
   },
   {
    "duration": 53,
    "start_time": "2025-08-18T04:46:24.941Z"
   },
   {
    "duration": 11,
    "start_time": "2025-08-18T04:46:30.793Z"
   },
   {
    "duration": 7,
    "start_time": "2025-08-18T04:46:35.094Z"
   },
   {
    "duration": 12,
    "start_time": "2025-08-18T04:46:39.066Z"
   },
   {
    "duration": 21,
    "start_time": "2025-08-18T04:46:52.814Z"
   },
   {
    "duration": 11,
    "start_time": "2025-08-18T04:47:55.447Z"
   },
   {
    "duration": 80,
    "start_time": "2025-08-18T16:24:36.203Z"
   },
   {
    "duration": 44,
    "start_time": "2025-08-18T16:24:49.218Z"
   },
   {
    "duration": 1356,
    "start_time": "2025-08-18T16:24:57.757Z"
   },
   {
    "duration": 118,
    "start_time": "2025-08-18T16:24:59.115Z"
   },
   {
    "duration": 44,
    "start_time": "2025-08-18T16:24:59.235Z"
   },
   {
    "duration": 13,
    "start_time": "2025-08-18T16:25:02.888Z"
   },
   {
    "duration": 11,
    "start_time": "2025-08-18T16:25:08.416Z"
   },
   {
    "duration": 9,
    "start_time": "2025-08-18T16:25:22.104Z"
   },
   {
    "duration": 9,
    "start_time": "2025-08-18T16:25:22.735Z"
   },
   {
    "duration": 7,
    "start_time": "2025-08-18T16:25:26.720Z"
   },
   {
    "duration": 16,
    "start_time": "2025-08-18T16:25:28.706Z"
   },
   {
    "duration": 11,
    "start_time": "2025-08-18T16:25:35.305Z"
   },
   {
    "duration": 14,
    "start_time": "2025-08-18T16:25:37.638Z"
   },
   {
    "duration": 7,
    "start_time": "2025-08-18T16:29:18.584Z"
   },
   {
    "duration": 17,
    "start_time": "2025-08-18T16:29:53.769Z"
   },
   {
    "duration": 19,
    "start_time": "2025-08-18T16:30:02.181Z"
   },
   {
    "duration": 17,
    "start_time": "2025-08-18T16:30:33.989Z"
   },
   {
    "duration": 90,
    "start_time": "2025-08-18T16:30:51.527Z"
   },
   {
    "duration": 76,
    "start_time": "2025-08-18T16:30:55.544Z"
   },
   {
    "duration": 17,
    "start_time": "2025-08-18T16:31:05.503Z"
   },
   {
    "duration": 17,
    "start_time": "2025-08-18T16:31:27.818Z"
   },
   {
    "duration": 17,
    "start_time": "2025-08-18T16:31:31.899Z"
   },
   {
    "duration": 17,
    "start_time": "2025-08-18T16:31:38.381Z"
   },
   {
    "duration": 22,
    "start_time": "2025-08-18T16:31:59.642Z"
   },
   {
    "duration": 5,
    "start_time": "2025-08-18T16:35:07.966Z"
   },
   {
    "duration": 7,
    "start_time": "2025-08-18T16:35:15.889Z"
   },
   {
    "duration": 5,
    "start_time": "2025-08-18T16:37:46.418Z"
   },
   {
    "duration": 185,
    "start_time": "2025-08-18T16:42:54.636Z"
   },
   {
    "duration": 276,
    "start_time": "2025-08-18T16:43:45.232Z"
   },
   {
    "duration": 16,
    "start_time": "2025-08-18T16:44:23.548Z"
   },
   {
    "duration": 9,
    "start_time": "2025-08-18T16:44:31.666Z"
   },
   {
    "duration": 5,
    "start_time": "2025-08-18T16:44:40.592Z"
   },
   {
    "duration": 7,
    "start_time": "2025-08-18T16:44:41.348Z"
   },
   {
    "duration": 254,
    "start_time": "2025-08-18T16:44:42.070Z"
   },
   {
    "duration": 9,
    "start_time": "2025-08-18T16:44:47.169Z"
   },
   {
    "duration": 12,
    "start_time": "2025-08-18T16:44:57.628Z"
   },
   {
    "duration": 4,
    "start_time": "2025-08-18T16:45:34.332Z"
   },
   {
    "duration": 12,
    "start_time": "2025-08-18T16:45:40.173Z"
   },
   {
    "duration": 3,
    "start_time": "2025-08-18T16:46:27.652Z"
   },
   {
    "duration": 12,
    "start_time": "2025-08-18T16:46:41.853Z"
   },
   {
    "duration": 8,
    "start_time": "2025-08-18T16:50:36.361Z"
   },
   {
    "duration": 10,
    "start_time": "2025-08-18T16:51:16.795Z"
   },
   {
    "duration": 172,
    "start_time": "2025-08-18T16:51:42.234Z"
   },
   {
    "duration": 95,
    "start_time": "2025-08-18T16:53:16.986Z"
   },
   {
    "duration": 201,
    "start_time": "2025-08-18T16:53:50.374Z"
   },
   {
    "duration": 85,
    "start_time": "2025-08-18T16:54:00.751Z"
   },
   {
    "duration": 89,
    "start_time": "2025-08-18T16:54:17.140Z"
   },
   {
    "duration": 100,
    "start_time": "2025-08-18T16:54:43.471Z"
   },
   {
    "duration": 91,
    "start_time": "2025-08-18T16:54:52.272Z"
   },
   {
    "duration": 13,
    "start_time": "2025-08-18T16:55:27.315Z"
   },
   {
    "duration": 13,
    "start_time": "2025-08-18T16:55:38.126Z"
   },
   {
    "duration": 182,
    "start_time": "2025-08-18T16:55:46.252Z"
   },
   {
    "duration": 8,
    "start_time": "2025-08-18T17:01:27.281Z"
   },
   {
    "duration": 16,
    "start_time": "2025-08-18T17:01:47.782Z"
   },
   {
    "duration": 152,
    "start_time": "2025-08-18T17:05:59.680Z"
   },
   {
    "duration": 157,
    "start_time": "2025-08-18T17:06:15.943Z"
   },
   {
    "duration": 247,
    "start_time": "2025-08-18T17:10:38.553Z"
   },
   {
    "duration": 229,
    "start_time": "2025-08-18T17:11:14.780Z"
   },
   {
    "duration": 244,
    "start_time": "2025-08-18T17:13:21.161Z"
   },
   {
    "duration": 207,
    "start_time": "2025-08-18T17:13:43.120Z"
   },
   {
    "duration": 346,
    "start_time": "2025-08-18T17:14:12.836Z"
   },
   {
    "duration": 274,
    "start_time": "2025-08-18T17:14:20.144Z"
   },
   {
    "duration": 32,
    "start_time": "2025-08-18T17:15:34.636Z"
   },
   {
    "duration": 17,
    "start_time": "2025-08-18T17:15:58.597Z"
   },
   {
    "duration": 22,
    "start_time": "2025-08-18T17:20:31.024Z"
   },
   {
    "duration": 28,
    "start_time": "2025-08-18T17:20:39.069Z"
   },
   {
    "duration": 14,
    "start_time": "2025-08-18T17:21:36.821Z"
   },
   {
    "duration": 871,
    "start_time": "2025-08-18T17:22:59.445Z"
   },
   {
    "duration": 299,
    "start_time": "2025-08-18T17:23:28.310Z"
   },
   {
    "duration": 86,
    "start_time": "2025-08-18T17:26:53.955Z"
   },
   {
    "duration": 4017,
    "start_time": "2025-08-18T17:27:35.502Z"
   },
   {
    "duration": 3828,
    "start_time": "2025-08-18T17:29:57.486Z"
   },
   {
    "duration": 105,
    "start_time": "2025-08-18T17:30:03.076Z"
   },
   {
    "duration": 391,
    "start_time": "2025-08-18T17:30:24.244Z"
   },
   {
    "duration": 213,
    "start_time": "2025-08-18T17:30:24.691Z"
   },
   {
    "duration": 62,
    "start_time": "2025-08-18T17:30:25.041Z"
   },
   {
    "duration": 12,
    "start_time": "2025-08-18T17:30:31.708Z"
   },
   {
    "duration": 2693,
    "start_time": "2025-08-18T17:30:50.318Z"
   },
   {
    "duration": 52,
    "start_time": "2025-08-18T17:34:34.858Z"
   },
   {
    "duration": 1226,
    "start_time": "2025-08-18T17:34:49.641Z"
   },
   {
    "duration": 152,
    "start_time": "2025-08-18T17:34:50.873Z"
   },
   {
    "duration": 53,
    "start_time": "2025-08-18T17:34:51.027Z"
   },
   {
    "duration": 10,
    "start_time": "2025-08-18T17:34:57.689Z"
   },
   {
    "duration": 75,
    "start_time": "2025-08-18T17:35:08.327Z"
   },
   {
    "duration": 2755,
    "start_time": "2025-08-18T17:35:15.115Z"
   },
   {
    "duration": 62,
    "start_time": "2025-08-18T17:36:26.130Z"
   },
   {
    "duration": 1277,
    "start_time": "2025-08-18T17:36:36.892Z"
   },
   {
    "duration": 134,
    "start_time": "2025-08-18T17:36:38.174Z"
   },
   {
    "duration": 45,
    "start_time": "2025-08-18T17:36:38.309Z"
   },
   {
    "duration": 11,
    "start_time": "2025-08-18T17:36:46.295Z"
   },
   {
    "duration": 2652,
    "start_time": "2025-08-18T17:37:04.546Z"
   },
   {
    "duration": 3774,
    "start_time": "2025-08-18T17:40:14.848Z"
   },
   {
    "duration": 103,
    "start_time": "2025-08-18T17:40:18.624Z"
   },
   {
    "duration": 372,
    "start_time": "2025-08-18T17:40:30.959Z"
   },
   {
    "duration": 119,
    "start_time": "2025-08-18T17:40:31.382Z"
   },
   {
    "duration": 44,
    "start_time": "2025-08-18T17:40:31.702Z"
   },
   {
    "duration": 12,
    "start_time": "2025-08-18T17:40:36.708Z"
   },
   {
    "duration": 2630,
    "start_time": "2025-08-18T17:40:52.784Z"
   },
   {
    "duration": 79,
    "start_time": "2025-08-18T17:41:57.995Z"
   },
   {
    "duration": 1250,
    "start_time": "2025-08-18T17:42:06.235Z"
   },
   {
    "duration": 140,
    "start_time": "2025-08-18T17:42:07.487Z"
   },
   {
    "duration": 53,
    "start_time": "2025-08-18T17:42:07.629Z"
   },
   {
    "duration": 15,
    "start_time": "2025-08-18T17:42:13.977Z"
   },
   {
    "duration": 2713,
    "start_time": "2025-08-18T17:42:22.705Z"
   },
   {
    "duration": 66,
    "start_time": "2025-08-18T17:43:04.134Z"
   },
   {
    "duration": 1307,
    "start_time": "2025-08-18T17:43:28.439Z"
   },
   {
    "duration": 118,
    "start_time": "2025-08-18T17:43:29.748Z"
   },
   {
    "duration": 97,
    "start_time": "2025-08-18T17:43:29.867Z"
   },
   {
    "duration": 15,
    "start_time": "2025-08-18T17:43:43.526Z"
   },
   {
    "duration": 2707,
    "start_time": "2025-08-18T17:43:56.712Z"
   },
   {
    "duration": 1355,
    "start_time": "2025-08-18T17:45:20.221Z"
   },
   {
    "duration": 123,
    "start_time": "2025-08-18T17:45:21.578Z"
   },
   {
    "duration": 51,
    "start_time": "2025-08-18T17:45:21.703Z"
   },
   {
    "duration": 14,
    "start_time": "2025-08-18T17:45:25.800Z"
   },
   {
    "duration": 3017,
    "start_time": "2025-08-18T17:45:49.867Z"
   },
   {
    "duration": 66,
    "start_time": "2025-08-18T17:46:30.956Z"
   },
   {
    "duration": 1322,
    "start_time": "2025-08-18T17:46:40.647Z"
   },
   {
    "duration": 121,
    "start_time": "2025-08-18T17:46:41.973Z"
   },
   {
    "duration": 39,
    "start_time": "2025-08-18T17:46:42.096Z"
   },
   {
    "duration": 11,
    "start_time": "2025-08-18T17:46:48.010Z"
   },
   {
    "duration": 2768,
    "start_time": "2025-08-18T17:47:12.726Z"
   },
   {
    "duration": 190,
    "start_time": "2025-08-18T17:51:09.642Z"
   },
   {
    "duration": 47,
    "start_time": "2025-08-18T17:51:23.781Z"
   },
   {
    "duration": 1898,
    "start_time": "2025-08-18T17:53:41.351Z"
   },
   {
    "duration": 1233,
    "start_time": "2025-08-18T17:55:59.783Z"
   },
   {
    "duration": 14,
    "start_time": "2025-08-18T17:56:07.091Z"
   },
   {
    "duration": 22,
    "start_time": "2025-08-18T17:56:37.155Z"
   },
   {
    "duration": 276,
    "start_time": "2025-08-18T17:57:14.902Z"
   },
   {
    "duration": 267,
    "start_time": "2025-08-18T17:58:16.284Z"
   },
   {
    "duration": 7,
    "start_time": "2025-08-18T18:00:59.477Z"
   },
   {
    "duration": 290,
    "start_time": "2025-08-18T18:01:22.035Z"
   },
   {
    "duration": 328,
    "start_time": "2025-08-18T18:02:08.258Z"
   },
   {
    "duration": 161,
    "start_time": "2025-08-18T18:04:36.792Z"
   },
   {
    "duration": 1224,
    "start_time": "2025-08-18T18:13:04.676Z"
   },
   {
    "duration": 197,
    "start_time": "2025-08-18T18:13:05.902Z"
   },
   {
    "duration": 67,
    "start_time": "2025-08-18T18:13:06.101Z"
   },
   {
    "duration": 15,
    "start_time": "2025-08-18T18:13:06.170Z"
   },
   {
    "duration": 34,
    "start_time": "2025-08-18T18:13:06.187Z"
   },
   {
    "duration": 10,
    "start_time": "2025-08-18T18:13:06.222Z"
   },
   {
    "duration": 29,
    "start_time": "2025-08-18T18:13:06.233Z"
   },
   {
    "duration": 13,
    "start_time": "2025-08-18T18:13:06.263Z"
   },
   {
    "duration": 9,
    "start_time": "2025-08-18T18:13:06.277Z"
   },
   {
    "duration": 11,
    "start_time": "2025-08-18T18:13:06.288Z"
   },
   {
    "duration": 25,
    "start_time": "2025-08-18T18:13:06.301Z"
   },
   {
    "duration": 7,
    "start_time": "2025-08-18T18:13:06.328Z"
   },
   {
    "duration": 12,
    "start_time": "2025-08-18T18:13:06.336Z"
   },
   {
    "duration": 37,
    "start_time": "2025-08-18T18:13:06.355Z"
   },
   {
    "duration": 8,
    "start_time": "2025-08-18T18:13:06.393Z"
   },
   {
    "duration": 45,
    "start_time": "2025-08-18T18:13:06.403Z"
   },
   {
    "duration": 111,
    "start_time": "2025-08-18T18:13:06.456Z"
   },
   {
    "duration": 9,
    "start_time": "2025-08-18T18:13:06.569Z"
   },
   {
    "duration": 7,
    "start_time": "2025-08-18T18:13:06.580Z"
   },
   {
    "duration": 6,
    "start_time": "2025-08-18T18:13:06.589Z"
   },
   {
    "duration": 230,
    "start_time": "2025-08-18T18:13:06.597Z"
   },
   {
    "duration": 12,
    "start_time": "2025-08-18T18:13:06.829Z"
   },
   {
    "duration": 29,
    "start_time": "2025-08-18T18:13:06.843Z"
   },
   {
    "duration": 318,
    "start_time": "2025-08-18T18:13:06.874Z"
   },
   {
    "duration": 9,
    "start_time": "2025-08-18T18:13:07.194Z"
   },
   {
    "duration": 177,
    "start_time": "2025-08-18T18:13:07.205Z"
   },
   {
    "duration": 174,
    "start_time": "2025-08-18T18:13:07.384Z"
   },
   {
    "duration": 132,
    "start_time": "2025-08-18T18:13:07.564Z"
   },
   {
    "duration": 212,
    "start_time": "2025-08-18T18:13:07.698Z"
   },
   {
    "duration": 167,
    "start_time": "2025-08-18T18:13:07.912Z"
   },
   {
    "duration": 235,
    "start_time": "2025-08-18T18:13:08.081Z"
   },
   {
    "duration": 301,
    "start_time": "2025-08-18T18:13:08.318Z"
   },
   {
    "duration": 2735,
    "start_time": "2025-08-18T18:13:08.621Z"
   },
   {
    "duration": 347,
    "start_time": "2025-08-18T18:13:11.358Z"
   },
   {
    "duration": 15,
    "start_time": "2025-08-18T18:13:11.706Z"
   },
   {
    "duration": 894,
    "start_time": "2025-08-18T18:13:11.722Z"
   },
   {
    "duration": 301,
    "start_time": "2025-08-18T18:13:12.618Z"
   },
   {
    "duration": 259,
    "start_time": "2025-08-18T18:13:12.921Z"
   },
   {
    "duration": 252,
    "start_time": "2025-08-18T18:13:13.182Z"
   },
   {
    "duration": 125,
    "start_time": "2025-08-18T18:16:26.746Z"
   },
   {
    "duration": 2,
    "start_time": "2025-08-18T18:16:42.309Z"
   },
   {
    "duration": 136,
    "start_time": "2025-08-18T18:16:42.631Z"
   },
   {
    "duration": 52,
    "start_time": "2025-08-18T18:16:42.981Z"
   },
   {
    "duration": 12,
    "start_time": "2025-08-18T18:16:47.472Z"
   },
   {
    "duration": 17,
    "start_time": "2025-08-18T18:17:52.204Z"
   },
   {
    "duration": 199,
    "start_time": "2025-08-18T18:18:50.795Z"
   },
   {
    "duration": 23,
    "start_time": "2025-08-18T18:19:00.848Z"
   },
   {
    "duration": 198,
    "start_time": "2025-08-18T18:19:06.684Z"
   },
   {
    "duration": 200,
    "start_time": "2025-08-18T18:19:29.884Z"
   },
   {
    "duration": 202,
    "start_time": "2025-08-18T18:19:42.491Z"
   },
   {
    "duration": 1570,
    "start_time": "2025-08-19T17:28:46.645Z"
   },
   {
    "duration": 108,
    "start_time": "2025-08-19T17:28:48.216Z"
   },
   {
    "duration": 50,
    "start_time": "2025-08-19T17:28:48.326Z"
   },
   {
    "duration": 13,
    "start_time": "2025-08-19T17:28:55.415Z"
   },
   {
    "duration": 3872,
    "start_time": "2025-08-19T17:29:15.788Z"
   },
   {
    "duration": 132,
    "start_time": "2025-08-19T17:30:36.597Z"
   },
   {
    "duration": 11,
    "start_time": "2025-08-19T17:30:57.339Z"
   },
   {
    "duration": 32,
    "start_time": "2025-08-19T17:31:07.733Z"
   },
   {
    "duration": 2722,
    "start_time": "2025-08-19T17:31:17.208Z"
   },
   {
    "duration": 33,
    "start_time": "2025-08-19T17:31:19.933Z"
   },
   {
    "duration": 3,
    "start_time": "2025-08-19T17:31:44.639Z"
   },
   {
    "duration": 148,
    "start_time": "2025-08-19T17:31:45.092Z"
   },
   {
    "duration": 47,
    "start_time": "2025-08-19T17:31:45.353Z"
   },
   {
    "duration": 18,
    "start_time": "2025-08-19T17:31:47.729Z"
   },
   {
    "duration": 16,
    "start_time": "2025-08-19T17:31:48.031Z"
   },
   {
    "duration": 11,
    "start_time": "2025-08-19T17:31:48.684Z"
   },
   {
    "duration": 13,
    "start_time": "2025-08-19T17:31:49.084Z"
   },
   {
    "duration": 11,
    "start_time": "2025-08-19T17:31:50.543Z"
   },
   {
    "duration": 11,
    "start_time": "2025-08-19T17:31:52.430Z"
   },
   {
    "duration": 11,
    "start_time": "2025-08-19T17:31:53.030Z"
   },
   {
    "duration": 7,
    "start_time": "2025-08-19T17:31:54.171Z"
   },
   {
    "duration": 9,
    "start_time": "2025-08-19T17:31:54.380Z"
   },
   {
    "duration": 7,
    "start_time": "2025-08-19T17:31:54.605Z"
   },
   {
    "duration": 16,
    "start_time": "2025-08-19T17:31:55.057Z"
   },
   {
    "duration": 10,
    "start_time": "2025-08-19T17:31:55.603Z"
   },
   {
    "duration": 7,
    "start_time": "2025-08-19T17:31:56.538Z"
   },
   {
    "duration": 21,
    "start_time": "2025-08-19T17:31:57.073Z"
   },
   {
    "duration": 4,
    "start_time": "2025-08-19T17:31:58.987Z"
   },
   {
    "duration": 7,
    "start_time": "2025-08-19T17:31:59.225Z"
   },
   {
    "duration": 6,
    "start_time": "2025-08-19T17:31:59.955Z"
   },
   {
    "duration": 204,
    "start_time": "2025-08-19T17:33:51.937Z"
   },
   {
    "duration": 4,
    "start_time": "2025-08-19T17:33:58.160Z"
   },
   {
    "duration": 7,
    "start_time": "2025-08-19T17:33:58.900Z"
   },
   {
    "duration": 323,
    "start_time": "2025-08-19T17:33:59.836Z"
   },
   {
    "duration": 9,
    "start_time": "2025-08-19T17:34:02.554Z"
   },
   {
    "duration": 180,
    "start_time": "2025-08-19T17:34:04.552Z"
   },
   {
    "duration": 136,
    "start_time": "2025-08-19T17:34:07.726Z"
   },
   {
    "duration": 101,
    "start_time": "2025-08-19T17:34:09.636Z"
   },
   {
    "duration": 215,
    "start_time": "2025-08-19T17:34:11.831Z"
   },
   {
    "duration": 161,
    "start_time": "2025-08-19T17:34:15.142Z"
   },
   {
    "duration": 316,
    "start_time": "2025-08-19T17:34:17.038Z"
   },
   {
    "duration": 215,
    "start_time": "2025-08-19T17:34:30.030Z"
   },
   {
    "duration": 2709,
    "start_time": "2025-08-19T17:34:36.741Z"
   },
   {
    "duration": 39,
    "start_time": "2025-08-19T17:34:39.452Z"
   },
   {
    "duration": 24,
    "start_time": "2025-08-19T17:34:48.498Z"
   },
   {
    "duration": 1963,
    "start_time": "2025-08-19T17:36:08.385Z"
   },
   {
    "duration": 207,
    "start_time": "2025-08-19T17:36:28.597Z"
   },
   {
    "duration": 303,
    "start_time": "2025-08-19T17:39:06.982Z"
   },
   {
    "duration": 203,
    "start_time": "2025-08-19T17:39:46.604Z"
   },
   {
    "duration": 145,
    "start_time": "2025-08-19T17:44:24.594Z"
   },
   {
    "duration": 166,
    "start_time": "2025-08-19T17:47:56.482Z"
   },
   {
    "duration": 241,
    "start_time": "2025-08-19T17:50:09.780Z"
   },
   {
    "duration": 243,
    "start_time": "2025-08-19T17:50:28.709Z"
   }
  ],
  "colab": {
   "provenance": []
  },
  "kernelspec": {
   "display_name": "Python 3 (ipykernel)",
   "language": "python",
   "name": "python3"
  },
  "language_info": {
   "codemirror_mode": {
    "name": "ipython",
    "version": 3
   },
   "file_extension": ".py",
   "mimetype": "text/x-python",
   "name": "python",
   "nbconvert_exporter": "python",
   "pygments_lexer": "ipython3",
   "version": "3.9.5"
  },
  "toc": {
   "base_numbering": 1,
   "nav_menu": {},
   "number_sections": true,
   "sideBar": true,
   "skip_h1_title": true,
   "title_cell": "Table of Contents",
   "title_sidebar": "Contents",
   "toc_cell": false,
   "toc_position": {
    "height": "calc(100% - 180px)",
    "left": "10px",
    "top": "150px",
    "width": "284.8px"
   },
   "toc_section_display": true,
   "toc_window_display": false
  }
 },
 "nbformat": 4,
 "nbformat_minor": 5
}
